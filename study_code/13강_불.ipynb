{
  "nbformat": 4,
  "nbformat_minor": 0,
  "metadata": {
    "colab": {
      "name": "13강 - 불.ipynb",
      "provenance": [],
      "authorship_tag": "ABX9TyN+S0sf+26dG+VonZsflzTo",
      "include_colab_link": true
    },
    "kernelspec": {
      "name": "python3",
      "display_name": "Python 3"
    }
  },
  "cells": [
    {
      "cell_type": "markdown",
      "metadata": {
        "id": "view-in-github",
        "colab_type": "text"
      },
      "source": [
        "<a href=\"https://colab.research.google.com/github/anew0m/Book_PythonToStudyAlone/blob/main/study_code/13%EA%B0%95_%EB%B6%88.ipynb\" target=\"_parent\"><img src=\"https://colab.research.google.com/assets/colab-badge.svg\" alt=\"Open In Colab\"/></a>"
      ]
    },
    {
      "cell_type": "markdown",
      "metadata": {
        "id": "RBHVHtdgH_3D"
      },
      "source": [
        "# 13강 - 불"
      ]
    },
    {
      "cell_type": "markdown",
      "metadata": {
        "id": "sGDQ0etmICTU"
      },
      "source": [
        "1. 불 자료형(Boolean)\n",
        "2. 불 자료형을 만드는 연산자 = 비교 연산자\n",
        "3. 불 자료형에 적용하는 연산자 = 논리 연산자"
      ]
    },
    {
      "cell_type": "markdown",
      "metadata": {
        "id": "HoCzoHD7KaQ-"
      },
      "source": [
        "## 불을 만들어 내는 연산자 = 비교 연산자 "
      ]
    },
    {
      "cell_type": "markdown",
      "metadata": {
        "id": "Cqn4XlfHLM6y"
      },
      "source": [
        "* \" ==\n",
        "* \" !=\n",
        "* \" >\n",
        "* \" <\n",
        "* \" >=\n",
        "* \" <="
      ]
    },
    {
      "cell_type": "code",
      "metadata": {
        "id": "BF2g3nRtLPm7",
        "outputId": "53df4f96-f753-499b-81c5-08dfedd2c6ac",
        "colab": {
          "base_uri": "https://localhost:8080/",
          "height": 126
        }
      },
      "source": [
        "print(10 == 100)\n",
        "print(10 != 100)\n",
        "print(10 > 100 )\n",
        "print(10 < 100 )\n",
        "print(10 >= 100)\n",
        "print(10 <= 100)"
      ],
      "execution_count": 2,
      "outputs": [
        {
          "output_type": "stream",
          "text": [
            "False\n",
            "True\n",
            "False\n",
            "True\n",
            "False\n",
            "True\n"
          ],
          "name": "stdout"
        }
      ]
    },
    {
      "cell_type": "markdown",
      "metadata": {
        "id": "ZGf-xo7LLn33"
      },
      "source": [
        "* 파이썬에서는 True / False"
      ]
    },
    {
      "cell_type": "code",
      "metadata": {
        "id": "MtbnvlBXL23q",
        "outputId": "b58ecdab-210c-4d3a-81c0-009a91be5c85",
        "colab": {
          "base_uri": "https://localhost:8080/",
          "height": 35
        }
      },
      "source": [
        "x = 20\n",
        "10 < x < 20"
      ],
      "execution_count": 4,
      "outputs": [
        {
          "output_type": "execute_result",
          "data": {
            "text/plain": [
              "False"
            ]
          },
          "metadata": {
            "tags": []
          },
          "execution_count": 4
        }
      ]
    },
    {
      "cell_type": "code",
      "metadata": {
        "id": "ntvo21MQL_Bx",
        "outputId": "4fbb1fa8-14df-46c3-c05f-851d580a7809",
        "colab": {
          "base_uri": "https://localhost:8080/",
          "height": 35
        }
      },
      "source": [
        "10 < x and x < 20"
      ],
      "execution_count": 5,
      "outputs": [
        {
          "output_type": "execute_result",
          "data": {
            "text/plain": [
              "False"
            ]
          },
          "metadata": {
            "tags": []
          },
          "execution_count": 5
        }
      ]
    },
    {
      "cell_type": "markdown",
      "metadata": {
        "id": "0G-YHObqMBgK"
      },
      "source": [
        "## 불끼리 하는 연산자 = 논리 연산자"
      ]
    },
    {
      "cell_type": "markdown",
      "metadata": {
        "id": "fpbQTnX-MHif"
      },
      "source": [
        "단항 연산자\n",
        "* not\n",
        "* not True = False\n",
        "* not False = True\n",
        "\n"
      ]
    },
    {
      "cell_type": "markdown",
      "metadata": {
        "id": "_iJHJbuLMOrH"
      },
      "source": [
        "이항 연산자\n",
        "* True and True\n",
        "* True or True"
      ]
    },
    {
      "cell_type": "code",
      "metadata": {
        "id": "dhInlwRnMuZs",
        "outputId": "a131b147-88b6-4291-a040-079bf07dec13",
        "colab": {
          "base_uri": "https://localhost:8080/",
          "height": 90
        }
      },
      "source": [
        "print(True  and True )\n",
        "print(True  and False)\n",
        "print(False and True )\n",
        "print(False and False)"
      ],
      "execution_count": 7,
      "outputs": [
        {
          "output_type": "stream",
          "text": [
            "True\n",
            "False\n",
            "False\n",
            "False\n"
          ],
          "name": "stdout"
        }
      ]
    },
    {
      "cell_type": "code",
      "metadata": {
        "id": "E6VLTvX4M5rj",
        "outputId": "2c5cc79c-12df-4f16-dc1b-b68cdc9ba199",
        "colab": {
          "base_uri": "https://localhost:8080/",
          "height": 90
        }
      },
      "source": [
        "print(True  or True )\n",
        "print(True  or False)\n",
        "print(False or True )\n",
        "print(False or False)"
      ],
      "execution_count": 8,
      "outputs": [
        {
          "output_type": "stream",
          "text": [
            "True\n",
            "True\n",
            "True\n",
            "False\n"
          ],
          "name": "stdout"
        }
      ]
    },
    {
      "cell_type": "code",
      "metadata": {
        "id": "zFZO_5YGM9b-",
        "outputId": "1b85e99a-1678-4384-9b5d-489f57dd3604",
        "colab": {
          "base_uri": "https://localhost:8080/",
          "height": 136
        }
      },
      "source": [
        "print(True  && True )\n",
        "print(True  && False)\n",
        "print(False && True )\n",
        "print(False && False)"
      ],
      "execution_count": 9,
      "outputs": [
        {
          "output_type": "error",
          "ename": "SyntaxError",
          "evalue": "ignored",
          "traceback": [
            "\u001b[0;36m  File \u001b[0;32m\"<ipython-input-9-f63518fe72db>\"\u001b[0;36m, line \u001b[0;32m1\u001b[0m\n\u001b[0;31m    print(True  && True )\u001b[0m\n\u001b[0m                 ^\u001b[0m\n\u001b[0;31mSyntaxError\u001b[0m\u001b[0;31m:\u001b[0m invalid syntax\n"
          ]
        }
      ]
    },
    {
      "cell_type": "code",
      "metadata": {
        "id": "KfwpRO-bNM6c",
        "outputId": "e1c2c288-a68b-4d93-c9db-2c0d96fd6dec",
        "colab": {
          "base_uri": "https://localhost:8080/",
          "height": 136
        }
      },
      "source": [
        "print(True  || True )\n",
        "print(True  || False)\n",
        "print(False || True )\n",
        "print(False || False)"
      ],
      "execution_count": 10,
      "outputs": [
        {
          "output_type": "error",
          "ename": "SyntaxError",
          "evalue": "ignored",
          "traceback": [
            "\u001b[0;36m  File \u001b[0;32m\"<ipython-input-10-46a398af9e24>\"\u001b[0;36m, line \u001b[0;32m1\u001b[0m\n\u001b[0;31m    print(True  || True )\u001b[0m\n\u001b[0m                 ^\u001b[0m\n\u001b[0;31mSyntaxError\u001b[0m\u001b[0;31m:\u001b[0m invalid syntax\n"
          ]
        }
      ]
    },
    {
      "cell_type": "code",
      "metadata": {
        "id": "EiF3rm1hNOuh",
        "outputId": "9bd0709b-c5ba-483f-f045-47bb45ef3bef",
        "colab": {
          "base_uri": "https://localhost:8080/",
          "height": 35
        }
      },
      "source": [
        "not True"
      ],
      "execution_count": 11,
      "outputs": [
        {
          "output_type": "execute_result",
          "data": {
            "text/plain": [
              "False"
            ]
          },
          "metadata": {
            "tags": []
          },
          "execution_count": 11
        }
      ]
    },
    {
      "cell_type": "code",
      "metadata": {
        "id": "T636xNk5NScL",
        "outputId": "e8f0193a-070d-48c0-bbd0-9ad13c140c8d",
        "colab": {
          "base_uri": "https://localhost:8080/",
          "height": 35
        }
      },
      "source": [
        "not False"
      ],
      "execution_count": 12,
      "outputs": [
        {
          "output_type": "execute_result",
          "data": {
            "text/plain": [
              "True"
            ]
          },
          "metadata": {
            "tags": []
          },
          "execution_count": 12
        }
      ]
    },
    {
      "cell_type": "code",
      "metadata": {
        "id": "CF4saFXzNTD_"
      },
      "source": [
        "age = 20\n",
        "under_25 = age < 25"
      ],
      "execution_count": 13,
      "outputs": []
    },
    {
      "cell_type": "code",
      "metadata": {
        "id": "q5HD1vVrNX1S",
        "outputId": "ccd79d0c-57df-4b0c-c3da-516f45e19176",
        "colab": {
          "base_uri": "https://localhost:8080/",
          "height": 35
        }
      },
      "source": [
        "under_25"
      ],
      "execution_count": 14,
      "outputs": [
        {
          "output_type": "execute_result",
          "data": {
            "text/plain": [
              "True"
            ]
          },
          "metadata": {
            "tags": []
          },
          "execution_count": 14
        }
      ]
    },
    {
      "cell_type": "code",
      "metadata": {
        "id": "tyCM6dv3NY7z",
        "outputId": "b00f90da-7345-4c19-e96d-c9204dcdb658",
        "colab": {
          "base_uri": "https://localhost:8080/",
          "height": 35
        }
      },
      "source": [
        "not under_25"
      ],
      "execution_count": 15,
      "outputs": [
        {
          "output_type": "execute_result",
          "data": {
            "text/plain": [
              "False"
            ]
          },
          "metadata": {
            "tags": []
          },
          "execution_count": 15
        }
      ]
    },
    {
      "cell_type": "code",
      "metadata": {
        "id": "iKieGx6eNawm",
        "outputId": "0cf264ff-de93-4ef2-b889-44e77fa08c62",
        "colab": {
          "base_uri": "https://localhost:8080/",
          "height": 35
        }
      },
      "source": [
        "True and True"
      ],
      "execution_count": 16,
      "outputs": [
        {
          "output_type": "execute_result",
          "data": {
            "text/plain": [
              "True"
            ]
          },
          "metadata": {
            "tags": []
          },
          "execution_count": 16
        }
      ]
    },
    {
      "cell_type": "code",
      "metadata": {
        "id": "KE0L6yzyNefe",
        "outputId": "aa5411be-2abc-420b-8418-fb0c2c43c961",
        "colab": {
          "base_uri": "https://localhost:8080/",
          "height": 35
        }
      },
      "source": [
        "True or False"
      ],
      "execution_count": 17,
      "outputs": [
        {
          "output_type": "execute_result",
          "data": {
            "text/plain": [
              "True"
            ]
          },
          "metadata": {
            "tags": []
          },
          "execution_count": 17
        }
      ]
    },
    {
      "cell_type": "markdown",
      "metadata": {
        "id": "c333KXc_Nk4Q"
      },
      "source": [
        "* and 그리고\n",
        "* or 또는"
      ]
    },
    {
      "cell_type": "code",
      "metadata": {
        "id": "FyzJiAPaN_pw"
      },
      "source": [
        ""
      ],
      "execution_count": null,
      "outputs": []
    }
  ]
}