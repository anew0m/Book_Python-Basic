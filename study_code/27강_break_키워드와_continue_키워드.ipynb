{
  "nbformat": 4,
  "nbformat_minor": 0,
  "metadata": {
    "colab": {
      "name": "27강 - break 키워드와 continue 키워드.ipynb",
      "provenance": [],
      "authorship_tag": "ABX9TyMnvZX24BJWHptlbvWL8s8e",
      "include_colab_link": true
    },
    "kernelspec": {
      "name": "python3",
      "display_name": "Python 3"
    }
  },
  "cells": [
    {
      "cell_type": "markdown",
      "metadata": {
        "id": "view-in-github",
        "colab_type": "text"
      },
      "source": [
        "<a href=\"https://colab.research.google.com/github/anew0m/Book_Python-Basic/blob/main/study_code/27%EA%B0%95_break_%ED%82%A4%EC%9B%8C%EB%93%9C%EC%99%80_continue_%ED%82%A4%EC%9B%8C%EB%93%9C.ipynb\" target=\"_parent\"><img src=\"https://colab.research.google.com/assets/colab-badge.svg\" alt=\"Open In Colab\"/></a>"
      ]
    },
    {
      "cell_type": "markdown",
      "metadata": {
        "id": "mZKUCB5XK98E"
      },
      "source": [
        "# 27강 - break 키워드와 continue 키워드"
      ]
    },
    {
      "cell_type": "markdown",
      "metadata": {
        "id": "XadDIGsgLCwx"
      },
      "source": [
        "## break 키워드"
      ]
    },
    {
      "cell_type": "code",
      "metadata": {
        "id": "dUmbcGtsLNqD",
        "outputId": "4dfa72a2-4d92-488c-f86f-4b8636d37499",
        "colab": {
          "base_uri": "https://localhost:8080/",
          "height": 35
        }
      },
      "source": [
        "while True :\n",
        "  print(\"A\")\n",
        "  break"
      ],
      "execution_count": 2,
      "outputs": [
        {
          "output_type": "stream",
          "text": [
            "A\n"
          ],
          "name": "stdout"
        }
      ]
    },
    {
      "cell_type": "markdown",
      "metadata": {
        "id": "iQZ-lLUSLSOH"
      },
      "source": [
        "## continue 키워드"
      ]
    },
    {
      "cell_type": "code",
      "metadata": {
        "id": "WMUxvhnCLZb_",
        "outputId": "769bdf45-b472-46c5-b436-e5e413343c63",
        "colab": {
          "base_uri": "https://localhost:8080/",
          "height": 72
        }
      },
      "source": [
        "numbers = [5, 15, 6, 20, 7, 25]\n",
        "\n",
        "for number in numbers :\n",
        "  if number < 10 :\n",
        "    continue\n",
        "  print(number)"
      ],
      "execution_count": 4,
      "outputs": [
        {
          "output_type": "stream",
          "text": [
            "15\n",
            "20\n",
            "25\n"
          ],
          "name": "stdout"
        }
      ]
    },
    {
      "cell_type": "code",
      "metadata": {
        "id": "p_QYAT91LpMQ"
      },
      "source": [
        ""
      ],
      "execution_count": null,
      "outputs": []
    }
  ]
}