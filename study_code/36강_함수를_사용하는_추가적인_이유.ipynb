{
  "nbformat": 4,
  "nbformat_minor": 0,
  "metadata": {
    "colab": {
      "name": "36강 - 함수를 사용하는 추가적인 이유.ipynb",
      "provenance": [],
      "authorship_tag": "ABX9TyNLn9Ek9oBFlLIklFW+LYfH",
      "include_colab_link": true
    },
    "kernelspec": {
      "name": "python3",
      "display_name": "Python 3"
    }
  },
  "cells": [
    {
      "cell_type": "markdown",
      "metadata": {
        "id": "view-in-github",
        "colab_type": "text"
      },
      "source": [
        "<a href=\"https://colab.research.google.com/github/anew0m/Book_Python-Basic/blob/main/study_code/36%EA%B0%95_%ED%95%A8%EC%88%98%EB%A5%BC_%EC%82%AC%EC%9A%A9%ED%95%98%EB%8A%94_%EC%B6%94%EA%B0%80%EC%A0%81%EC%9D%B8_%EC%9D%B4%EC%9C%A0.ipynb\" target=\"_parent\"><img src=\"https://colab.research.google.com/assets/colab-badge.svg\" alt=\"Open In Colab\"/></a>"
      ]
    },
    {
      "cell_type": "markdown",
      "metadata": {
        "id": "AuB7ElSouR7z"
      },
      "source": [
        "# 36강 - 함수를 사용하는 추가적인 이유"
      ]
    },
    {
      "cell_type": "markdown",
      "metadata": {
        "id": "vRrOfdx7uUPS"
      },
      "source": [
        "## 확인문제 1번"
      ]
    },
    {
      "cell_type": "markdown",
      "metadata": {
        "id": "VY7CmNx0ub7R"
      },
      "source": [
        "리스트 평탄화(flatten)\n",
        "* 중첩된 리스트가 있을 때 중첩을 모두 제거하고 풀어서 1차원 리스트로 만드는 것"
      ]
    },
    {
      "cell_type": "code",
      "metadata": {
        "id": "zXSWAR3EugMh",
        "outputId": "96c530ce-a1a8-4915-d4a6-9689b81722f7",
        "colab": {
          "base_uri": "https://localhost:8080/",
          "height": 53
        }
      },
      "source": [
        "def flatten(data) :\n",
        "  pass\n",
        "\n",
        "example = [[1, 2, 3], [4, [5, 6]], [7, [8, 9]]]\n",
        "print(\"원본 : \", example)\n",
        "#print(\"변환 : \", flatten(example))\n",
        "print(\"변환 : [1, 2, 3, 4, 5, 6, 7, 8, 9]\")\n"
      ],
      "execution_count": 3,
      "outputs": [
        {
          "output_type": "stream",
          "text": [
            "원본 :  [[1, 2, 3], [4, [5, 6]], [7, [8, 9]]]\n",
            "변환 : [1, 2, 3, 4, 5, 6, 7, 8, 9]\n"
          ],
          "name": "stdout"
        }
      ]
    },
    {
      "cell_type": "code",
      "metadata": {
        "id": "vYPtDN_lu0Ar",
        "outputId": "ad06a4e8-bf8e-4c31-8381-b3c553568c53",
        "colab": {
          "base_uri": "https://localhost:8080/",
          "height": 53
        }
      },
      "source": [
        "flatten_data = []\n",
        "\n",
        "def flatten(data_list) :\n",
        "  # print(\"data_list\", end = \" : \")\n",
        "  # print(data_list)\n",
        "\n",
        "  for data in data_list :\n",
        "    # print(\"data\", end = \" : \")\n",
        "    # print(data)\n",
        "\n",
        "    if type(data) is int :\n",
        "      # print(\"append_int\")\n",
        "      flatten_data.append(data)\n",
        "    elif type(data) is str :\n",
        "      # print(\"append_str\")\n",
        "      flatten_data.append(int(data))\n",
        "    elif type(data) is list :\n",
        "      flatten(data)\n",
        "\n",
        "  # print(\"flatten_data\", end = \" : \")\n",
        "  # print(flatten_data)\n",
        "  return flatten_data\n",
        "\n",
        "example = [[1, 2, 3], [4, [5, 6]], 7, [8, 9]]\n",
        "print(\"원본 : \", example)\n",
        "print(\"변환 : \", flatten(example))\n"
      ],
      "execution_count": 27,
      "outputs": [
        {
          "output_type": "stream",
          "text": [
            "원본 :  [[1, 2, 3], [4, [5, 6]], 7, [8, 9]]\n",
            "변환 :  [1, 2, 3, 4, 5, 6, 7, 8, 9]\n"
          ],
          "name": "stdout"
        }
      ]
    },
    {
      "cell_type": "code",
      "metadata": {
        "id": "lLqPGDwewA3X",
        "outputId": "957f468c-4890-49a9-c9bd-05317dd4a16d",
        "colab": {
          "base_uri": "https://localhost:8080/",
          "height": 53
        }
      },
      "source": [
        "def flatten(data) :\n",
        "  output = []\n",
        " \n",
        "  for item in data :\n",
        "    if type(item) is int :\n",
        "      output.append(item)\n",
        " \n",
        "    elif type(item) is list :\n",
        "      output += (flatten(item))\n",
        " \n",
        "  return output\n",
        "\n",
        "example = [[1, 2, 3], [4, [5, 6]], 7, [8, 9]]\n",
        "print(\"원본 : \", example)\n",
        "print(\"변환 : \", flatten(example))\n"
      ],
      "execution_count": 63,
      "outputs": [
        {
          "output_type": "stream",
          "text": [
            "원본 :  [[1, 2, 3], [4, [5, 6]], 7, [8, 9]]\n",
            "변환 :  [1, 2, 3, 4, 5, 6, 7, 8, 9]\n"
          ],
          "name": "stdout"
        }
      ]
    },
    {
      "cell_type": "code",
      "metadata": {
        "id": "l29u1sW-2SIv",
        "outputId": "1b06a8b8-b99b-4b89-fd34-8be844f3ccf3",
        "colab": {
          "base_uri": "https://localhost:8080/",
          "height": 53
        }
      },
      "source": [
        "def flatten(data) :\n",
        "  output = []\n",
        " \n",
        "  for item in data :\n",
        "    if type(item) is int :\n",
        "      output.append(item)\n",
        " \n",
        "    elif type(item) is list :\n",
        "      output.append(flatten(item))\n",
        " \n",
        "  return output\n",
        "\n",
        "example = [[1, 2, 3], [4, [5, 6]], 7, [8, 9]]\n",
        "print(\"원본 : \", example)\n",
        "print(\"변환 : \", flatten(example))\n"
      ],
      "execution_count": 64,
      "outputs": [
        {
          "output_type": "stream",
          "text": [
            "원본 :  [[1, 2, 3], [4, [5, 6]], 7, [8, 9]]\n",
            "변환 :  [[1, 2, 3], [4, [5, 6]], 7, [8, 9]]\n"
          ],
          "name": "stdout"
        }
      ]
    },
    {
      "cell_type": "markdown",
      "metadata": {
        "id": "5nPit7yM7yWK"
      },
      "source": [
        "## 조금 더 알아보기"
      ]
    },
    {
      "cell_type": "markdown",
      "metadata": {
        "id": "xm5GLIeF76k_"
      },
      "source": [
        "### 코드에 이름 붙이기"
      ]
    },
    {
      "cell_type": "code",
      "metadata": {
        "id": "TrDA5NUd8KoI"
      },
      "source": [
        "# 주석을 생활화"
      ],
      "execution_count": 65,
      "outputs": []
    },
    {
      "cell_type": "code",
      "metadata": {
        "id": "91T5eLMm8UUt"
      },
      "source": [
        "# 의미 있는 함수명칭"
      ],
      "execution_count": 66,
      "outputs": []
    },
    {
      "cell_type": "markdown",
      "metadata": {
        "id": "5f22MOjo8ftQ"
      },
      "source": [
        "### 코드 유지보수"
      ]
    },
    {
      "cell_type": "code",
      "metadata": {
        "id": "8-rsEVis8yX8"
      },
      "source": [
        "# 고정정으로 사용하는 값은 변수로 선언"
      ],
      "execution_count": 67,
      "outputs": []
    },
    {
      "cell_type": "code",
      "metadata": {
        "id": "mC-NyvX6838N"
      },
      "source": [
        "# 반복되는 작업은 함수로 선언하여 사용"
      ],
      "execution_count": 68,
      "outputs": []
    },
    {
      "cell_type": "code",
      "metadata": {
        "id": "c-IiRJz99M9R"
      },
      "source": [
        ""
      ],
      "execution_count": null,
      "outputs": []
    }
  ]
}