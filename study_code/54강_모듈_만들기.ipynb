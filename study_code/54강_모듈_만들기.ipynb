{
  "nbformat": 4,
  "nbformat_minor": 0,
  "metadata": {
    "colab": {
      "name": "54강 - 모듈 만들기.ipynb",
      "provenance": [],
      "toc_visible": true,
      "authorship_tag": "ABX9TyPfxiQDgFzHd7Qc7hdAo9LN",
      "include_colab_link": true
    },
    "kernelspec": {
      "name": "python3",
      "display_name": "Python 3"
    }
  },
  "cells": [
    {
      "cell_type": "markdown",
      "metadata": {
        "id": "view-in-github",
        "colab_type": "text"
      },
      "source": [
        "<a href=\"https://colab.research.google.com/github/anew0m/Book_Python-Basic/blob/main/study_code/54%EA%B0%95_%EB%AA%A8%EB%93%88_%EB%A7%8C%EB%93%A4%EA%B8%B0.ipynb\" target=\"_parent\"><img src=\"https://colab.research.google.com/assets/colab-badge.svg\" alt=\"Open In Colab\"/></a>"
      ]
    },
    {
      "cell_type": "markdown",
      "metadata": {
        "id": "2YgfOU-JnXgm"
      },
      "source": [
        "# 54강 - 모듈 만들기"
      ]
    },
    {
      "cell_type": "markdown",
      "metadata": {
        "id": "cfQmepNunY2M"
      },
      "source": [
        "## my_module.py"
      ]
    },
    {
      "cell_type": "code",
      "metadata": {
        "id": "JFGgDQXUn2Xx"
      },
      "source": [
        "a = 10\n",
        "b = 20\n",
        "def c() :\n",
        "  return 30"
      ],
      "execution_count": 2,
      "outputs": []
    },
    {
      "cell_type": "code",
      "metadata": {
        "id": "JB2NDDProFzQ"
      },
      "source": [
        "print(__name__)\n",
        "\n",
        "a = 10\n",
        "b = 20\n",
        "def c() :\n",
        "  return 30"
      ],
      "execution_count": null,
      "outputs": []
    },
    {
      "cell_type": "markdown",
      "metadata": {
        "id": "vL1OYQQPnyp1"
      },
      "source": [
        "## start.py"
      ]
    },
    {
      "cell_type": "code",
      "metadata": {
        "id": "rZXbxFBbn12R"
      },
      "source": [
        "import my_moule\n",
        "\n",
        "my_module.a\n",
        "my_module.b\n",
        "my_module.c()"
      ],
      "execution_count": null,
      "outputs": []
    },
    {
      "cell_type": "code",
      "metadata": {
        "id": "4C9WcSuUn_GF"
      },
      "source": [
        "print(__name__)\n",
        "# python 파일.py\n",
        "# 파일 > 모듈 > 모듈 > 모듈\n",
        "# 파일 : 진입점(엔트리 포인트)\n",
        "# 메인 파일(main)\n",
        "## 처음 진입한 파일\n",
        "### 진입점 = 엔트리 포인트 = 메인\n",
        "\n",
        "\n",
        "import my_moule\n",
        "\n",
        "my_module.a\n",
        "my_module.b\n",
        "my_module.c()"
      ],
      "execution_count": null,
      "outputs": []
    },
    {
      "cell_type": "markdown",
      "metadata": {
        "id": "9OOgd6VmouqZ"
      },
      "source": [
        "## __ name __ "
      ]
    },
    {
      "cell_type": "markdown",
      "metadata": {
        "id": "q09dTyAUoxif"
      },
      "source": [
        "* 엔트리 포인트 파일은 자신의 이름이 뭇엇인지보다 __ __자신이 엔트리 포인트라는것__ __ 을 인지하는 것이 중요해서 이런 이상한 값이 들어오는것"
      ]
    },
    {
      "cell_type": "code",
      "metadata": {
        "id": "78T3upk0o5TN"
      },
      "source": [
        ""
      ],
      "execution_count": null,
      "outputs": []
    }
  ]
}