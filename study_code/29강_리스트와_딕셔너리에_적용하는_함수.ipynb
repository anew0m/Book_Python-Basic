{
  "nbformat": 4,
  "nbformat_minor": 0,
  "metadata": {
    "colab": {
      "name": "29강 - 리스트와 딕셔너리에 적용하는 함수.ipynb",
      "provenance": [],
      "authorship_tag": "ABX9TyNuy45QRy4MsZfMyezGSzqA",
      "include_colab_link": true
    },
    "kernelspec": {
      "name": "python3",
      "display_name": "Python 3"
    }
  },
  "cells": [
    {
      "cell_type": "markdown",
      "metadata": {
        "id": "view-in-github",
        "colab_type": "text"
      },
      "source": [
        "<a href=\"https://colab.research.google.com/github/anew0m/Book_Python-Basic/blob/main/study_code/29%EA%B0%95_%EB%A6%AC%EC%8A%A4%ED%8A%B8%EC%99%80_%EB%94%95%EC%85%94%EB%84%88%EB%A6%AC%EC%97%90_%EC%A0%81%EC%9A%A9%ED%95%98%EB%8A%94_%ED%95%A8%EC%88%98.ipynb\" target=\"_parent\"><img src=\"https://colab.research.google.com/assets/colab-badge.svg\" alt=\"Open In Colab\"/></a>"
      ]
    },
    {
      "cell_type": "markdown",
      "metadata": {
        "id": "-HlQLP3hPm-G"
      },
      "source": [
        "# 29강 - 리스트와 딕셔너리에 적용하는 함수"
      ]
    },
    {
      "cell_type": "markdown",
      "metadata": {
        "id": "kIBMi_0cPo6_"
      },
      "source": [
        "* 리스트에 적용할 수 있는 기본 함수 : min(), max(), sum()\n",
        "* 리스트 뒤집기 : reversed()\n",
        "* 현재 인덱스가 몇 번째인지 확인하기 : enumerate()\n",
        "* 딕셔너리로 쉽게 반복문 작성하기 : items()"
      ]
    },
    {
      "cell_type": "markdown",
      "metadata": {
        "id": "BdEw_XGGP3Si"
      },
      "source": [
        "## min() 함수와 max() 함수"
      ]
    },
    {
      "cell_type": "markdown",
      "metadata": {
        "id": "OOWsP3IJP8Rr"
      },
      "source": [
        "* min(리스트) 또는 min(숫자, 숫자, 숫자)\n",
        "* max(리스트) 또는 max(숫자, 숫자, 숫자)"
      ]
    },
    {
      "cell_type": "markdown",
      "metadata": {
        "id": "zURPYxIWQBOG"
      },
      "source": [
        "## sum() 함수"
      ]
    },
    {
      "cell_type": "markdown",
      "metadata": {
        "id": "PIe13TtnQG4o"
      },
      "source": [
        "* sum(리스트)"
      ]
    },
    {
      "cell_type": "code",
      "metadata": {
        "id": "C-U951vhQJWb",
        "outputId": "ea68bee2-ae66-49a9-f408-f72144cb2024",
        "colab": {
          "base_uri": "https://localhost:8080/",
          "height": 35
        }
      },
      "source": [
        "print(sum([1, 2, 3, 4, 5]))"
      ],
      "execution_count": 1,
      "outputs": [
        {
          "output_type": "stream",
          "text": [
            "15\n"
          ],
          "name": "stdout"
        }
      ]
    },
    {
      "cell_type": "markdown",
      "metadata": {
        "id": "fgrCGCKJQMmD"
      },
      "source": [
        "## 일회용 함수 : 제너레이터 로 구현됨"
      ]
    },
    {
      "cell_type": "markdown",
      "metadata": {
        "id": "BN2kZudxQQ7Z"
      },
      "source": [
        "###  reversed() 함수"
      ]
    },
    {
      "cell_type": "code",
      "metadata": {
        "id": "6stj-Y9WQWOd"
      },
      "source": [
        "a = [1, 2, 3, 4, 5]"
      ],
      "execution_count": 2,
      "outputs": []
    },
    {
      "cell_type": "code",
      "metadata": {
        "id": "ksTseoeeQcMP",
        "outputId": "c1d03d94-bba8-433f-dd94-d7b7b68fc77a",
        "colab": {
          "base_uri": "https://localhost:8080/",
          "height": 35
        }
      },
      "source": [
        "a"
      ],
      "execution_count": 4,
      "outputs": [
        {
          "output_type": "execute_result",
          "data": {
            "text/plain": [
              "[1, 2, 3, 4, 5]"
            ]
          },
          "metadata": {
            "tags": []
          },
          "execution_count": 4
        }
      ]
    },
    {
      "cell_type": "code",
      "metadata": {
        "id": "ZZTAvm3fQYIY"
      },
      "source": [
        "reversed_a = reversed(a)"
      ],
      "execution_count": 10,
      "outputs": []
    },
    {
      "cell_type": "code",
      "metadata": {
        "id": "AYpU33zgQbAv",
        "outputId": "4b6f4070-6797-4ecc-8fc5-20739200b83e",
        "colab": {
          "base_uri": "https://localhost:8080/",
          "height": 54
        }
      },
      "source": [
        "print(list(reversed_a))\n",
        "print(list(reversed_a))"
      ],
      "execution_count": 11,
      "outputs": [
        {
          "output_type": "stream",
          "text": [
            "[5, 4, 3, 2, 1]\n",
            "[]\n"
          ],
          "name": "stdout"
        }
      ]
    },
    {
      "cell_type": "markdown",
      "metadata": {
        "id": "mvwcE0dwQdhR"
      },
      "source": [
        "* 일회용 함수로서 두번째 reversed_a 는 None"
      ]
    },
    {
      "cell_type": "markdown",
      "metadata": {
        "id": "LFBPaiXPQlj9"
      },
      "source": [
        "* list(reversed(리스트)) : 리스트 역으로 돌리기\n",
        "* for i in reversed(리스트) : 반복문에 적용하기"
      ]
    },
    {
      "cell_type": "markdown",
      "metadata": {
        "id": "MAZhQoEHQ5k0"
      },
      "source": [
        "### enumerate() 함수"
      ]
    },
    {
      "cell_type": "code",
      "metadata": {
        "id": "wvS9nQLiRBk7"
      },
      "source": [
        "a = [1, 2, 3, 4, 5]"
      ],
      "execution_count": 12,
      "outputs": []
    },
    {
      "cell_type": "code",
      "metadata": {
        "id": "HM43kCO3RDPP",
        "outputId": "4b580a7a-5433-4e14-fd0a-b28f385cb0bf",
        "colab": {
          "base_uri": "https://localhost:8080/",
          "height": 35
        }
      },
      "source": [
        "a"
      ],
      "execution_count": 13,
      "outputs": [
        {
          "output_type": "execute_result",
          "data": {
            "text/plain": [
              "[1, 2, 3, 4, 5]"
            ]
          },
          "metadata": {
            "tags": []
          },
          "execution_count": 13
        }
      ]
    },
    {
      "cell_type": "code",
      "metadata": {
        "id": "B7GLE0e4RDXZ",
        "outputId": "6e6258f7-8b91-438e-c938-c5224f8b89c1",
        "colab": {
          "base_uri": "https://localhost:8080/",
          "height": 35
        }
      },
      "source": [
        "print(list(enumerate(a)))"
      ],
      "execution_count": 15,
      "outputs": [
        {
          "output_type": "stream",
          "text": [
            "[(0, 1), (1, 2), (2, 3), (3, 4), (4, 5)]\n"
          ],
          "name": "stdout"
        }
      ]
    },
    {
      "cell_type": "code",
      "metadata": {
        "id": "Jnj-bZAnRFJf",
        "outputId": "3df21def-8566-4664-f1e3-1b7f82ff369c",
        "colab": {
          "base_uri": "https://localhost:8080/",
          "height": 108
        }
      },
      "source": [
        "for i, element in enumerate(a) :\n",
        "  print(\"{} : {}\".format(i, element))"
      ],
      "execution_count": 16,
      "outputs": [
        {
          "output_type": "stream",
          "text": [
            "0 : 1\n",
            "1 : 2\n",
            "2 : 3\n",
            "3 : 4\n",
            "4 : 5\n"
          ],
          "name": "stdout"
        }
      ]
    },
    {
      "cell_type": "code",
      "metadata": {
        "id": "TUoCSRInRPJu",
        "outputId": "5956633f-c8e8-48ee-965d-5eb02bf93e2b",
        "colab": {
          "base_uri": "https://localhost:8080/",
          "height": 108
        }
      },
      "source": [
        "for (i, element) in enumerate(a) :\n",
        "  print(\"{} : {}\".format(i, element))"
      ],
      "execution_count": 17,
      "outputs": [
        {
          "output_type": "stream",
          "text": [
            "0 : 1\n",
            "1 : 2\n",
            "2 : 3\n",
            "3 : 4\n",
            "4 : 5\n"
          ],
          "name": "stdout"
        }
      ]
    },
    {
      "cell_type": "code",
      "metadata": {
        "id": "OrwrUo0ART6P"
      },
      "source": [
        "enumerate_a = enumerate(a)"
      ],
      "execution_count": 18,
      "outputs": []
    },
    {
      "cell_type": "code",
      "metadata": {
        "id": "EmQPzIfrRimr",
        "outputId": "c074133a-b4fa-4c95-b1e4-8cf3022fdd71",
        "colab": {
          "base_uri": "https://localhost:8080/",
          "height": 54
        }
      },
      "source": [
        "print(list(enumerate_a))\n",
        "print(list(enumerate_a))\n"
      ],
      "execution_count": 21,
      "outputs": [
        {
          "output_type": "stream",
          "text": [
            "[(0, 1), (1, 2), (2, 3), (3, 4), (4, 5)]\n",
            "[]\n"
          ],
          "name": "stdout"
        }
      ]
    },
    {
      "cell_type": "markdown",
      "metadata": {
        "id": "In9HU4jlRiw1"
      },
      "source": [
        "### items() 함수"
      ]
    },
    {
      "cell_type": "code",
      "metadata": {
        "id": "zXoi71tyRp7n"
      },
      "source": [
        "a = {\n",
        "    \"k1\" : \"v1\", \n",
        "    \"k2\" : \"v2\", \n",
        "    \"k3\" : \"v3\", \n",
        "}"
      ],
      "execution_count": 22,
      "outputs": []
    },
    {
      "cell_type": "code",
      "metadata": {
        "id": "mQehBpFjRwgv",
        "outputId": "06201251-4cbf-487b-e1cf-478c8cebc553",
        "colab": {
          "base_uri": "https://localhost:8080/",
          "height": 72
        }
      },
      "source": [
        "for key, value in a.items() :\n",
        "  print(\"{} : {}\".format(key, value))"
      ],
      "execution_count": 24,
      "outputs": [
        {
          "output_type": "stream",
          "text": [
            "k1 : v1\n",
            "k2 : v2\n",
            "k3 : v3\n"
          ],
          "name": "stdout"
        }
      ]
    },
    {
      "cell_type": "markdown",
      "metadata": {
        "id": "LmvpU6_PR5xi"
      },
      "source": [
        "## 정리"
      ]
    },
    {
      "cell_type": "markdown",
      "metadata": {
        "id": "IrRGKlzWSCgr"
      },
      "source": [
        "* min(리스트) or min(숫자, 숫자, 숫자, ...)\n",
        "* max(리스트) or max(숫자, 숫자, 숫자, ...)\n",
        "* sum(리스트)\n",
        "* for i in reversed(리스트) :\n",
        "* for i, element in enumerate(리스트) :\n",
        "* for key, value in 딕셔너리.items() :"
      ]
    },
    {
      "cell_type": "code",
      "metadata": {
        "id": "3PQMB7_sSdXv"
      },
      "source": [
        ""
      ],
      "execution_count": null,
      "outputs": []
    }
  ]
}