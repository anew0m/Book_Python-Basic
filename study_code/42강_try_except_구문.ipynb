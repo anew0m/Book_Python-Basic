{
  "nbformat": 4,
  "nbformat_minor": 0,
  "metadata": {
    "colab": {
      "name": "42강 - try except 구문.ipynb",
      "provenance": [],
      "authorship_tag": "ABX9TyMDYH3yg53Kf/+g95seJjWW",
      "include_colab_link": true
    },
    "kernelspec": {
      "name": "python3",
      "display_name": "Python 3"
    }
  },
  "cells": [
    {
      "cell_type": "markdown",
      "metadata": {
        "id": "view-in-github",
        "colab_type": "text"
      },
      "source": [
        "<a href=\"https://colab.research.google.com/github/anew0m/Book_Python-Basic/blob/main/study_code/42%EA%B0%95_try_except_%EA%B5%AC%EB%AC%B8.ipynb\" target=\"_parent\"><img src=\"https://colab.research.google.com/assets/colab-badge.svg\" alt=\"Open In Colab\"/></a>"
      ]
    },
    {
      "cell_type": "markdown",
      "metadata": {
        "id": "xiYBKRO7R-av"
      },
      "source": [
        "# 42강 - try except 구문"
      ]
    },
    {
      "cell_type": "markdown",
      "metadata": {
        "id": "C8Dfx2NSSAEl"
      },
      "source": [
        "## try ~ except 구문"
      ]
    },
    {
      "cell_type": "markdown",
      "metadata": {
        "id": "1u7ji-ZkSEz6"
      },
      "source": [
        "## try ~ except 구문의 형태"
      ]
    },
    {
      "cell_type": "code",
      "metadata": {
        "id": "WSiD8g7HSTEc"
      },
      "source": [
        "try : \n",
        "  # 예외가 발생할 수 있는 가능성이 있는 코드\n",
        "  pass\n",
        "except : \n",
        "  # 예외가 발생했을 때 실행할 코드\n",
        "  pass"
      ],
      "execution_count": 1,
      "outputs": []
    },
    {
      "cell_type": "markdown",
      "metadata": {
        "id": "tGWjXbeKSePj"
      },
      "source": [
        "1. 사용자로 부터 문자열을 입력 받고\n",
        "2. 숫자로 변환하고\n",
        "3. 제곱해서 출력하는 코드"
      ]
    },
    {
      "cell_type": "code",
      "metadata": {
        "id": "blOBJp55Sh1x",
        "outputId": "eb719d7e-60de-4c4a-dc2b-88b5adcae381",
        "colab": {
          "base_uri": "https://localhost:8080/",
          "height": 35
        }
      },
      "source": [
        "input_value = 10\n",
        "print(float(input_value) ** 2)\n",
        "\n",
        "try : \n",
        "  # 예외가 발생할 수 있는 가능성이 있는 코드\n",
        "  pass\n",
        "except : \n",
        "  # 예외가 발생했을 때 실행할 코드\n",
        "  pass"
      ],
      "execution_count": 4,
      "outputs": [
        {
          "output_type": "stream",
          "text": [
            "100.0\n"
          ],
          "name": "stdout"
        }
      ]
    },
    {
      "cell_type": "code",
      "metadata": {
        "id": "Mcb_O20SStnt",
        "outputId": "8f6659aa-ef29-4a80-8508-e956869995e9",
        "colab": {
          "base_uri": "https://localhost:8080/",
          "height": 244
        }
      },
      "source": [
        "input_value = \"10--\"\n",
        "print(float(input_value) ** 2)\n",
        "\n",
        "try : \n",
        "  # 예외가 발생할 수 있는 가능성이 있는 코드\n",
        "  pass\n",
        "except : \n",
        "  # 예외가 발생했을 때 실행할 코드\n",
        "  pass"
      ],
      "execution_count": 6,
      "outputs": [
        {
          "output_type": "error",
          "ename": "ValueError",
          "evalue": "ignored",
          "traceback": [
            "\u001b[0;31m---------------------------------------------------------------------------\u001b[0m",
            "\u001b[0;31mValueError\u001b[0m                                Traceback (most recent call last)",
            "\u001b[0;32m<ipython-input-6-ca41e45994a3>\u001b[0m in \u001b[0;36m<module>\u001b[0;34m()\u001b[0m\n\u001b[1;32m      1\u001b[0m \u001b[0minput_value\u001b[0m \u001b[0;34m=\u001b[0m \u001b[0;34m\"10--\"\u001b[0m\u001b[0;34m\u001b[0m\u001b[0;34m\u001b[0m\u001b[0m\n\u001b[0;32m----> 2\u001b[0;31m \u001b[0mprint\u001b[0m\u001b[0;34m(\u001b[0m\u001b[0mfloat\u001b[0m\u001b[0;34m(\u001b[0m\u001b[0minput_value\u001b[0m\u001b[0;34m)\u001b[0m \u001b[0;34m**\u001b[0m \u001b[0;36m2\u001b[0m\u001b[0;34m)\u001b[0m\u001b[0;34m\u001b[0m\u001b[0;34m\u001b[0m\u001b[0m\n\u001b[0m\u001b[1;32m      3\u001b[0m \u001b[0;34m\u001b[0m\u001b[0m\n\u001b[1;32m      4\u001b[0m \u001b[0;32mtry\u001b[0m \u001b[0;34m:\u001b[0m\u001b[0;34m\u001b[0m\u001b[0;34m\u001b[0m\u001b[0m\n\u001b[1;32m      5\u001b[0m   \u001b[0;31m# 예외가 발생할 수 있는 가능성이 있는 코드\u001b[0m\u001b[0;34m\u001b[0m\u001b[0;34m\u001b[0m\u001b[0;34m\u001b[0m\u001b[0m\n",
            "\u001b[0;31mValueError\u001b[0m: could not convert string to float: '10--'"
          ]
        }
      ]
    },
    {
      "cell_type": "code",
      "metadata": {
        "id": "wpYMQV3PS0Fa"
      },
      "source": [
        "input_value = \"10--\"\n",
        "\n",
        "try : \n",
        "  # 예외가 발생할 수 있는 가능성이 있는 코드\n",
        "  print(float(input_value) ** 2)\n",
        "  pass\n",
        "except : \n",
        "  # 예외가 발생했을 때 실행할 코드\n",
        "  pass"
      ],
      "execution_count": 7,
      "outputs": []
    },
    {
      "cell_type": "code",
      "metadata": {
        "id": "XmtZXa-WS86Q",
        "outputId": "261bebdc-f4bf-4ce1-f963-4aa1c05eaae4",
        "colab": {
          "base_uri": "https://localhost:8080/",
          "height": 35
        }
      },
      "source": [
        "input_value = \"10--\"\n",
        "\n",
        "try : \n",
        "  # 예외가 발생할 수 있는 가능성이 있는 코드\n",
        "  print(float(input_value) ** 2)\n",
        "  pass\n",
        "except : \n",
        "  # 예외가 발생했을 때 실행할 코드\n",
        "  print(\"숫자를 입력해 주세요\")\n",
        "  pass"
      ],
      "execution_count": 8,
      "outputs": [
        {
          "output_type": "stream",
          "text": [
            "숫자를 입력해 주세요\n"
          ],
          "name": "stdout"
        }
      ]
    },
    {
      "cell_type": "code",
      "metadata": {
        "id": "MCVq2uRPTBiB"
      },
      "source": [
        ""
      ],
      "execution_count": null,
      "outputs": []
    }
  ]
}