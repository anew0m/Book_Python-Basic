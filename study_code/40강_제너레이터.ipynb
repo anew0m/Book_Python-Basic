{
  "nbformat": 4,
  "nbformat_minor": 0,
  "metadata": {
    "colab": {
      "name": "40강 - 제너레이터.ipynb",
      "provenance": [],
      "authorship_tag": "ABX9TyNSSk0WVjF2qBJdSdEnSpOy",
      "include_colab_link": true
    },
    "kernelspec": {
      "name": "python3",
      "display_name": "Python 3"
    }
  },
  "cells": [
    {
      "cell_type": "markdown",
      "metadata": {
        "id": "view-in-github",
        "colab_type": "text"
      },
      "source": [
        "<a href=\"https://colab.research.google.com/github/anew0m/Book_Python-Basic/blob/main/study_code/40%EA%B0%95_%EC%A0%9C%EB%84%88%EB%A0%88%EC%9D%B4%ED%84%B0.ipynb\" target=\"_parent\"><img src=\"https://colab.research.google.com/assets/colab-badge.svg\" alt=\"Open In Colab\"/></a>"
      ]
    },
    {
      "cell_type": "markdown",
      "metadata": {
        "id": "MY6etBY6JR_Z"
      },
      "source": [
        "# 40강 - 제너레이터"
      ]
    },
    {
      "cell_type": "markdown",
      "metadata": {
        "id": "FR-BgPu2JS-i"
      },
      "source": [
        "## 제너레이터 공부의 주의사항"
      ]
    },
    {
      "cell_type": "markdown",
      "metadata": {
        "id": "VxQIyx7iJW1Y"
      },
      "source": [
        "* 실제로 만드는 경우는 잘 없음"
      ]
    },
    {
      "cell_type": "markdown",
      "metadata": {
        "id": "GAsjXLEAJZDx"
      },
      "source": [
        "* 이터레이터를 직접 만들 때 사용하는 구문\n",
        "* 함수 내부에 yield 라는 키워드가 포함되면 해당 함수는 제너레이터가 됨"
      ]
    },
    {
      "cell_type": "markdown",
      "metadata": {
        "id": "VReUdnQNJjnw"
      },
      "source": [
        "## 일반적인 함수"
      ]
    },
    {
      "cell_type": "code",
      "metadata": {
        "id": "2vPai_mcJlaZ",
        "outputId": "3e33d3fe-3d01-4766-905e-3314bb9efc76",
        "colab": {
          "base_uri": "https://localhost:8080/",
          "height": 53
        }
      },
      "source": [
        "def 함수() :\n",
        "  print(\"a\")\n",
        "  print(\"b\")\n",
        "\n",
        "함수()"
      ],
      "execution_count": 1,
      "outputs": [
        {
          "output_type": "stream",
          "text": [
            "a\n",
            "b\n"
          ],
          "name": "stdout"
        }
      ]
    },
    {
      "cell_type": "markdown",
      "metadata": {
        "id": "TS9BzP3NJqVF"
      },
      "source": [
        "## 제너레이터 함수 만들기"
      ]
    },
    {
      "cell_type": "code",
      "metadata": {
        "id": "UEqZm8DVJsm-",
        "outputId": "fd2019a6-6ae7-4230-8e30-297f74d0a002",
        "colab": {
          "base_uri": "https://localhost:8080/",
          "height": 35
        }
      },
      "source": [
        "def 함수() :\n",
        "  print(\"a\")\n",
        "  print(\"b\")\n",
        "  yield\n",
        "\n",
        "함수()"
      ],
      "execution_count": 2,
      "outputs": [
        {
          "output_type": "execute_result",
          "data": {
            "text/plain": [
              "<generator object 함수 at 0x7f62e123ad58>"
            ]
          },
          "metadata": {
            "tags": []
          },
          "execution_count": 2
        }
      ]
    },
    {
      "cell_type": "markdown",
      "metadata": {
        "id": "QI5-g16tJu9a"
      },
      "source": [
        "## 제너레이터 함수 사용하기"
      ]
    },
    {
      "cell_type": "code",
      "metadata": {
        "id": "rO8imLWUJxv4",
        "outputId": "aab19bb4-2c2c-4e26-ca2b-5736fc7162ce",
        "colab": {
          "base_uri": "https://localhost:8080/",
          "height": 208
        }
      },
      "source": [
        "def 함수() :\n",
        "  print(\"a\")\n",
        "  print(\"b\")\n",
        "  yield 100\n",
        "\n",
        "next(함수)"
      ],
      "execution_count": 6,
      "outputs": [
        {
          "output_type": "error",
          "ename": "TypeError",
          "evalue": "ignored",
          "traceback": [
            "\u001b[0;31m---------------------------------------------------------------------------\u001b[0m",
            "\u001b[0;31mTypeError\u001b[0m                                 Traceback (most recent call last)",
            "\u001b[0;32m<ipython-input-6-bcf4439c3cd6>\u001b[0m in \u001b[0;36m<module>\u001b[0;34m()\u001b[0m\n\u001b[1;32m      4\u001b[0m   \u001b[0;32myield\u001b[0m \u001b[0;36m100\u001b[0m\u001b[0;34m\u001b[0m\u001b[0;34m\u001b[0m\u001b[0m\n\u001b[1;32m      5\u001b[0m \u001b[0;34m\u001b[0m\u001b[0m\n\u001b[0;32m----> 6\u001b[0;31m \u001b[0mnext\u001b[0m\u001b[0;34m(\u001b[0m\u001b[0m함수\u001b[0m\u001b[0;34m)\u001b[0m\u001b[0;34m\u001b[0m\u001b[0;34m\u001b[0m\u001b[0m\n\u001b[0m",
            "\u001b[0;31mTypeError\u001b[0m: 'function' object is not an iterator"
          ]
        }
      ]
    },
    {
      "cell_type": "code",
      "metadata": {
        "id": "yA0EmOOIJ2mF",
        "outputId": "42d0e1ce-cfcd-408a-91c7-2908e1f1c192",
        "colab": {
          "base_uri": "https://localhost:8080/",
          "height": 71
        }
      },
      "source": [
        "def 함수() :\n",
        "  print(\"a\")\n",
        "  print(\"b\")\n",
        "  yield 100\n",
        "\n",
        "next(함수())"
      ],
      "execution_count": 7,
      "outputs": [
        {
          "output_type": "stream",
          "text": [
            "a\n",
            "b\n"
          ],
          "name": "stdout"
        },
        {
          "output_type": "execute_result",
          "data": {
            "text/plain": [
              "100"
            ]
          },
          "metadata": {
            "tags": []
          },
          "execution_count": 7
        }
      ]
    },
    {
      "cell_type": "markdown",
      "metadata": {
        "id": "x_TKJznDKAiz"
      },
      "source": [
        "## yield 키워드로 값 전달하기"
      ]
    },
    {
      "cell_type": "code",
      "metadata": {
        "id": "TpGwiipFKEjD",
        "outputId": "406c3043-de30-4143-8b9f-cbe327c29af8",
        "colab": {
          "base_uri": "https://localhost:8080/",
          "height": 71
        }
      },
      "source": [
        "def 함수() :\n",
        "  print(\"a\")\n",
        "  print(\"b\")\n",
        "  yield 100\n",
        "\n",
        "val_yield = next(함수())\n",
        "print(val_yield)"
      ],
      "execution_count": 8,
      "outputs": [
        {
          "output_type": "stream",
          "text": [
            "a\n",
            "b\n",
            "100\n"
          ],
          "name": "stdout"
        }
      ]
    },
    {
      "cell_type": "markdown",
      "metadata": {
        "id": "G9LVrux-KLWp"
      },
      "source": [
        "## yield 키워드로 양보하기"
      ]
    },
    {
      "cell_type": "code",
      "metadata": {
        "id": "RhDK8BekKRbr",
        "outputId": "b1cb42a3-4853-436b-f19c-ad6a792d643f",
        "colab": {
          "base_uri": "https://localhost:8080/",
          "height": 53
        }
      },
      "source": [
        "def 함수() :\n",
        "  print(\"a\")\n",
        "  yield 100\n",
        "  print(\"b\")\n",
        "  yield 200\n",
        "  print(\"c\")\n",
        "  yield 300\n",
        "  print(\"d\")\n",
        "  yield 400\n",
        "\n",
        "val_yield = next(함수())\n",
        "print(val_yield)"
      ],
      "execution_count": 9,
      "outputs": [
        {
          "output_type": "stream",
          "text": [
            "a\n",
            "100\n"
          ],
          "name": "stdout"
        }
      ]
    },
    {
      "cell_type": "code",
      "metadata": {
        "id": "xjNLtIc1KYSz",
        "outputId": "8d15d565-bdc3-4ff6-caf3-ad3fb00e57c9",
        "colab": {
          "base_uri": "https://localhost:8080/",
          "height": 197
        }
      },
      "source": [
        "def 함수() :\n",
        "  print(\"a\")\n",
        "  yield 100\n",
        "  print(\"b\")\n",
        "  yield 200\n",
        "  print(\"c\")\n",
        "  yield 300\n",
        "  print(\"d\")\n",
        "  yield 400\n",
        "\n",
        "val_yield = 함수()\n",
        "print(val_yield)\n",
        "\n",
        "val_yield = 함수()\n",
        "next(val_yield)\n",
        "print(val_yield)\n",
        "\n",
        "val_yield = 함수()\n",
        "next(val_yield)\n",
        "next(val_yield)\n",
        "print(val_yield)\n",
        "\n",
        "val_yield = 함수()\n",
        "next(val_yield)\n",
        "next(val_yield)\n",
        "next(val_yield)\n",
        "print(val_yield)\n"
      ],
      "execution_count": 14,
      "outputs": [
        {
          "output_type": "stream",
          "text": [
            "<generator object 함수 at 0x7f62e1240db0>\n",
            "a\n",
            "<generator object 함수 at 0x7f62e1240d58>\n",
            "a\n",
            "b\n",
            "<generator object 함수 at 0x7f62e1240db0>\n",
            "a\n",
            "b\n",
            "c\n",
            "<generator object 함수 at 0x7f62e1240d58>\n"
          ],
          "name": "stdout"
        }
      ]
    },
    {
      "cell_type": "markdown",
      "metadata": {
        "id": "uVGe_OwPKenp"
      },
      "source": [
        "## for 반복문과 조합하기"
      ]
    },
    {
      "cell_type": "code",
      "metadata": {
        "id": "DXkei7bzLHnh",
        "outputId": "1309e02d-35e1-43d0-92d2-b96a2620366b",
        "colab": {
          "base_uri": "https://localhost:8080/",
          "height": 161
        }
      },
      "source": [
        "def 함수() :\n",
        "  print(\"a\")\n",
        "  yield 100\n",
        "  print(\"b\")\n",
        "  yield 200\n",
        "  print(\"c\")\n",
        "  yield 300\n",
        "  print(\"d\")\n",
        "  yield 400\n",
        "\n",
        "val_yield = 함수()\n",
        "\n",
        "for i in val_yield :\n",
        "  print(i)"
      ],
      "execution_count": 15,
      "outputs": [
        {
          "output_type": "stream",
          "text": [
            "a\n",
            "100\n",
            "b\n",
            "200\n",
            "c\n",
            "300\n",
            "d\n",
            "400\n"
          ],
          "name": "stdout"
        }
      ]
    },
    {
      "cell_type": "code",
      "metadata": {
        "id": "e-2sbkyWLM-9",
        "outputId": "2feea7de-ad4a-4535-aa1f-1da0322eceef",
        "colab": {
          "base_uri": "https://localhost:8080/",
          "height": 161
        }
      },
      "source": [
        "def 함수() :\n",
        "  print(\"a\")\n",
        "  yield 100\n",
        "  print(\"b\")\n",
        "  yield 200\n",
        "  print(\"c\")\n",
        "  yield 300\n",
        "  print(\"d\")\n",
        "  yield 400\n",
        "\n",
        "val_yield = 함수()\n",
        "\n",
        "for i in val_yield :\n",
        "  print(i)\n",
        "for i in val_yield :\n",
        "  print(i)"
      ],
      "execution_count": 16,
      "outputs": [
        {
          "output_type": "stream",
          "text": [
            "a\n",
            "100\n",
            "b\n",
            "200\n",
            "c\n",
            "300\n",
            "d\n",
            "400\n"
          ],
          "name": "stdout"
        }
      ]
    },
    {
      "cell_type": "markdown",
      "metadata": {
        "id": "y9-GHxYXLRqu"
      },
      "source": [
        "## 제너레이터는 이터레이터로 reversed와 비슷"
      ]
    },
    {
      "cell_type": "code",
      "metadata": {
        "id": "AxUTDncALVxM",
        "outputId": "749af780-4257-4231-cca4-f74a155ea19e",
        "colab": {
          "base_uri": "https://localhost:8080/",
          "height": 35
        }
      },
      "source": [
        "numbers = [1, 2, 3, 4, 5]\n",
        "print(reversed(numbers))"
      ],
      "execution_count": 17,
      "outputs": [
        {
          "output_type": "stream",
          "text": [
            "<list_reverseiterator object at 0x7f62e11c09e8>\n"
          ],
          "name": "stdout"
        }
      ]
    },
    {
      "cell_type": "code",
      "metadata": {
        "id": "MYM_3ZhuLZEJ",
        "outputId": "d7f770b9-be86-4a3a-eb2c-b1d6da451aa1",
        "colab": {
          "base_uri": "https://localhost:8080/",
          "height": 107
        }
      },
      "source": [
        "numbers = [1, 2, 3, 4, 5]\n",
        "for i in reversed(numbers) :\n",
        "  print(i)"
      ],
      "execution_count": 18,
      "outputs": [
        {
          "output_type": "stream",
          "text": [
            "5\n",
            "4\n",
            "3\n",
            "2\n",
            "1\n"
          ],
          "name": "stdout"
        }
      ]
    },
    {
      "cell_type": "code",
      "metadata": {
        "id": "VbdhLaPkLdkE",
        "outputId": "bc79966a-c15c-464d-850f-adb21a408e8e",
        "colab": {
          "base_uri": "https://localhost:8080/",
          "height": 107
        }
      },
      "source": [
        "numbers = [1, 2, 3, 4, 5]\n",
        "revers_num = reversed(numbers)\n",
        "\n",
        "for i in revers_num:\n",
        "  print(i)\n",
        "\n",
        "for i in revers_num:\n",
        "  print(i)"
      ],
      "execution_count": 19,
      "outputs": [
        {
          "output_type": "stream",
          "text": [
            "5\n",
            "4\n",
            "3\n",
            "2\n",
            "1\n"
          ],
          "name": "stdout"
        }
      ]
    },
    {
      "cell_type": "markdown",
      "metadata": {
        "id": "FBduWDrBLmHK"
      },
      "source": [
        "## reversed 함수 구현"
      ]
    },
    {
      "cell_type": "code",
      "metadata": {
        "id": "Sm9l8STNLtVC",
        "outputId": "79331600-0de7-4c31-f762-97a5895e10a7",
        "colab": {
          "base_uri": "https://localhost:8080/",
          "height": 107
        }
      },
      "source": [
        "def 반전(리스트) :\n",
        "  for i in range(len(리스트)) :\n",
        "    yield 리스트[-i - 1]\n",
        "\n",
        "제너레이터 = 반전([1, 2, 3, 4, 5])\n",
        "\n",
        "for i in 제너레이터 : \n",
        "  print(i)"
      ],
      "execution_count": 20,
      "outputs": [
        {
          "output_type": "stream",
          "text": [
            "5\n",
            "4\n",
            "3\n",
            "2\n",
            "1\n"
          ],
          "name": "stdout"
        }
      ]
    },
    {
      "cell_type": "markdown",
      "metadata": {
        "id": "q_r8t9drL6vX"
      },
      "source": [
        "* 함수를 호출하는 순간에 내부의 코드가 실행되는 것이 아니고\n",
        "* 반복문 등에서 활용할 때 내부의 코드가 실행되므로\n",
        "* 지연 로드(Lazy Load) 등을 할 때도 활용"
      ]
    },
    {
      "cell_type": "markdown",
      "metadata": {
        "id": "sudDBB1LMI3O"
      },
      "source": [
        "## 확인문제 1번"
      ]
    },
    {
      "cell_type": "code",
      "metadata": {
        "id": "eOde4dmmMUly",
        "outputId": "60604e66-e0e8-4877-e149-edcea1af5e0f",
        "colab": {
          "base_uri": "https://localhost:8080/",
          "height": 136
        }
      },
      "source": [
        "numbers = [1, 2, 3, 4, 5, 6]\n",
        "\n",
        "print(\"::\".join(pass))\n",
        "\n",
        "print(\"1::2::3::4::5::6\")"
      ],
      "execution_count": 22,
      "outputs": [
        {
          "output_type": "error",
          "ename": "SyntaxError",
          "evalue": "ignored",
          "traceback": [
            "\u001b[0;36m  File \u001b[0;32m\"<ipython-input-22-a6eff9d67688>\"\u001b[0;36m, line \u001b[0;32m3\u001b[0m\n\u001b[0;31m    print(\"::\".join(pass))\u001b[0m\n\u001b[0m                       ^\u001b[0m\n\u001b[0;31mSyntaxError\u001b[0m\u001b[0;31m:\u001b[0m invalid syntax\n"
          ]
        }
      ]
    },
    {
      "cell_type": "code",
      "metadata": {
        "id": "CoI29e_RMhqw",
        "outputId": "d8bb76c8-656e-4c7f-afd3-ce4c931960bd",
        "colab": {
          "base_uri": "https://localhost:8080/",
          "height": 208
        }
      },
      "source": [
        "numbers = [1, 2, 3, 4, 5, 6]\n",
        "\n",
        "print(\"::\".join(numbers))"
      ],
      "execution_count": 23,
      "outputs": [
        {
          "output_type": "error",
          "ename": "TypeError",
          "evalue": "ignored",
          "traceback": [
            "\u001b[0;31m---------------------------------------------------------------------------\u001b[0m",
            "\u001b[0;31mTypeError\u001b[0m                                 Traceback (most recent call last)",
            "\u001b[0;32m<ipython-input-23-acfe32ded8c5>\u001b[0m in \u001b[0;36m<module>\u001b[0;34m()\u001b[0m\n\u001b[1;32m      1\u001b[0m \u001b[0mnumbers\u001b[0m \u001b[0;34m=\u001b[0m \u001b[0;34m[\u001b[0m\u001b[0;36m1\u001b[0m\u001b[0;34m,\u001b[0m \u001b[0;36m2\u001b[0m\u001b[0;34m,\u001b[0m \u001b[0;36m3\u001b[0m\u001b[0;34m,\u001b[0m \u001b[0;36m4\u001b[0m\u001b[0;34m,\u001b[0m \u001b[0;36m5\u001b[0m\u001b[0;34m,\u001b[0m \u001b[0;36m6\u001b[0m\u001b[0;34m]\u001b[0m\u001b[0;34m\u001b[0m\u001b[0;34m\u001b[0m\u001b[0m\n\u001b[1;32m      2\u001b[0m \u001b[0;34m\u001b[0m\u001b[0m\n\u001b[0;32m----> 3\u001b[0;31m \u001b[0mprint\u001b[0m\u001b[0;34m(\u001b[0m\u001b[0;34m\"::\"\u001b[0m\u001b[0;34m.\u001b[0m\u001b[0mjoin\u001b[0m\u001b[0;34m(\u001b[0m\u001b[0mnumbers\u001b[0m\u001b[0;34m)\u001b[0m\u001b[0;34m)\u001b[0m\u001b[0;34m\u001b[0m\u001b[0;34m\u001b[0m\u001b[0m\n\u001b[0m",
            "\u001b[0;31mTypeError\u001b[0m: sequence item 0: expected str instance, int found"
          ]
        }
      ]
    },
    {
      "cell_type": "code",
      "metadata": {
        "id": "uMb7IM2iMtG_",
        "outputId": "c47e2317-2382-4d38-a334-cfd8c13ef374",
        "colab": {
          "base_uri": "https://localhost:8080/",
          "height": 208
        }
      },
      "source": [
        "numbers = [1, 2, 3, 4, 5, 6]\n",
        "\n",
        "print(\"::\".join(int(numbers)))"
      ],
      "execution_count": 24,
      "outputs": [
        {
          "output_type": "error",
          "ename": "TypeError",
          "evalue": "ignored",
          "traceback": [
            "\u001b[0;31m---------------------------------------------------------------------------\u001b[0m",
            "\u001b[0;31mTypeError\u001b[0m                                 Traceback (most recent call last)",
            "\u001b[0;32m<ipython-input-24-34d075d211c1>\u001b[0m in \u001b[0;36m<module>\u001b[0;34m()\u001b[0m\n\u001b[1;32m      1\u001b[0m \u001b[0mnumbers\u001b[0m \u001b[0;34m=\u001b[0m \u001b[0;34m[\u001b[0m\u001b[0;36m1\u001b[0m\u001b[0;34m,\u001b[0m \u001b[0;36m2\u001b[0m\u001b[0;34m,\u001b[0m \u001b[0;36m3\u001b[0m\u001b[0;34m,\u001b[0m \u001b[0;36m4\u001b[0m\u001b[0;34m,\u001b[0m \u001b[0;36m5\u001b[0m\u001b[0;34m,\u001b[0m \u001b[0;36m6\u001b[0m\u001b[0;34m]\u001b[0m\u001b[0;34m\u001b[0m\u001b[0;34m\u001b[0m\u001b[0m\n\u001b[1;32m      2\u001b[0m \u001b[0;34m\u001b[0m\u001b[0m\n\u001b[0;32m----> 3\u001b[0;31m \u001b[0mprint\u001b[0m\u001b[0;34m(\u001b[0m\u001b[0;34m\"::\"\u001b[0m\u001b[0;34m.\u001b[0m\u001b[0mjoin\u001b[0m\u001b[0;34m(\u001b[0m\u001b[0mint\u001b[0m\u001b[0;34m(\u001b[0m\u001b[0mnumbers\u001b[0m\u001b[0;34m)\u001b[0m\u001b[0;34m)\u001b[0m\u001b[0;34m)\u001b[0m\u001b[0;34m\u001b[0m\u001b[0;34m\u001b[0m\u001b[0m\n\u001b[0m",
            "\u001b[0;31mTypeError\u001b[0m: int() argument must be a string, a bytes-like object or a number, not 'list'"
          ]
        }
      ]
    },
    {
      "cell_type": "code",
      "metadata": {
        "id": "9_LVlh9kMzsr",
        "outputId": "44c8a133-12ad-4b10-cdb2-62ce4608222a",
        "colab": {
          "base_uri": "https://localhost:8080/",
          "height": 35
        }
      },
      "source": [
        "numbers = [1, 2, 3, 4, 5, 6]\n",
        "\n",
        "print(\"::\".join(str(numbers)))"
      ],
      "execution_count": 37,
      "outputs": [
        {
          "output_type": "stream",
          "text": [
            "[::1::,:: ::2::,:: ::3::,:: ::4::,:: ::5::,:: ::6::]\n"
          ],
          "name": "stdout"
        }
      ]
    },
    {
      "cell_type": "code",
      "metadata": {
        "id": "yETyt-DjM52p",
        "outputId": "40433cc0-0954-4bbe-bc73-c0658352b522",
        "colab": {
          "base_uri": "https://localhost:8080/",
          "height": 35
        }
      },
      "source": [
        "numbers = [1, 2, 3, 4, 5, 6]\n",
        "\n",
        "print(\"::\".join(map(str, numbers)))"
      ],
      "execution_count": 39,
      "outputs": [
        {
          "output_type": "stream",
          "text": [
            "1::2::3::4::5::6\n"
          ],
          "name": "stdout"
        }
      ]
    },
    {
      "cell_type": "markdown",
      "metadata": {
        "id": "Pgy_vopEOD3f"
      },
      "source": [
        "## 확인문제 2번"
      ]
    },
    {
      "cell_type": "code",
      "metadata": {
        "id": "yAt95CTzOM2Q",
        "outputId": "5854cc28-ba93-4e45-fe5c-9e8123548548",
        "colab": {
          "base_uri": "https://localhost:8080/",
          "height": 179
        }
      },
      "source": [
        "numbers = list(range(1, 10 + 1))\n",
        "\n",
        "print(\"# 홀수만 추출\")\n",
        "print(list(filter(lambda number: number % 2 == 1, numbers)))\n",
        "print()\n",
        "\n",
        "print(\"# 3 이상 7 미만 추출\")\n",
        "print(list(filter(lambda number: 3 <= number < 7, numbers)))\n",
        "print()\n",
        "\n",
        "print(\"# 제곱해서 50 미만 추출\")\n",
        "print(list(filter(lambda number: (number ** 2) < 50, numbers)))\n",
        "print()\n"
      ],
      "execution_count": 43,
      "outputs": [
        {
          "output_type": "stream",
          "text": [
            "# 홀수만 추출\n",
            "[1, 3, 5, 7, 9]\n",
            "\n",
            "# 3 이상 7 미만 추출\n",
            "[3, 4, 5, 6]\n",
            "\n",
            "# 제곱해서 50 미만 추출\n",
            "[1, 2, 3, 4, 5, 6, 7]\n",
            "\n"
          ],
          "name": "stdout"
        }
      ]
    },
    {
      "cell_type": "code",
      "metadata": {
        "id": "9LBq9A7ePFoG"
      },
      "source": [
        ""
      ],
      "execution_count": null,
      "outputs": []
    }
  ]
}