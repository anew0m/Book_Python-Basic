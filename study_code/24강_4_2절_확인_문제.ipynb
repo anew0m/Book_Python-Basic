{
  "nbformat": 4,
  "nbformat_minor": 0,
  "metadata": {
    "colab": {
      "name": "24강 - 4-2절 확인 문제.ipynb",
      "provenance": [],
      "collapsed_sections": [],
      "authorship_tag": "ABX9TyMo3DtImXrZov3HDXklM3KP",
      "include_colab_link": true
    },
    "kernelspec": {
      "name": "python3",
      "display_name": "Python 3"
    }
  },
  "cells": [
    {
      "cell_type": "markdown",
      "metadata": {
        "id": "view-in-github",
        "colab_type": "text"
      },
      "source": [
        "<a href=\"https://colab.research.google.com/github/anew0m/Book_Python-Basic/blob/main/study_code/24%EA%B0%95_4_2%EC%A0%88_%ED%99%95%EC%9D%B8_%EB%AC%B8%EC%A0%9C.ipynb\" target=\"_parent\"><img src=\"https://colab.research.google.com/assets/colab-badge.svg\" alt=\"Open In Colab\"/></a>"
      ]
    },
    {
      "cell_type": "markdown",
      "metadata": {
        "id": "Lo6M8Thd8jiO"
      },
      "source": [
        "# 24강 - 4-2절 확인 문제"
      ]
    },
    {
      "cell_type": "markdown",
      "metadata": {
        "id": "_OxE1-iz8lZD"
      },
      "source": [
        "## 3"
      ]
    },
    {
      "cell_type": "code",
      "metadata": {
        "id": "xqc2PMEi28ze",
        "outputId": "cf4d338c-8279-43ba-f4be-b03a389c7582",
        "colab": {
          "base_uri": "https://localhost:8080/",
          "height": 35
        }
      },
      "source": [
        "numbers = [1, 2, 6, 8, 4, 3, 2, 1, 9, 5, 4, 9, 7, 2, 1, 3, 5, 4, 8, 9, 7, 2, 3]\n",
        "counter = {}\n",
        "\n",
        "for number in numbers :\n",
        "  if counter.get(number) == None :\n",
        "    counter[number] = 1\n",
        "  else :\n",
        "    count = counter[number] + 1\n",
        "    counter[number] = count\n",
        "\n",
        "print(counter)"
      ],
      "execution_count": 6,
      "outputs": [
        {
          "output_type": "stream",
          "text": [
            "{1: 3, 2: 4, 6: 1, 8: 2, 4: 3, 3: 3, 9: 3, 5: 2, 7: 2}\n"
          ],
          "name": "stdout"
        }
      ]
    },
    {
      "cell_type": "code",
      "metadata": {
        "id": "oYO_XqTE63G2",
        "outputId": "38e99606-22df-4074-bd79-db18ffbcf760",
        "colab": {
          "base_uri": "https://localhost:8080/",
          "height": 35
        }
      },
      "source": [
        "numbers = [1, 2, 6, 8, 4, 3, 2, 1, 9, 5, 4, 9, 7, 2, 1, 3, 5, 4, 8, 9, 7, 2, 3]\n",
        "counter = {}\n",
        "\n",
        "for number in numbers :\n",
        "  if number in counter :\n",
        "    counter[number] += 1\n",
        "  else : \n",
        "    counter[number] = 1\n",
        "\n",
        "print(counter)"
      ],
      "execution_count": 8,
      "outputs": [
        {
          "output_type": "stream",
          "text": [
            "{1: 3, 2: 4, 6: 1, 8: 2, 4: 3, 3: 3, 9: 3, 5: 2, 7: 2}\n"
          ],
          "name": "stdout"
        }
      ]
    },
    {
      "cell_type": "markdown",
      "metadata": {
        "id": "1sBeK8Wf8MPj"
      },
      "source": [
        "## 4"
      ]
    },
    {
      "cell_type": "code",
      "metadata": {
        "id": "QklaSG5O8hIV",
        "outputId": "60997ec5-e3f6-4efc-acf3-64dd99e54117",
        "colab": {
          "base_uri": "https://localhost:8080/",
          "height": 35
        }
      },
      "source": [
        "type(\"문자열\") is str"
      ],
      "execution_count": 9,
      "outputs": [
        {
          "output_type": "execute_result",
          "data": {
            "text/plain": [
              "True"
            ]
          },
          "metadata": {
            "tags": []
          },
          "execution_count": 9
        }
      ]
    },
    {
      "cell_type": "code",
      "metadata": {
        "id": "dWvtGIim8p6p",
        "outputId": "d12d2917-1227-4ec5-e2f5-a6c722885a68",
        "colab": {
          "base_uri": "https://localhost:8080/",
          "height": 35
        }
      },
      "source": [
        "type([]) is list"
      ],
      "execution_count": 10,
      "outputs": [
        {
          "output_type": "execute_result",
          "data": {
            "text/plain": [
              "True"
            ]
          },
          "metadata": {
            "tags": []
          },
          "execution_count": 10
        }
      ]
    },
    {
      "cell_type": "code",
      "metadata": {
        "id": "QJ9c4pm_8r0t",
        "outputId": "e1188fd9-cbdf-42e0-823f-639fe493a892",
        "colab": {
          "base_uri": "https://localhost:8080/",
          "height": 35
        }
      },
      "source": [
        "type({}) is dict"
      ],
      "execution_count": 11,
      "outputs": [
        {
          "output_type": "execute_result",
          "data": {
            "text/plain": [
              "True"
            ]
          },
          "metadata": {
            "tags": []
          },
          "execution_count": 11
        }
      ]
    },
    {
      "cell_type": "code",
      "metadata": {
        "id": "O-1ZSrFm8tmM"
      },
      "source": [
        "character = {\n",
        "    \"name\" : \"기사\", \n",
        "    \"level\" : 12,\n",
        "    \"items\" : {\n",
        "        \"sword\" : \"불꽃의 검\", \n",
        "        \"armor\" : \"풀플레이트\"\n",
        "    }, \n",
        "    \"Skill\" : [\"베기\", \"세게 베기\", \"아주 세게 베기\"]\n",
        "}"
      ],
      "execution_count": 19,
      "outputs": []
    },
    {
      "cell_type": "code",
      "metadata": {
        "id": "w9BtHcVSAT-e",
        "outputId": "d46fe221-5b5f-4446-ff3f-9d0c4c359de3",
        "colab": {
          "base_uri": "https://localhost:8080/",
          "height": 55
        }
      },
      "source": [
        "print(character)"
      ],
      "execution_count": 21,
      "outputs": [
        {
          "output_type": "stream",
          "text": [
            "{'name': '기사', 'level': 12, 'items': {'sword': '불꽃의 검', 'armor': '풀플레이트'}, 'Skill': ['베기', '세게 베기', '아주 세게 베기']}\n"
          ],
          "name": "stdout"
        }
      ]
    },
    {
      "cell_type": "code",
      "metadata": {
        "id": "81JSKftH-wXI",
        "outputId": "71c770fb-8414-4ea8-a881-47e287102e31",
        "colab": {
          "base_uri": "https://localhost:8080/",
          "height": 145
        }
      },
      "source": [
        "for key in character:\n",
        "  if type(character[key]) is list :\n",
        "    for k in character[key] :\n",
        "      print(\"{} : {}\".format(key, k))\n",
        "  elif type(character[key]) is dict :\n",
        "    for k in character[key] :\n",
        "      print(\"{} : {}\".format(k, character[key][k]))\n",
        "  else :\n",
        "    print(\"{} : {}\".format(key, character[key]))"
      ],
      "execution_count": 26,
      "outputs": [
        {
          "output_type": "stream",
          "text": [
            "name : 기사\n",
            "level : 12\n",
            "sword : 불꽃의 검\n",
            "armor : 풀플레이트\n",
            "Skill : 베기\n",
            "Skill : 세게 베기\n",
            "Skill : 아주 세게 베기\n"
          ],
          "name": "stdout"
        }
      ]
    },
    {
      "cell_type": "code",
      "metadata": {
        "id": "izZryVyr_X2f"
      },
      "source": [
        ""
      ],
      "execution_count": null,
      "outputs": []
    }
  ]
}