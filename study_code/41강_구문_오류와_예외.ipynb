{
  "nbformat": 4,
  "nbformat_minor": 0,
  "metadata": {
    "colab": {
      "name": "41강 - 구문 오류와 예외.ipynb",
      "provenance": [],
      "authorship_tag": "ABX9TyNLhq5vfV/ZIx6pvdOY4rHc",
      "include_colab_link": true
    },
    "kernelspec": {
      "name": "python3",
      "display_name": "Python 3"
    }
  },
  "cells": [
    {
      "cell_type": "markdown",
      "metadata": {
        "id": "view-in-github",
        "colab_type": "text"
      },
      "source": [
        "<a href=\"https://colab.research.google.com/github/anew0m/Book_Python-Basic/blob/main/study_code/41%EA%B0%95_%EA%B5%AC%EB%AC%B8_%EC%98%A4%EB%A5%98%EC%99%80_%EC%98%88%EC%99%B8.ipynb\" target=\"_parent\"><img src=\"https://colab.research.google.com/assets/colab-badge.svg\" alt=\"Open In Colab\"/></a>"
      ]
    },
    {
      "cell_type": "markdown",
      "metadata": {
        "id": "wjIi3GEjPga7"
      },
      "source": [
        "# 41강 - 구문 오류와 예외"
      ]
    },
    {
      "cell_type": "markdown",
      "metadata": {
        "id": "F-LPDv_-PiBV"
      },
      "source": [
        "구문 오류\n",
        "* 코드에 문제가 있어서\n",
        "* 실행 X"
      ]
    },
    {
      "cell_type": "markdown",
      "metadata": {
        "id": "wNJvAwdxQAZ8"
      },
      "source": [
        "예외(런타임 오류)\n",
        "* 코드 자체 문법적인 오류X\n",
        "* 실행과 관련된 문제\n",
        "* 실행은 가능하나 죽음"
      ]
    },
    {
      "cell_type": "markdown",
      "metadata": {
        "id": "O4EjRzg7QFWU"
      },
      "source": [
        "## 구문 오류(Syntax Error)"
      ]
    },
    {
      "cell_type": "code",
      "metadata": {
        "id": "9Ggv8kZAQKOq",
        "outputId": "8444aa34-9730-4765-c870-1904ddebe24c",
        "colab": {
          "base_uri": "https://localhost:8080/",
          "height": 136
        }
      },
      "source": [
        "print(\"Hello\")\n",
        "print(\"aaaa)"
      ],
      "execution_count": 5,
      "outputs": [
        {
          "output_type": "error",
          "ename": "SyntaxError",
          "evalue": "ignored",
          "traceback": [
            "\u001b[0;36m  File \u001b[0;32m\"<ipython-input-5-efcffa1b57cb>\"\u001b[0;36m, line \u001b[0;32m2\u001b[0m\n\u001b[0;31m    print(\"aaaa)\u001b[0m\n\u001b[0m                ^\u001b[0m\n\u001b[0;31mSyntaxError\u001b[0m\u001b[0;31m:\u001b[0m EOL while scanning string literal\n"
          ]
        }
      ]
    },
    {
      "cell_type": "markdown",
      "metadata": {
        "id": "3dfD3C68QmDw"
      },
      "source": [
        "* 코드 실행되지 않음"
      ]
    },
    {
      "cell_type": "markdown",
      "metadata": {
        "id": "4p7xA1VQQLre"
      },
      "source": [
        "## 예외(Exction)"
      ]
    },
    {
      "cell_type": "code",
      "metadata": {
        "id": "9YLlFRY6QZvc",
        "outputId": "effb5b53-6632-4a52-9391-890ee5e9d8e2",
        "colab": {
          "base_uri": "https://localhost:8080/",
          "height": 226
        }
      },
      "source": [
        "print(\"Hello\")\n",
        "list_a = [1, 2, 3]\n",
        "\n",
        "print(list_a[100])"
      ],
      "execution_count": 4,
      "outputs": [
        {
          "output_type": "stream",
          "text": [
            "Hello\n"
          ],
          "name": "stdout"
        },
        {
          "output_type": "error",
          "ename": "IndexError",
          "evalue": "ignored",
          "traceback": [
            "\u001b[0;31m---------------------------------------------------------------------------\u001b[0m",
            "\u001b[0;31mIndexError\u001b[0m                                Traceback (most recent call last)",
            "\u001b[0;32m<ipython-input-4-a66c0584a019>\u001b[0m in \u001b[0;36m<module>\u001b[0;34m()\u001b[0m\n\u001b[1;32m      2\u001b[0m \u001b[0mlist_a\u001b[0m \u001b[0;34m=\u001b[0m \u001b[0;34m[\u001b[0m\u001b[0;36m1\u001b[0m\u001b[0;34m,\u001b[0m \u001b[0;36m2\u001b[0m\u001b[0;34m,\u001b[0m \u001b[0;36m3\u001b[0m\u001b[0;34m]\u001b[0m\u001b[0;34m\u001b[0m\u001b[0;34m\u001b[0m\u001b[0m\n\u001b[1;32m      3\u001b[0m \u001b[0;34m\u001b[0m\u001b[0m\n\u001b[0;32m----> 4\u001b[0;31m \u001b[0mprint\u001b[0m\u001b[0;34m(\u001b[0m\u001b[0mlist_a\u001b[0m\u001b[0;34m[\u001b[0m\u001b[0;36m100\u001b[0m\u001b[0;34m]\u001b[0m\u001b[0;34m)\u001b[0m\u001b[0;34m\u001b[0m\u001b[0;34m\u001b[0m\u001b[0m\n\u001b[0m",
            "\u001b[0;31mIndexError\u001b[0m: list index out of range"
          ]
        }
      ]
    },
    {
      "cell_type": "markdown",
      "metadata": {
        "id": "8C8XbZ6EQdzn"
      },
      "source": [
        "* 코드는 실행되지만 중간에 죽음"
      ]
    },
    {
      "cell_type": "markdown",
      "metadata": {
        "id": "WnVwL0gmQjrk"
      },
      "source": [
        "### 기본 예외 처리"
      ]
    },
    {
      "cell_type": "code",
      "metadata": {
        "id": "NvSJ-5WIRJrs",
        "outputId": "83f38338-6988-4e98-844e-2c0d7072cbb5",
        "colab": {
          "base_uri": "https://localhost:8080/",
          "height": 208
        }
      },
      "source": [
        "number_input_a = int(input(\"정수 입력 > \"))\n",
        "\n"
      ],
      "execution_count": 6,
      "outputs": [
        {
          "output_type": "stream",
          "text": [
            "정수 입력 > 10.0\n"
          ],
          "name": "stdout"
        },
        {
          "output_type": "error",
          "ename": "ValueError",
          "evalue": "ignored",
          "traceback": [
            "\u001b[0;31m---------------------------------------------------------------------------\u001b[0m",
            "\u001b[0;31mValueError\u001b[0m                                Traceback (most recent call last)",
            "\u001b[0;32m<ipython-input-6-2e77572c6f05>\u001b[0m in \u001b[0;36m<module>\u001b[0;34m()\u001b[0m\n\u001b[0;32m----> 1\u001b[0;31m \u001b[0mnumber_input_a\u001b[0m \u001b[0;34m=\u001b[0m \u001b[0mint\u001b[0m\u001b[0;34m(\u001b[0m\u001b[0minput\u001b[0m\u001b[0;34m(\u001b[0m\u001b[0;34m\"정수 입력 > \"\u001b[0m\u001b[0;34m)\u001b[0m\u001b[0;34m)\u001b[0m\u001b[0;34m\u001b[0m\u001b[0;34m\u001b[0m\u001b[0m\n\u001b[0m\u001b[1;32m      2\u001b[0m \u001b[0;34m\u001b[0m\u001b[0m\n",
            "\u001b[0;31mValueError\u001b[0m: invalid literal for int() with base 10: '10.0'"
          ]
        }
      ]
    },
    {
      "cell_type": "code",
      "metadata": {
        "id": "2ZKK4YiWRSYV",
        "outputId": "cc274069-1601-4600-d586-1984763583b9",
        "colab": {
          "base_uri": "https://localhost:8080/",
          "height": 53
        }
      },
      "source": [
        "string_input = input(\"정수 입력 > \")\n",
        "\n",
        "if string_input.isdigit() :\n",
        "  number_input_a = int(string_input)\n",
        "else :\n",
        "  print(\"정수를 입력해주세요!\")"
      ],
      "execution_count": 7,
      "outputs": [
        {
          "output_type": "stream",
          "text": [
            "정수 입력 > 10.0\n",
            "정수를 입력해주세요!\n"
          ],
          "name": "stdout"
        }
      ]
    },
    {
      "cell_type": "code",
      "metadata": {
        "id": "QhbLkijKRjJ_"
      },
      "source": [
        ""
      ],
      "execution_count": null,
      "outputs": []
    }
  ]
}