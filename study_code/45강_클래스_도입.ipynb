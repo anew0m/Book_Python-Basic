{
  "nbformat": 4,
  "nbformat_minor": 0,
  "metadata": {
    "colab": {
      "name": "45강 - 클래스 도입.ipynb",
      "provenance": [],
      "authorship_tag": "ABX9TyNfj0VwJq3ll06UKnymyBKL",
      "include_colab_link": true
    },
    "kernelspec": {
      "name": "python3",
      "display_name": "Python 3"
    }
  },
  "cells": [
    {
      "cell_type": "markdown",
      "metadata": {
        "id": "view-in-github",
        "colab_type": "text"
      },
      "source": [
        "<a href=\"https://colab.research.google.com/github/anew0m/Book_Python-Basic/blob/main/study_code/45%EA%B0%95_%ED%81%B4%EB%9E%98%EC%8A%A4_%EB%8F%84%EC%9E%85.ipynb\" target=\"_parent\"><img src=\"https://colab.research.google.com/assets/colab-badge.svg\" alt=\"Open In Colab\"/></a>"
      ]
    },
    {
      "cell_type": "markdown",
      "metadata": {
        "id": "DWAnFGtkaHhY"
      },
      "source": [
        "# 45강 - 클래스 도입"
      ]
    },
    {
      "cell_type": "markdown",
      "metadata": {
        "id": "TxhOEsFIaMD4"
      },
      "source": [
        "## 객체(object)의 정의"
      ]
    },
    {
      "cell_type": "markdown",
      "metadata": {
        "id": "5BDWTu6laj-k"
      },
      "source": [
        "* 속성 + 행위"
      ]
    },
    {
      "cell_type": "markdown",
      "metadata": {
        "id": "AUnOGESualzY"
      },
      "source": [
        "## 클래스 기본 구성 요소(1) - 속성 정의하기"
      ]
    },
    {
      "cell_type": "markdown",
      "metadata": {
        "id": "vuA3jhFVa3Ax"
      },
      "source": [
        "## 클래스 기본 구성 요소(2) - 행위 정의하기"
      ]
    },
    {
      "cell_type": "markdown",
      "metadata": {
        "id": "ea9zXWoPbELX"
      },
      "source": [
        "## 클래스 기본 요소(3) - 객체를 만드는 함수"
      ]
    },
    {
      "cell_type": "markdown",
      "metadata": {
        "id": "UJYYlqNfbhRI"
      },
      "source": [
        "## 클래스 구문 - 속성과 행위 합치기"
      ]
    },
    {
      "cell_type": "code",
      "metadata": {
        "id": "qwwZiF-VcATf"
      },
      "source": [
        "class 학생 : \n",
        "  def __init__(self, name, korean, math) :\n",
        "    self.name = name\n",
        "    self.korean = korean\n",
        "    self.math = math\n",
        "  \n",
        "  def 총점(self) :\n",
        "    return self.korean + self.math"
      ],
      "execution_count": 1,
      "outputs": []
    },
    {
      "cell_type": "code",
      "metadata": {
        "id": "1r7ILujPcoWE"
      },
      "source": [
        "students = [\n",
        "  학생(\"정민호\", 87, 60),\n",
        "  학생(\"정호민\", 60, 90)\n",
        "]"
      ],
      "execution_count": 3,
      "outputs": []
    },
    {
      "cell_type": "code",
      "metadata": {
        "id": "CXqQRGyDc3dG",
        "outputId": "db36f273-2e41-4986-f32a-5d0f714d34df",
        "colab": {
          "base_uri": "https://localhost:8080/",
          "height": 53
        }
      },
      "source": [
        "for student in students :\n",
        "  print(student.총점())"
      ],
      "execution_count": 7,
      "outputs": [
        {
          "output_type": "stream",
          "text": [
            "147\n",
            "150\n"
          ],
          "name": "stdout"
        }
      ]
    },
    {
      "cell_type": "code",
      "metadata": {
        "id": "UH_usDgQdE7O"
      },
      "source": [
        ""
      ],
      "execution_count": null,
      "outputs": []
    }
  ]
}