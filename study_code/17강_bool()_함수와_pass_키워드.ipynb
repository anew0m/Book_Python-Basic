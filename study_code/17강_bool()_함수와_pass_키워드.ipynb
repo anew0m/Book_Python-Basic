{
  "nbformat": 4,
  "nbformat_minor": 0,
  "metadata": {
    "colab": {
      "name": "17강 - bool() 함수와 pass 키워드.ipynb",
      "provenance": [],
      "authorship_tag": "ABX9TyNYQWJfS8LEGlSGaCh4NSWh",
      "include_colab_link": true
    },
    "kernelspec": {
      "name": "python3",
      "display_name": "Python 3"
    }
  },
  "cells": [
    {
      "cell_type": "markdown",
      "metadata": {
        "id": "view-in-github",
        "colab_type": "text"
      },
      "source": [
        "<a href=\"https://colab.research.google.com/github/anew0m/Book_Python-Basic/blob/main/study_code/17%EA%B0%95_bool()_%ED%95%A8%EC%88%98%EC%99%80_pass_%ED%82%A4%EC%9B%8C%EB%93%9C.ipynb\" target=\"_parent\"><img src=\"https://colab.research.google.com/assets/colab-badge.svg\" alt=\"Open In Colab\"/></a>"
      ]
    },
    {
      "cell_type": "markdown",
      "metadata": {
        "id": "T5P_py4DXxgv"
      },
      "source": [
        "# 17강 - bool() 함수와 pass 키워드"
      ]
    },
    {
      "cell_type": "markdown",
      "metadata": {
        "id": "9eQGlIDQYH3Z"
      },
      "source": [
        "## bool() 함수"
      ]
    },
    {
      "cell_type": "code",
      "metadata": {
        "id": "TYxtzqpSXzmE",
        "outputId": "bc474d7d-abd6-4b85-b4b2-713b7121c19d",
        "colab": {
          "base_uri": "https://localhost:8080/",
          "height": 136
        }
      },
      "source": [
        "bool(??)"
      ],
      "execution_count": 3,
      "outputs": [
        {
          "output_type": "error",
          "ename": "SyntaxError",
          "evalue": "ignored",
          "traceback": [
            "\u001b[0;36m  File \u001b[0;32m\"<ipython-input-3-279d987641f0>\"\u001b[0;36m, line \u001b[0;32m1\u001b[0m\n\u001b[0;31m    bool(??)\u001b[0m\n\u001b[0m         ^\u001b[0m\n\u001b[0;31mSyntaxError\u001b[0m\u001b[0;31m:\u001b[0m invalid syntax\n"
          ]
        }
      ]
    },
    {
      "cell_type": "code",
      "metadata": {
        "id": "L4sQvoQPYEn4",
        "outputId": "15308116-f59a-46b1-8c2b-bc937dee6df4",
        "colab": {
          "base_uri": "https://localhost:8080/",
          "height": 35
        }
      },
      "source": [
        "bool(0)"
      ],
      "execution_count": 4,
      "outputs": [
        {
          "output_type": "execute_result",
          "data": {
            "text/plain": [
              "False"
            ]
          },
          "metadata": {
            "tags": []
          },
          "execution_count": 4
        }
      ]
    },
    {
      "cell_type": "code",
      "metadata": {
        "id": "8SP5dVK7YGuF",
        "outputId": "9ab8dbd4-8b84-4ec4-e5d3-6c0646411c9c",
        "colab": {
          "base_uri": "https://localhost:8080/",
          "height": 35
        }
      },
      "source": [
        "bool(1)"
      ],
      "execution_count": 6,
      "outputs": [
        {
          "output_type": "execute_result",
          "data": {
            "text/plain": [
              "True"
            ]
          },
          "metadata": {
            "tags": []
          },
          "execution_count": 6
        }
      ]
    },
    {
      "cell_type": "markdown",
      "metadata": {
        "id": "ixLA_So2YLYu"
      },
      "source": [
        "빈 컨테이너 = bool() -> False\n",
        "* \"\"\n",
        "* b\"\"\n",
        "* []\n",
        "* ()\n",
        "* {}"
      ]
    },
    {
      "cell_type": "code",
      "metadata": {
        "id": "hMK0aI8cYSql",
        "outputId": "e16d0339-24a5-47d2-92aa-812d6285df1e",
        "colab": {
          "base_uri": "https://localhost:8080/",
          "height": 108
        }
      },
      "source": [
        "print(bool(\"\" ))\n",
        "print(bool(b\"\"))\n",
        "print(bool([] ))\n",
        "print(bool(() ))\n",
        "print(bool({} ))"
      ],
      "execution_count": 8,
      "outputs": [
        {
          "output_type": "stream",
          "text": [
            "False\n",
            "False\n",
            "False\n",
            "False\n",
            "False\n"
          ],
          "name": "stdout"
        }
      ]
    },
    {
      "cell_type": "markdown",
      "metadata": {
        "id": "IFM4yjM9Yefz"
      },
      "source": [
        "## pass 함수"
      ]
    },
    {
      "cell_type": "code",
      "metadata": {
        "id": "tPCgMduVZYve",
        "outputId": "da9423d4-a772-4410-9a1a-56c978c153ea",
        "colab": {
          "base_uri": "https://localhost:8080/",
          "height": 136
        }
      },
      "source": [
        "number = 0 # 나중에\n",
        "\n",
        "if number != 0 :\n",
        "  # 로직\n",
        "else :\n",
        "  # 로직"
      ],
      "execution_count": 10,
      "outputs": [
        {
          "output_type": "error",
          "ename": "IndentationError",
          "evalue": "ignored",
          "traceback": [
            "\u001b[0;36m  File \u001b[0;32m\"<ipython-input-10-afc9037d81dc>\"\u001b[0;36m, line \u001b[0;32m5\u001b[0m\n\u001b[0;31m    else :\u001b[0m\n\u001b[0m       ^\u001b[0m\n\u001b[0;31mIndentationError\u001b[0m\u001b[0;31m:\u001b[0m expected an indented block\n"
          ]
        }
      ]
    },
    {
      "cell_type": "code",
      "metadata": {
        "id": "1RKHyokcZd-x"
      },
      "source": [
        "number = 0 # 나중에\n",
        "\n",
        "if number != 0 :\n",
        "  pass\n",
        "else :\n",
        "  pass"
      ],
      "execution_count": 11,
      "outputs": []
    },
    {
      "cell_type": "code",
      "metadata": {
        "id": "dWwFs_cHZfxn"
      },
      "source": [
        ""
      ],
      "execution_count": null,
      "outputs": []
    }
  ]
}