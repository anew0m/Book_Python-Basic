{
  "nbformat": 4,
  "nbformat_minor": 0,
  "metadata": {
    "colab": {
      "name": "47강 - 특이한 이름의 함수.ipynb",
      "provenance": [],
      "authorship_tag": "ABX9TyNEBxJbtGEr6h8ZqCI6f0Nm",
      "include_colab_link": true
    },
    "kernelspec": {
      "name": "python3",
      "display_name": "Python 3"
    }
  },
  "cells": [
    {
      "cell_type": "markdown",
      "metadata": {
        "id": "view-in-github",
        "colab_type": "text"
      },
      "source": [
        "<a href=\"https://colab.research.google.com/github/anew0m/Book_Python-Basic/blob/main/study_code/47%EA%B0%95_%ED%8A%B9%EC%9D%B4%ED%95%9C_%EC%9D%B4%EB%A6%84%EC%9D%98_%ED%95%A8%EC%88%98.ipynb\" target=\"_parent\"><img src=\"https://colab.research.google.com/assets/colab-badge.svg\" alt=\"Open In Colab\"/></a>"
      ]
    },
    {
      "cell_type": "markdown",
      "metadata": {
        "id": "SlfPyh67gnNx"
      },
      "source": [
        "# 47강 - 특이한 이름의 함수"
      ]
    },
    {
      "cell_type": "markdown",
      "metadata": {
        "id": "fGDdMvQ-jUr9"
      },
      "source": [
        "## __str__() 함수"
      ]
    },
    {
      "cell_type": "code",
      "metadata": {
        "id": "N5_H4H4cjk_s",
        "outputId": "47661ce8-7265-479b-9aab-b056b9662c29",
        "colab": {
          "base_uri": "https://localhost:8080/",
          "height": 89
        }
      },
      "source": [
        "class Student :\n",
        "  def __str__(self) :\n",
        "    return \"문자열\"\n",
        "\n",
        "\n",
        "  def __init__(self, 이름, 나이) :\n",
        "    print(\"객체가 생성되었습니다.\")\n",
        "    self.이름 = 이름\n",
        "    self.나이 = 나이\n",
        "\n",
        "  def __del__(self) :\n",
        "    print(\"객체가 소멸되었습니다.\")\n",
        "  \n",
        "  def 출력(self) :\n",
        "    print(self.이름, self.나이)\n",
        "\n",
        "\n",
        "\n",
        "student = Student(\"정민호\", 20)\n",
        "student.출력()\n",
        "print(str(student))"
      ],
      "execution_count": 2,
      "outputs": [
        {
          "output_type": "stream",
          "text": [
            "객체가 생성되었습니다.\n",
            "객체가 소멸되었습니다.\n",
            "정민호 20\n",
            "문자열\n"
          ],
          "name": "stdout"
        }
      ]
    },
    {
      "cell_type": "code",
      "metadata": {
        "id": "5HsZsFmrjqeE",
        "outputId": "6b26928e-845d-4487-a45c-3017ddd1a096",
        "colab": {
          "base_uri": "https://localhost:8080/",
          "height": 89
        }
      },
      "source": [
        "class Student :\n",
        "  def __str__(self) :\n",
        "    return \"{}  {}\".format(self.이름, self.나이)\n",
        "  \n",
        "  def to_string(self) :\n",
        "    return \"{}  {}\".format(self.이름, self.나이)\n",
        "\n",
        "  def __init__(self, 이름, 나이) :\n",
        "    print(\"객체가 생성되었습니다.\")\n",
        "    self.이름 = 이름\n",
        "    self.나이 = 나이\n",
        "\n",
        "  def __del__(self) :\n",
        "    print(\"객체가 소멸되었습니다.\")\n",
        "  \n",
        "  def 출력(self) :\n",
        "    print(self.이름, self.나이)\n",
        "\n",
        "\n",
        "\n",
        "student = Student(\"정민호\", 20)\n",
        "\n",
        "print(str(student))\n",
        "print(student.to_string())\n"
      ],
      "execution_count": 6,
      "outputs": [
        {
          "output_type": "stream",
          "text": [
            "객체가 생성되었습니다.\n",
            "객체가 소멸되었습니다.\n",
            "정민호  20\n",
            "정민호  20\n"
          ],
          "name": "stdout"
        }
      ]
    },
    {
      "cell_type": "markdown",
      "metadata": {
        "id": "9YLfeJdPkDYG"
      },
      "source": [
        "## 비교 연산자의 영어 표현"
      ]
    },
    {
      "cell_type": "markdown",
      "metadata": {
        "id": "QdmTbvBakWZG"
      },
      "source": [
        "같다\n",
        "* eq\n",
        "* equal"
      ]
    },
    {
      "cell_type": "markdown",
      "metadata": {
        "id": "PhyvkF3VkZ0b"
      },
      "source": [
        "다르다\n",
        "* ne\n",
        "* not equal"
      ]
    },
    {
      "cell_type": "markdown",
      "metadata": {
        "id": "VJIs0WILkdwM"
      },
      "source": [
        "크다 / 작다\n",
        "* gt / lt\n",
        "* greater than / less than"
      ]
    },
    {
      "cell_type": "markdown",
      "metadata": {
        "id": "j2GsDgH5kkzl"
      },
      "source": [
        "크거나 같다 / 작거나 같다\n",
        "* ge(=gte) / le(=lte)\n",
        "* greater than or equal / less than or equal"
      ]
    },
    {
      "cell_type": "code",
      "metadata": {
        "id": "VTdxsh4jkvMn",
        "outputId": "6a72b88a-b662-4708-f55c-061408fbf05e",
        "colab": {
          "base_uri": "https://localhost:8080/",
          "height": 377
        }
      },
      "source": [
        "class Student :\n",
        "  def __init__(self, 이름, 나이) :\n",
        "    print(\"객체가 생성되었습니다.\")\n",
        "    self.이름 = 이름\n",
        "    self.나이 = 나이\n",
        "  \n",
        "  def __eq__(self, other) :\n",
        "    print(\"eq() : \")\n",
        "  def __ne__(self, other) :\n",
        "    print(\"ne() : \")\n",
        "  def __gt__(self, other) :\n",
        "    print(\"gt() : \")\n",
        "  def __ge__(self, other) :\n",
        "    print(\"ge() : \")\n",
        "  def __lt__(self, other) :\n",
        "    print(\"lt() : \")\n",
        "  def __ge__(self, other) :\n",
        "    print(\"ge() : \")\n",
        "\n",
        "\n",
        "\n",
        "student = Student(\"정민호\", 20)\n",
        "\n",
        "student == student\n",
        "student != student\n",
        "student >  student\n",
        "student >= student\n",
        "student <  student\n",
        "student <= student\n",
        "\n",
        "print(\"-\" * 10)\n",
        "\n",
        "print(student == student)\n",
        "print(student != student)\n",
        "print(student >  student)\n",
        "print(student >= student)\n",
        "print(student <  student)\n",
        "print(student <= student)\n"
      ],
      "execution_count": 8,
      "outputs": [
        {
          "output_type": "stream",
          "text": [
            "객체가 생성되었습니다.\n",
            "eq() : \n",
            "ne() : \n",
            "gt() : \n",
            "ge() : \n",
            "lt() : \n",
            "ge() : \n",
            "----------\n",
            "eq() : \n",
            "None\n",
            "ne() : \n",
            "None\n",
            "gt() : \n",
            "None\n",
            "ge() : \n",
            "None\n",
            "lt() : \n",
            "None\n",
            "ge() : \n",
            "None\n"
          ],
          "name": "stdout"
        }
      ]
    },
    {
      "cell_type": "code",
      "metadata": {
        "id": "u96oiAPllZIg",
        "outputId": "64a4ce9c-a1d5-4ceb-d512-c23c1195f0a2",
        "colab": {
          "base_uri": "https://localhost:8080/",
          "height": 377
        }
      },
      "source": [
        "class Student :\n",
        "  def __init__(self, 이름, 나이) :\n",
        "    print(\"객체가 생성되었습니다.\")\n",
        "    self.이름 = 이름\n",
        "    self.나이 = 나이\n",
        "  \n",
        "  def __eq__(self, other) :\n",
        "    print(\"eq() : \")\n",
        "    return (self.나이 == other.나이) and (self.이름 == other.이름)\n",
        "  def __ne__(self, other) :\n",
        "    print(\"ne() : \")\n",
        "    return (self.나이 != other.나이) and (self.이름 != other.이름)\n",
        "  def __gt__(self, other) :\n",
        "    print(\"gt() : \")\n",
        "    return (self.나이 > other.나이) and (self.이름 > other.이름)\n",
        "  def __ge__(self, other) :\n",
        "    print(\"ge() : \")\n",
        "    return (self.나이 >= other.나이) and (self.이름 >= other.이름)\n",
        "  def __lt__(self, other) :\n",
        "    print(\"lt() : \")\n",
        "    return (self.나이 < other.나이) and (self.이름 < other.이름)\n",
        "  def __ge__(self, other) :\n",
        "    print(\"ge() : \")\n",
        "    return (self.나이 <= other.나이) and (self.이름 <= other.이름)\n",
        "\n",
        "\n",
        "\n",
        "student = Student(\"정민호\", 20)\n",
        "\n",
        "student == student\n",
        "student != student\n",
        "student >  student\n",
        "student >= student\n",
        "student <  student\n",
        "student <= student\n",
        "\n",
        "print(\"-\" * 10)\n",
        "\n",
        "print(student == student)\n",
        "print(student != student)\n",
        "print(student >  student)\n",
        "print(student >= student)\n",
        "print(student <  student)\n",
        "print(student <= student)\n"
      ],
      "execution_count": 9,
      "outputs": [
        {
          "output_type": "stream",
          "text": [
            "객체가 생성되었습니다.\n",
            "eq() : \n",
            "ne() : \n",
            "gt() : \n",
            "ge() : \n",
            "lt() : \n",
            "ge() : \n",
            "----------\n",
            "eq() : \n",
            "True\n",
            "ne() : \n",
            "False\n",
            "gt() : \n",
            "False\n",
            "ge() : \n",
            "True\n",
            "lt() : \n",
            "False\n",
            "ge() : \n",
            "True\n"
          ],
          "name": "stdout"
        }
      ]
    },
    {
      "cell_type": "code",
      "metadata": {
        "id": "bEvqFAARl3x7"
      },
      "source": [
        ""
      ],
      "execution_count": null,
      "outputs": []
    }
  ]
}