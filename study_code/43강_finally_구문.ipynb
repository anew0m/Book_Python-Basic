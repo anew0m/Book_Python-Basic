{
  "nbformat": 4,
  "nbformat_minor": 0,
  "metadata": {
    "colab": {
      "name": "43강 - finally 구문.ipynb",
      "provenance": [],
      "authorship_tag": "ABX9TyN+OqlN9s5jDW+zvUhyyJ+b",
      "include_colab_link": true
    },
    "kernelspec": {
      "name": "python3",
      "display_name": "Python 3"
    }
  },
  "cells": [
    {
      "cell_type": "markdown",
      "metadata": {
        "id": "view-in-github",
        "colab_type": "text"
      },
      "source": [
        "<a href=\"https://colab.research.google.com/github/anew0m/Book_Python-Basic/blob/main/study_code/43%EA%B0%95_finally_%EA%B5%AC%EB%AC%B8.ipynb\" target=\"_parent\"><img src=\"https://colab.research.google.com/assets/colab-badge.svg\" alt=\"Open In Colab\"/></a>"
      ]
    },
    {
      "cell_type": "markdown",
      "metadata": {
        "id": "IJ8jm2RqT6L-"
      },
      "source": [
        "# 43강 - finally 구문"
      ]
    },
    {
      "cell_type": "markdown",
      "metadata": {
        "id": "bJRe3-IhUUfc"
      },
      "source": [
        "* else 구문은 ruby와 python 에 있으며 잘 사용하지 않음"
      ]
    },
    {
      "cell_type": "markdown",
      "metadata": {
        "id": "VJ5fWcjqUjJi"
      },
      "source": [
        "## finally 구문의 기본 형태"
      ]
    },
    {
      "cell_type": "code",
      "metadata": {
        "id": "gYn7TwFcUlAr"
      },
      "source": [
        "try:\n",
        "  # 예외가 발생할 가능성이 있는 코드\n",
        "  pass\n",
        "except:\n",
        "  # 예외가 발생했을 경우 실행할 코드\n",
        "  pass\n",
        "finally:\n",
        "  # 선택적 사용\n",
        "  # 무조건적으로 실행하는 코드\n",
        "  pass\n"
      ],
      "execution_count": 1,
      "outputs": []
    },
    {
      "cell_type": "code",
      "metadata": {
        "id": "HZEcUVrTU2n3",
        "outputId": "5a034730-0f19-448f-9471-e7dfa73be3a7",
        "colab": {
          "base_uri": "https://localhost:8080/",
          "height": 53
        }
      },
      "source": [
        "try:\n",
        "  # 예외가 발생할 가능성이 있는 코드\n",
        "  number = int(\"--\")\n",
        "  print(\"try\")\n",
        "  pass\n",
        "except:\n",
        "  # 예외가 발생했을 경우 실행할 코드\n",
        "  print(\"except\")\n",
        "  pass\n",
        "finally:\n",
        "  # 선택적 사용\n",
        "  # 무조건적으로 실행하는 코드\n",
        "  print(\"finally\")\n",
        "  pass\n"
      ],
      "execution_count": 2,
      "outputs": [
        {
          "output_type": "stream",
          "text": [
            "except\n",
            "finally\n"
          ],
          "name": "stdout"
        }
      ]
    },
    {
      "cell_type": "markdown",
      "metadata": {
        "id": "hOjcNcEqVGKb"
      },
      "source": [
        "## finally 를 언제 쓰나?"
      ]
    },
    {
      "cell_type": "markdown",
      "metadata": {
        "id": "Fwy9ulcGVJU8"
      },
      "source": [
        "* 함수 내부에서 : return\n",
        "* 반복문 내부 break"
      ]
    },
    {
      "cell_type": "markdown",
      "metadata": {
        "id": "L4rQ-7HPVWlx"
      },
      "source": [
        "* return 구문을 만나도 finally 는 무조건 실행됨"
      ]
    },
    {
      "cell_type": "code",
      "metadata": {
        "id": "IVqNN2pGVqO2",
        "outputId": "01af8708-0db9-4bb2-d1e8-771ab8259fa4",
        "colab": {
          "base_uri": "https://localhost:8080/",
          "height": 53
        }
      },
      "source": [
        "def test() :\n",
        "  try:\n",
        "      # 예외가 발생할 가능성이 있는 코드\n",
        "      print(\"try\")\n",
        "      return\n",
        "  except:\n",
        "    # 예외가 발생했을 경우 실행할 코드\n",
        "    print(\"except\")\n",
        "  finally:\n",
        "    # 선택적 사용\n",
        "    # 무조건적으로 실행하는 코드\n",
        "    print(\"finally\")\n",
        "  print(\"return\")\n",
        "\n",
        "test()"
      ],
      "execution_count": 9,
      "outputs": [
        {
          "output_type": "stream",
          "text": [
            "try\n",
            "finally\n"
          ],
          "name": "stdout"
        }
      ]
    },
    {
      "cell_type": "code",
      "metadata": {
        "id": "vsTT3nAQVv6L",
        "outputId": "48d61c2c-ff8b-4959-c33a-f535919b9cd4",
        "colab": {
          "base_uri": "https://localhost:8080/",
          "height": 53
        }
      },
      "source": [
        "while True:\n",
        "  try:\n",
        "    # 예외가 발생할 가능성이 있는 코드\n",
        "    print(\"try\")\n",
        "    break\n",
        "  except:\n",
        "    # 예외가 발생했을 경우 실행할 코드\n",
        "    print(\"except\")\n",
        "  finally:\n",
        "    # 선택적 사용\n",
        "    # 무조건적으로 실행하는 코드\n",
        "    print(\"finally\")\n",
        "  print(\"break\")"
      ],
      "execution_count": 13,
      "outputs": [
        {
          "output_type": "stream",
          "text": [
            "try\n",
            "finally\n"
          ],
          "name": "stdout"
        }
      ]
    },
    {
      "cell_type": "markdown",
      "metadata": {
        "id": "n8jzTGmiWXiu"
      },
      "source": [
        "## finally 구문은 뒷 정리가 필요할 때 사용"
      ]
    },
    {
      "cell_type": "markdown",
      "metadata": {
        "id": "fs043q1DWxoh"
      },
      "source": [
        "* 파일 읽고 쓰고 닫을 때 등등"
      ]
    },
    {
      "cell_type": "code",
      "metadata": {
        "id": "wLPpSPmvW26L"
      },
      "source": [
        ""
      ],
      "execution_count": null,
      "outputs": []
    }
  ]
}