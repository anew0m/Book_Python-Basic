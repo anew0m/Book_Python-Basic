{
  "nbformat": 4,
  "nbformat_minor": 0,
  "metadata": {
    "colab": {
      "name": "31강 - 함수 기본.ipynb",
      "provenance": [],
      "authorship_tag": "ABX9TyPdN2LeiCpFifUqdYHfIF4M",
      "include_colab_link": true
    },
    "kernelspec": {
      "name": "python3",
      "display_name": "Python 3"
    }
  },
  "cells": [
    {
      "cell_type": "markdown",
      "metadata": {
        "id": "view-in-github",
        "colab_type": "text"
      },
      "source": [
        "<a href=\"https://colab.research.google.com/github/anew0m/Book_Python-Basic/blob/main/study_code/31%EA%B0%95_%ED%95%A8%EC%88%98_%EA%B8%B0%EB%B3%B8.ipynb\" target=\"_parent\"><img src=\"https://colab.research.google.com/assets/colab-badge.svg\" alt=\"Open In Colab\"/></a>"
      ]
    },
    {
      "cell_type": "markdown",
      "metadata": {
        "id": "c7adi-NlXDZ9"
      },
      "source": [
        "# 31강 - 함수 기본"
      ]
    },
    {
      "cell_type": "markdown",
      "metadata": {
        "id": "_ERYzuOhXFFs"
      },
      "source": [
        "## 함수와 관련된 용어 정리"
      ]
    },
    {
      "cell_type": "markdown",
      "metadata": {
        "id": "rDF4DrAJcjJv"
      },
      "source": [
        "* 함수를 사용한다 = 함수 호출 = function call"
      ]
    },
    {
      "cell_type": "markdown",
      "metadata": {
        "id": "nzLXphsIcmai"
      },
      "source": [
        "* 함수 괄호에 넣는 함수의 목적어들 = 매개 변수"
      ]
    },
    {
      "cell_type": "markdown",
      "metadata": {
        "id": "Kc95RE5zco9o"
      },
      "source": [
        "* 함수의 결과 = 리턴값"
      ]
    },
    {
      "cell_type": "markdown",
      "metadata": {
        "id": "jjS66q4vcr47"
      },
      "source": [
        "## 함수의 기본 형태"
      ]
    },
    {
      "cell_type": "code",
      "metadata": {
        "id": "U5ZEf_A6c2Ne"
      },
      "source": [
        "# 함수 선언\n",
        "def 함수이름() :\n",
        "  pass\n",
        "  # 로직"
      ],
      "execution_count": 1,
      "outputs": []
    },
    {
      "cell_type": "code",
      "metadata": {
        "id": "EIt2V4llc7WJ"
      },
      "source": [
        "# 함수 호출\n",
        "함수이름()"
      ],
      "execution_count": 3,
      "outputs": []
    },
    {
      "cell_type": "markdown",
      "metadata": {
        "id": "KSWRW9uAdAYU"
      },
      "source": [
        "* 조건문의 의의 : 실행을 한다 or 안한다\n",
        "* 반복문의 의의 : 같은 곳을 여러 번 실행한다\n",
        "* 함수의 의의 : 실행을 다른 곳으로 확 이동해버린다"
      ]
    },
    {
      "cell_type": "markdown",
      "metadata": {
        "id": "0_DbkWtPdTnL"
      },
      "source": [
        "## 매개 변수 만들기"
      ]
    },
    {
      "cell_type": "code",
      "metadata": {
        "id": "yYdmAO-2daHl"
      },
      "source": [
        "# 함수 선언\n",
        "def 함수이름(매개변수1, 매개변수2, 매개변수3, 매개변수4) :\n",
        "  print(\"Hello : \" + str(매개변수1))\n",
        "  print(\"Hello : \" + str(매개변수2))\n",
        "  print(\"Hello : \" + str(매개변수3))\n",
        "  print(\"Hello : \" + str(매개변수4))"
      ],
      "execution_count": 6,
      "outputs": []
    },
    {
      "cell_type": "code",
      "metadata": {
        "id": "pxZWJYjddcjr",
        "outputId": "15e96866-26fe-49f9-ed5f-a87dfcd2b359",
        "colab": {
          "base_uri": "https://localhost:8080/",
          "height": 89
        }
      },
      "source": [
        "# 함수 호출\n",
        "함수이름(1, 2, 3, 4)"
      ],
      "execution_count": 7,
      "outputs": [
        {
          "output_type": "stream",
          "text": [
            "Hello : 1\n",
            "Hello : 2\n",
            "Hello : 3\n",
            "Hello : 4\n"
          ],
          "name": "stdout"
        }
      ]
    },
    {
      "cell_type": "code",
      "metadata": {
        "id": "2CbWGAj6ddQ_",
        "outputId": "00bc4950-54ba-4b7a-a404-3367fd8369d2",
        "colab": {
          "base_uri": "https://localhost:8080/",
          "height": 89
        }
      },
      "source": [
        "# 함수 호출\n",
        "함수이름(111, 222, 3, 4444)"
      ],
      "execution_count": 8,
      "outputs": [
        {
          "output_type": "stream",
          "text": [
            "Hello : 111\n",
            "Hello : 222\n",
            "Hello : 3\n",
            "Hello : 4444\n"
          ],
          "name": "stdout"
        }
      ]
    },
    {
      "cell_type": "markdown",
      "metadata": {
        "id": "HKzvm77adtB1"
      },
      "source": [
        "## 리턴 : 왔던곳으로 돌아감"
      ]
    },
    {
      "cell_type": "code",
      "metadata": {
        "id": "euyjmQYLduEB"
      },
      "source": [
        "# 함수 선언\n",
        "def 함수이름(매개변수1, 매개변수2, 매개변수3, 매개변수4) :\n",
        "  print(\"Hello : \" + str(매개변수1))\n",
        "  print(\"Hello : \" + str(매개변수2))\n",
        "  return\n",
        "  print(\"Hello : \" + str(매개변수3))\n",
        "  print(\"Hello : \" + str(매개변수4))"
      ],
      "execution_count": 11,
      "outputs": []
    },
    {
      "cell_type": "code",
      "metadata": {
        "id": "LRHjrDVbdw-w",
        "outputId": "aaaf0ff7-33e7-4952-b26f-869ace3c86a3",
        "colab": {
          "base_uri": "https://localhost:8080/",
          "height": 53
        }
      },
      "source": [
        "# 함수 호출\n",
        "함수이름(111, 222, 3, 4444)"
      ],
      "execution_count": 12,
      "outputs": [
        {
          "output_type": "stream",
          "text": [
            "Hello : 111\n",
            "Hello : 222\n"
          ],
          "name": "stdout"
        }
      ]
    },
    {
      "cell_type": "code",
      "metadata": {
        "id": "5Kmj-qijd2uI"
      },
      "source": [
        "# 함수 선언\n",
        "def 함수이름(매개변수1, 매개변수2, 매개변수3, 매개변수4) :\n",
        "  print(\"Hello : \" + str(매개변수1))\n",
        "  print(\"Hello : \" + str(매개변수2))\n",
        "  return 1\n",
        "  print(\"Hello : \" + str(매개변수3))\n",
        "  print(\"Hello : \" + str(매개변수4))"
      ],
      "execution_count": 13,
      "outputs": []
    },
    {
      "cell_type": "code",
      "metadata": {
        "id": "uYKzOjTveBXB",
        "outputId": "578689d4-9c91-4ea1-c34a-9c5737ccabaf",
        "colab": {
          "base_uri": "https://localhost:8080/",
          "height": 71
        }
      },
      "source": [
        "# 함수 호출\n",
        "print(함수이름(111, 222, 3, 4444))"
      ],
      "execution_count": 14,
      "outputs": [
        {
          "output_type": "stream",
          "text": [
            "Hello : 111\n",
            "Hello : 222\n",
            "1\n"
          ],
          "name": "stdout"
        }
      ]
    },
    {
      "cell_type": "code",
      "metadata": {
        "id": "oPIs_bMseDdx"
      },
      "source": [
        ""
      ],
      "execution_count": null,
      "outputs": []
    }
  ]
}