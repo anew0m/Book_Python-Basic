{
  "nbformat": 4,
  "nbformat_minor": 0,
  "metadata": {
    "colab": {
      "name": "30강 - 리스트 내포(List Comprehension).ipynb",
      "provenance": [],
      "authorship_tag": "ABX9TyNNTakHXhharKKxfbd2nnwZ",
      "include_colab_link": true
    },
    "kernelspec": {
      "name": "python3",
      "display_name": "Python 3"
    }
  },
  "cells": [
    {
      "cell_type": "markdown",
      "metadata": {
        "id": "view-in-github",
        "colab_type": "text"
      },
      "source": [
        "<a href=\"https://colab.research.google.com/github/anew0m/Book_Python-Basic/blob/main/study_code/30%EA%B0%95_%EB%A6%AC%EC%8A%A4%ED%8A%B8_%EB%82%B4%ED%8F%AC(List_Comprehension).ipynb\" target=\"_parent\"><img src=\"https://colab.research.google.com/assets/colab-badge.svg\" alt=\"Open In Colab\"/></a>"
      ]
    },
    {
      "cell_type": "markdown",
      "metadata": {
        "id": "ab2fV3vcSp4f"
      },
      "source": [
        "# 30강 - 리스트 내포(List Comprehension)"
      ]
    },
    {
      "cell_type": "markdown",
      "metadata": {
        "id": "9rlpnKBUSrZ9"
      },
      "source": [
        "## 반복문을 사용한 리스트 생성"
      ]
    },
    {
      "cell_type": "code",
      "metadata": {
        "id": "nUpbHqacTocT",
        "outputId": "5bfcbec8-b71c-4e2a-ef09-e5166454c7c1",
        "colab": {
          "base_uri": "https://localhost:8080/",
          "height": 35
        }
      },
      "source": [
        "array = []\n",
        "\n",
        "for i in range (0, 20, 2) :\n",
        "  array.append(i * i)\n",
        "\n",
        "print(array)"
      ],
      "execution_count": 1,
      "outputs": [
        {
          "output_type": "stream",
          "text": [
            "[0, 4, 16, 36, 64, 100, 144, 196, 256, 324]\n"
          ],
          "name": "stdout"
        }
      ]
    },
    {
      "cell_type": "markdown",
      "metadata": {
        "id": "1ZJ3EoOTTxTH"
      },
      "source": [
        "## 리스트 내포"
      ]
    },
    {
      "cell_type": "code",
      "metadata": {
        "id": "vovamSG6T8sN",
        "outputId": "56ed0ce1-b292-4360-a72e-ebfc69863242",
        "colab": {
          "base_uri": "https://localhost:8080/",
          "height": 35
        }
      },
      "source": [
        "array = []\n",
        "\n",
        "array = [i * i for i in range(0, 20, 2)]\n",
        "\n",
        "print(array)"
      ],
      "execution_count": 3,
      "outputs": [
        {
          "output_type": "stream",
          "text": [
            "[0, 4, 16, 36, 64, 100, 144, 196, 256, 324]\n"
          ],
          "name": "stdout"
        }
      ]
    },
    {
      "cell_type": "markdown",
      "metadata": {
        "id": "NBwqk0W9UEpb"
      },
      "source": [
        "## 리스트 내포 예"
      ]
    },
    {
      "cell_type": "code",
      "metadata": {
        "id": "Ket_WUUnUJs3"
      },
      "source": [
        "array_1 = [i for i in range(10)]"
      ],
      "execution_count": 4,
      "outputs": []
    },
    {
      "cell_type": "code",
      "metadata": {
        "id": "dhegWSRmUOHT"
      },
      "source": [
        "array_2 = [i for i in range(0, 10, 2)]"
      ],
      "execution_count": 5,
      "outputs": []
    },
    {
      "cell_type": "code",
      "metadata": {
        "id": "WoVZMEMAURd9"
      },
      "source": [
        "array_3 = [1 for i in range(10)]"
      ],
      "execution_count": 7,
      "outputs": []
    },
    {
      "cell_type": "code",
      "metadata": {
        "id": "RRQqaC2iUVi5",
        "outputId": "7f484db7-0bfc-4668-8000-b9e0c1fdc586",
        "colab": {
          "base_uri": "https://localhost:8080/",
          "height": 71
        }
      },
      "source": [
        "print(array_1)\n",
        "print(array_2)\n",
        "print(array_3)\n"
      ],
      "execution_count": 8,
      "outputs": [
        {
          "output_type": "stream",
          "text": [
            "[0, 1, 2, 3, 4, 5, 6, 7, 8, 9]\n",
            "[0, 2, 4, 6, 8]\n",
            "[1, 1, 1, 1, 1, 1, 1, 1, 1, 1]\n"
          ],
          "name": "stdout"
        }
      ]
    },
    {
      "cell_type": "markdown",
      "metadata": {
        "id": "WzlASMyUUjnH"
      },
      "source": [
        "## 리스트 내포와 조건문"
      ]
    },
    {
      "cell_type": "code",
      "metadata": {
        "id": "cHChHUJ1UlDG"
      },
      "source": [
        "array_1 = [i for i in range(10) if i % 3 == 0]"
      ],
      "execution_count": 9,
      "outputs": []
    },
    {
      "cell_type": "code",
      "metadata": {
        "id": "vPHOGZyeUpWH",
        "outputId": "f993ab8e-74fb-4120-c4ab-c50f6de55d71",
        "colab": {
          "base_uri": "https://localhost:8080/",
          "height": 35
        }
      },
      "source": [
        "print(array_1)"
      ],
      "execution_count": 10,
      "outputs": [
        {
          "output_type": "stream",
          "text": [
            "[0, 3, 6, 9]\n"
          ],
          "name": "stdout"
        }
      ]
    },
    {
      "cell_type": "markdown",
      "metadata": {
        "id": "0Qgb75_ZUqLO"
      },
      "source": [
        "## 확인문제 2번 : 10진수 - 2진수 변환"
      ]
    },
    {
      "cell_type": "code",
      "metadata": {
        "id": "AuFqb0TSUvOQ",
        "outputId": "8bba5afe-40b5-4a6f-b617-630fdf9ddd0b",
        "colab": {
          "base_uri": "https://localhost:8080/",
          "height": 35
        }
      },
      "source": [
        "\"{:b}\".format(10)"
      ],
      "execution_count": 11,
      "outputs": [
        {
          "output_type": "execute_result",
          "data": {
            "application/vnd.google.colaboratory.intrinsic+json": {
              "type": "string"
            },
            "text/plain": [
              "'1010'"
            ]
          },
          "metadata": {
            "tags": []
          },
          "execution_count": 11
        }
      ]
    },
    {
      "cell_type": "code",
      "metadata": {
        "id": "2yS_PuPwU4o2",
        "outputId": "c0d25efa-c372-4995-d9a0-cc6e9b17d8d8",
        "colab": {
          "base_uri": "https://localhost:8080/",
          "height": 35
        }
      },
      "source": [
        "int(\"1010\", 2)"
      ],
      "execution_count": 12,
      "outputs": [
        {
          "output_type": "execute_result",
          "data": {
            "text/plain": [
              "10"
            ]
          },
          "metadata": {
            "tags": []
          },
          "execution_count": 12
        }
      ]
    },
    {
      "cell_type": "code",
      "metadata": {
        "id": "49WhEaMPU6K5",
        "outputId": "5fa8d368-e82b-41e7-d916-c70a87da0605",
        "colab": {
          "base_uri": "https://localhost:8080/",
          "height": 35
        }
      },
      "source": [
        "\"{:o}\".format(10)"
      ],
      "execution_count": 13,
      "outputs": [
        {
          "output_type": "execute_result",
          "data": {
            "application/vnd.google.colaboratory.intrinsic+json": {
              "type": "string"
            },
            "text/plain": [
              "'12'"
            ]
          },
          "metadata": {
            "tags": []
          },
          "execution_count": 13
        }
      ]
    },
    {
      "cell_type": "code",
      "metadata": {
        "id": "g0mtjFURU-Nf",
        "outputId": "67cd9c9a-6f1f-458c-950c-aa46bb2ef5ba",
        "colab": {
          "base_uri": "https://localhost:8080/",
          "height": 35
        }
      },
      "source": [
        "\"{:x}\".format(10)"
      ],
      "execution_count": 14,
      "outputs": [
        {
          "output_type": "execute_result",
          "data": {
            "application/vnd.google.colaboratory.intrinsic+json": {
              "type": "string"
            },
            "text/plain": [
              "'a'"
            ]
          },
          "metadata": {
            "tags": []
          },
          "execution_count": 14
        }
      ]
    },
    {
      "cell_type": "markdown",
      "metadata": {
        "id": "mkj2Z_9kU-6o"
      },
      "source": [
        "## count() 함수"
      ]
    },
    {
      "cell_type": "code",
      "metadata": {
        "id": "I928GFOvVBRX",
        "outputId": "06545c47-ef90-4327-fbe6-5ca8c9d37b1c",
        "colab": {
          "base_uri": "https://localhost:8080/",
          "height": 35
        }
      },
      "source": [
        "\"helloHello\".count(\"l\")"
      ],
      "execution_count": 15,
      "outputs": [
        {
          "output_type": "execute_result",
          "data": {
            "text/plain": [
              "4"
            ]
          },
          "metadata": {
            "tags": []
          },
          "execution_count": 15
        }
      ]
    },
    {
      "cell_type": "markdown",
      "metadata": {
        "id": "DmMBEuY1VEym"
      },
      "source": [
        "## 진짜 문제"
      ]
    },
    {
      "cell_type": "code",
      "metadata": {
        "id": "nRQRDM1LVN8V",
        "outputId": "ce49ec28-8b5d-4632-aa4a-0ac86a2efd0f",
        "colab": {
          "base_uri": "https://localhost:8080/",
          "height": 323
        }
      },
      "source": [
        "output = None\n",
        "\n",
        "output = [i for i in range(1, 100 + 1) if \"{:b}\".format(i).count(\"0\") == 1]\n",
        "\n",
        "for i in output :\n",
        "  print(\"{} : {}\".format(i, \"{:b}\".format(i)))\n",
        "\n",
        "print(\"합계 : \", sum(output))"
      ],
      "execution_count": 22,
      "outputs": [
        {
          "output_type": "stream",
          "text": [
            "2 : 10\n",
            "5 : 101\n",
            "6 : 110\n",
            "11 : 1011\n",
            "13 : 1101\n",
            "14 : 1110\n",
            "23 : 10111\n",
            "27 : 11011\n",
            "29 : 11101\n",
            "30 : 11110\n",
            "47 : 101111\n",
            "55 : 110111\n",
            "59 : 111011\n",
            "61 : 111101\n",
            "62 : 111110\n",
            "95 : 1011111\n",
            "합계 :  539\n"
          ],
          "name": "stdout"
        }
      ]
    },
    {
      "cell_type": "code",
      "metadata": {
        "id": "LjuvpiuoWSDN"
      },
      "source": [
        ""
      ],
      "execution_count": null,
      "outputs": []
    }
  ]
}