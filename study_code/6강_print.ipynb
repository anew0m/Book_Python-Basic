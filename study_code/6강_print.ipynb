{
  "nbformat": 4,
  "nbformat_minor": 0,
  "metadata": {
    "colab": {
      "name": "6강_print.ipynb",
      "provenance": [],
      "authorship_tag": "ABX9TyNPBS6rt++R3Y12HwtDY6y0",
      "include_colab_link": true
    },
    "kernelspec": {
      "name": "python3",
      "display_name": "Python 3"
    }
  },
  "cells": [
    {
      "cell_type": "markdown",
      "metadata": {
        "id": "view-in-github",
        "colab_type": "text"
      },
      "source": [
        "<a href=\"https://colab.research.google.com/github/anew0m/Book_PythonToStudyAlone/blob/main/study_code/6%EA%B0%95_print.ipynb\" target=\"_parent\"><img src=\"https://colab.research.google.com/assets/colab-badge.svg\" alt=\"Open In Colab\"/></a>"
      ]
    },
    {
      "cell_type": "markdown",
      "metadata": {
        "id": "6VSpCBsOZdLu"
      },
      "source": [
        "# 6강- print()"
      ]
    },
    {
      "cell_type": "markdown",
      "metadata": {
        "id": "esCARRQAaAdV"
      },
      "source": [
        "## print 함수 기본"
      ]
    },
    {
      "cell_type": "code",
      "metadata": {
        "id": "BqtdBLJtamXI",
        "outputId": "afd7307a-abbc-41c1-c67f-ef6e66be7d64",
        "colab": {
          "base_uri": "https://localhost:8080/",
          "height": 35
        }
      },
      "source": [
        "print(1, 2, 3, 4, 5, 6)"
      ],
      "execution_count": 2,
      "outputs": [
        {
          "output_type": "stream",
          "text": [
            "1 2 3 4 5 6\n"
          ],
          "name": "stdout"
        }
      ]
    },
    {
      "cell_type": "code",
      "metadata": {
        "id": "SQl4rlZ7a7Db",
        "outputId": "79e58862-42c1-4549-f842-a42bb74c77b9",
        "colab": {
          "base_uri": "https://localhost:8080/",
          "height": 35
        }
      },
      "source": [
        "\"1, 2, 3, 4, 5, 6\""
      ],
      "execution_count": 4,
      "outputs": [
        {
          "output_type": "execute_result",
          "data": {
            "application/vnd.google.colaboratory.intrinsic+json": {
              "type": "string"
            },
            "text/plain": [
              "'1, 2, 3, 4, 5, 6'"
            ]
          },
          "metadata": {
            "tags": []
          },
          "execution_count": 4
        }
      ]
    },
    {
      "cell_type": "markdown",
      "metadata": {
        "id": "08XCyRKNa-JQ"
      },
      "source": [
        "### 하나만 출력"
      ]
    },
    {
      "cell_type": "code",
      "metadata": {
        "id": "T1oemsRqbh9v",
        "outputId": "eb56017e-efd2-4070-bd2b-8b654d6a69b5",
        "colab": {
          "base_uri": "https://localhost:8080/",
          "height": 35
        }
      },
      "source": [
        "print(\"Hello world\")"
      ],
      "execution_count": 5,
      "outputs": [
        {
          "output_type": "stream",
          "text": [
            "Hello world\n"
          ],
          "name": "stdout"
        }
      ]
    },
    {
      "cell_type": "markdown",
      "metadata": {
        "id": "GeIrVbELbpit"
      },
      "source": [
        "### 여러개를 출력"
      ]
    },
    {
      "cell_type": "code",
      "metadata": {
        "id": "_oqJmEhMbsNY",
        "outputId": "312135c5-2fc4-49b2-d0b5-d65e58a0ba19",
        "colab": {
          "base_uri": "https://localhost:8080/",
          "height": 35
        }
      },
      "source": [
        "print(\"Hello\", \"world\")"
      ],
      "execution_count": 6,
      "outputs": [
        {
          "output_type": "stream",
          "text": [
            "Hello world\n"
          ],
          "name": "stdout"
        }
      ]
    },
    {
      "cell_type": "markdown",
      "metadata": {
        "id": "RiOchqf4bwRh"
      },
      "source": [
        "### 아무것도 입력하지 않으면 단순하게 줄바꿈"
      ]
    },
    {
      "cell_type": "code",
      "metadata": {
        "id": "NA4p-xm_b0-N",
        "outputId": "de38d488-61c7-474d-9477-c3cc431bae1f",
        "colab": {
          "base_uri": "https://localhost:8080/",
          "height": 35
        }
      },
      "source": [
        "print()"
      ],
      "execution_count": 8,
      "outputs": [
        {
          "output_type": "stream",
          "text": [
            "\n"
          ],
          "name": "stdout"
        }
      ]
    },
    {
      "cell_type": "code",
      "metadata": {
        "id": "YlAveQ_Ob2Wn"
      },
      "source": [
        ""
      ],
      "execution_count": null,
      "outputs": []
    }
  ]
}