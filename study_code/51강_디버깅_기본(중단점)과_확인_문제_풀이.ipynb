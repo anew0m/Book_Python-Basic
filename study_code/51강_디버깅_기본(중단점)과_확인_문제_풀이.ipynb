{
  "nbformat": 4,
  "nbformat_minor": 0,
  "metadata": {
    "colab": {
      "name": "51강 - 디버깅 기본(중단점)과 확인 문제 풀이.ipynb",
      "provenance": [],
      "authorship_tag": "ABX9TyPXurdPV4K0hxdhmxn4S+mk",
      "include_colab_link": true
    },
    "kernelspec": {
      "name": "python3",
      "display_name": "Python 3"
    }
  },
  "cells": [
    {
      "cell_type": "markdown",
      "metadata": {
        "id": "view-in-github",
        "colab_type": "text"
      },
      "source": [
        "<a href=\"https://colab.research.google.com/github/anew0m/Book_Python-Basic/blob/main/study_code/51%EA%B0%95_%EB%94%94%EB%B2%84%EA%B9%85_%EA%B8%B0%EB%B3%B8(%EC%A4%91%EB%8B%A8%EC%A0%90)%EA%B3%BC_%ED%99%95%EC%9D%B8_%EB%AC%B8%EC%A0%9C_%ED%92%80%EC%9D%B4.ipynb\" target=\"_parent\"><img src=\"https://colab.research.google.com/assets/colab-badge.svg\" alt=\"Open In Colab\"/></a>"
      ]
    },
    {
      "cell_type": "markdown",
      "metadata": {
        "id": "Q91d22TVthRK"
      },
      "source": [
        "# 51강 - 디버깅 기본(중단점)과 확인 문제 풀이"
      ]
    },
    {
      "cell_type": "markdown",
      "metadata": {
        "id": "ZApZtGrbtmLu"
      },
      "source": [
        "## 확인문제 1번"
      ]
    },
    {
      "cell_type": "markdown",
      "metadata": {
        "id": "5agaG3RhtpCi"
      },
      "source": [
        "## 확인문제 2번"
      ]
    },
    {
      "cell_type": "markdown",
      "metadata": {
        "id": "hzp7AUV4tvz-"
      },
      "source": [
        "## 확인문제 3번"
      ]
    },
    {
      "cell_type": "code",
      "metadata": {
        "id": "LLXPIppbtx58",
        "outputId": "a22501d7-8c06-4347-8ec6-b8c8169376dd",
        "colab": {
          "base_uri": "https://localhost:8080/",
          "height": 107
        }
      },
      "source": [
        "import os\n",
        "\n",
        "output = os.listdir(\".\")\n",
        "print(\"os.listdir()\", output)\n",
        "print()\n",
        "\n",
        "\n",
        "print(\"# 폴더와 파일 구분하기\")\n",
        "for path in output :\n",
        "  if os.path.isdir(path) :\n",
        "    print(\"폴더 : \", path)\n",
        "  else :\n",
        "    print(\"파일 : \", path)"
      ],
      "execution_count": 2,
      "outputs": [
        {
          "output_type": "stream",
          "text": [
            "os.listdir() ['.config', 'sample_data']\n",
            "\n",
            "# 폴더와 파일 구분하기\n",
            "폴더 :  .config\n",
            "폴더 :  sample_data\n"
          ],
          "name": "stdout"
        }
      ]
    },
    {
      "cell_type": "code",
      "metadata": {
        "id": "hHoFKdSzt81-",
        "outputId": "8dd0625b-e789-4dad-8060-db4a95aec03a",
        "colab": {
          "base_uri": "https://localhost:8080/",
          "height": 377
        }
      },
      "source": [
        "import os\n",
        "\n",
        "\n",
        "def read_folder(path) :\n",
        "  output = os.listdir(path)\n",
        "\n",
        "  for item in output:\n",
        "    if os.path.isdir(path + \"/\" + item) :\n",
        "      read_folder(path + \"/\" + item)\n",
        "    else :\n",
        "      print(\"파일 : \", item)\n",
        "\n",
        "read_folder(\".\")"
      ],
      "execution_count": 9,
      "outputs": [
        {
          "output_type": "stream",
          "text": [
            "파일 :  .last_opt_in_prompt.yaml\n",
            "파일 :  config_sentinel\n",
            "파일 :  .last_update_check.json\n",
            "파일 :  gce\n",
            "파일 :  config_default\n",
            "파일 :  .last_survey_prompt.yaml\n",
            "파일 :  active_config\n",
            "파일 :  16.27.54.418101.log\n",
            "파일 :  16.27.55.103911.log\n",
            "파일 :  16.27.19.812994.log\n",
            "파일 :  16.27.01.177242.log\n",
            "파일 :  16.27.33.175128.log\n",
            "파일 :  16.27.38.524584.log\n",
            "파일 :  .metricsUUID\n",
            "파일 :  README.md\n",
            "파일 :  anscombe.json\n",
            "파일 :  mnist_train_small.csv\n",
            "파일 :  california_housing_test.csv\n",
            "파일 :  mnist_test.csv\n",
            "파일 :  california_housing_train.csv\n"
          ],
          "name": "stdout"
        }
      ]
    },
    {
      "cell_type": "markdown",
      "metadata": {
        "id": "oOmbLsZIvE_t"
      },
      "source": [
        "## 디버깅 : 간단한 중단점 사용법"
      ]
    },
    {
      "cell_type": "markdown",
      "metadata": {
        "id": "DINwQO3GwGq2"
      },
      "source": [
        "* 버그(bug) : 사소한 결함, 프로그램의 예상하지 못한 오류\n",
        "* 디버그(debug) : 버그를 제거하는 것\n",
        "* 디버거(debugger) : 그걸 도와주는 프로그램"
      ]
    },
    {
      "cell_type": "code",
      "metadata": {
        "id": "2dCUp6NDwWiT"
      },
      "source": [
        ""
      ],
      "execution_count": null,
      "outputs": []
    }
  ]
}