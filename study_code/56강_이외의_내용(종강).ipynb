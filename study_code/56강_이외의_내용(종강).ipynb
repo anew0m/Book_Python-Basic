{
  "nbformat": 4,
  "nbformat_minor": 0,
  "metadata": {
    "colab": {
      "name": "56강 - 이외의 내용(종강).ipynb",
      "provenance": [],
      "authorship_tag": "ABX9TyOsVMOHGS2+9oy+rzs3XgLL",
      "include_colab_link": true
    },
    "kernelspec": {
      "name": "python3",
      "display_name": "Python 3"
    }
  },
  "cells": [
    {
      "cell_type": "markdown",
      "metadata": {
        "id": "view-in-github",
        "colab_type": "text"
      },
      "source": [
        "<a href=\"https://colab.research.google.com/github/anew0m/Book_Python-Basic/blob/main/study_code/56%EA%B0%95_%EC%9D%B4%EC%99%B8%EC%9D%98_%EB%82%B4%EC%9A%A9(%EC%A2%85%EA%B0%95).ipynb\" target=\"_parent\"><img src=\"https://colab.research.google.com/assets/colab-badge.svg\" alt=\"Open In Colab\"/></a>"
      ]
    },
    {
      "cell_type": "markdown",
      "metadata": {
        "id": "9dWpbQYNsNIH"
      },
      "source": [
        "# 56강 - 이외의 내용(종강)"
      ]
    },
    {
      "cell_type": "markdown",
      "metadata": {
        "id": "stfrkob5sPnG"
      },
      "source": [
        "1. 함수 데코레이터\n",
        "2. 상속\n",
        "3. 최대값 최소값 구하기"
      ]
    },
    {
      "cell_type": "markdown",
      "metadata": {
        "id": "AD3-ErlhsTBq"
      },
      "source": [
        "## 데코레이터"
      ]
    },
    {
      "cell_type": "markdown",
      "metadata": {
        "id": "vm1Mpox2tEtA"
      },
      "source": [
        "@ <- 데코레이터\n",
        "* 어떤 함수에 \"미리 만든 규격화된 처리\"를 적용할 때 사용하는 것"
      ]
    },
    {
      "cell_type": "markdown",
      "metadata": {
        "id": "zMSAILzqtKdm"
      },
      "source": [
        "함수 데코레이터\n",
        "* 함수로 만든 데코레이터\n",
        "\n",
        "클래스 데코레이터\n",
        "* 클래스로 만든 데코레이터"
      ]
    },
    {
      "cell_type": "code",
      "metadata": {
        "id": "jQULCwbhtPpn",
        "outputId": "b4a19b98-ffd1-45bd-9f76-395f991a82c4",
        "colab": {
          "base_uri": "https://localhost:8080/",
          "height": 73
        }
      },
      "source": [
        "# 함수 데코레이터\n",
        "\n",
        "def 데코레이터(함수) :\n",
        "  print(\":미리 어떤 처리를 진행\")\n",
        "  return 함수\n",
        "\n",
        "def 테스트() :\n",
        "  print(\"안녕하세요\")\n",
        "\n",
        "테스트 = 데코레이터(테스트)\n",
        "print(\"-\" * 10)\n",
        "테스트()"
      ],
      "execution_count": 3,
      "outputs": [
        {
          "output_type": "stream",
          "text": [
            ":미리 어떤 처리를 진행\n",
            "----------\n",
            "안녕하세요\n"
          ],
          "name": "stdout"
        }
      ]
    },
    {
      "cell_type": "code",
      "metadata": {
        "id": "FgPW2D96tgrJ",
        "outputId": "49ddb769-efaa-4fc2-aac8-2290cb2c4292",
        "colab": {
          "base_uri": "https://localhost:8080/",
          "height": 73
        }
      },
      "source": [
        "# 함수 데코레이터\n",
        "\n",
        "def 데코레이터(함수) :\n",
        "  print(\":미리 어떤 처리를 진행\")\n",
        "  return 함수\n",
        "\n",
        "@데코레이터\n",
        "def 테스트() :\n",
        "  print(\"안녕하세요\")\n",
        "\n",
        "\n",
        "print(\"-\" * 10)\n",
        "테스트()"
      ],
      "execution_count": 4,
      "outputs": [
        {
          "output_type": "stream",
          "text": [
            ":미리 어떤 처리를 진행\n",
            "----------\n",
            "안녕하세요\n"
          ],
          "name": "stdout"
        }
      ]
    },
    {
      "cell_type": "code",
      "metadata": {
        "id": "vRAL8aSTt9vT",
        "outputId": "ef6a408d-6673-4604-8c70-2e6eaeb2d1a9",
        "colab": {
          "base_uri": "https://localhost:8080/",
          "height": 55
        }
      },
      "source": [
        "def 외부데코레이터(number) :\n",
        "  def 데코레이터(함수) :\n",
        "    print(\":미리 어떤 처리를 진행\", number)\n",
        "    return 함수\n",
        "  return 데코레이터\n",
        "\n",
        "@외부데코레이터(number=100)\n",
        "def 테스트():\n",
        "  print(\"안녕하세요\")\n",
        "\n",
        "테스트()"
      ],
      "execution_count": 5,
      "outputs": [
        {
          "output_type": "stream",
          "text": [
            ":미리 어떤 처리를 진행 100\n",
            "안녕하세요\n"
          ],
          "name": "stdout"
        }
      ]
    },
    {
      "cell_type": "markdown",
      "metadata": {
        "id": "r5EdBLpAujVn"
      },
      "source": [
        "## 상속"
      ]
    },
    {
      "cell_type": "markdown",
      "metadata": {
        "id": "rYYzJiI1uzs4"
      },
      "source": [
        "상속 : Inheritance\n",
        "* 어떤 클래스가 가지고 있는 기능을 물려 받는 것"
      ]
    },
    {
      "cell_type": "code",
      "metadata": {
        "id": "PeJOx5Gyu5sE"
      },
      "source": [
        "# 클래스 > 최상위 부모클래스 무조건 상속!!!"
      ],
      "execution_count": 6,
      "outputs": []
    },
    {
      "cell_type": "code",
      "metadata": {
        "id": "P131mQ2Ju-j1",
        "outputId": "3d10247c-8cae-4c1f-8e15-c8a6be5b9d15",
        "colab": {
          "base_uri": "https://localhost:8080/",
          "height": 36
        }
      },
      "source": [
        "class 부모 :\n",
        "  pass\n",
        "\n",
        "b = 부모()\n",
        "부모.mro()"
      ],
      "execution_count": 8,
      "outputs": [
        {
          "output_type": "execute_result",
          "data": {
            "text/plain": [
              "[__main__.부모, object]"
            ]
          },
          "metadata": {
            "tags": []
          },
          "execution_count": 8
        }
      ]
    },
    {
      "cell_type": "code",
      "metadata": {
        "id": "D1_N5qH4vIOB",
        "outputId": "e9a1b64a-4d41-425a-e491-98f05021f5fa",
        "colab": {
          "base_uri": "https://localhost:8080/",
          "height": 55
        }
      },
      "source": [
        "class 부모 :\n",
        "  pass\n",
        "\n",
        "class 자식(부모) :\n",
        "  pass\n",
        "\n",
        "print(부모.mro())\n",
        "print(자식.mro())\n"
      ],
      "execution_count": 11,
      "outputs": [
        {
          "output_type": "stream",
          "text": [
            "[<class '__main__.부모'>, <class 'object'>]\n",
            "[<class '__main__.자식'>, <class '__main__.부모'>, <class 'object'>]\n"
          ],
          "name": "stdout"
        }
      ]
    },
    {
      "cell_type": "code",
      "metadata": {
        "id": "vvkKYHhfvrhp",
        "outputId": "a732bbe1-49ad-42d4-a65d-50dca6e6cf96",
        "colab": {
          "base_uri": "https://localhost:8080/",
          "height": 36
        }
      },
      "source": [
        "class 부모 :\n",
        "  def test(self) :\n",
        "    print(\"test\")\n",
        "\n",
        "class 자식(부모) :\n",
        "  pass\n",
        "\n",
        "a = 자식()\n",
        "a.test()"
      ],
      "execution_count": 12,
      "outputs": [
        {
          "output_type": "stream",
          "text": [
            "test\n"
          ],
          "name": "stdout"
        }
      ]
    },
    {
      "cell_type": "markdown",
      "metadata": {
        "id": "TYzdD0HJwDJk"
      },
      "source": [
        "## 최대값과 최소값"
      ]
    },
    {
      "cell_type": "code",
      "metadata": {
        "id": "QLkTPtz2wTS0",
        "outputId": "8ac4bc0c-9128-4d09-ec45-dacac494d7ee",
        "colab": {
          "base_uri": "https://localhost:8080/",
          "height": 55
        }
      },
      "source": [
        "목록 = [1, 2, 3, 4, 5, 6]\n",
        "최소값 = 목록[0]\n",
        "최대값 = 목록[0]\n",
        "\n",
        "for i in 목록:\n",
        "  if 최소값 > i :\n",
        "    최소값 = i\n",
        "  elif 최대값 < i :\n",
        "    최대값 = i\n",
        "\n",
        "print(최소값)\n",
        "print(최대값)\n",
        "  \n",
        "  "
      ],
      "execution_count": 13,
      "outputs": [
        {
          "output_type": "stream",
          "text": [
            "1\n",
            "6\n"
          ],
          "name": "stdout"
        }
      ]
    },
    {
      "cell_type": "code",
      "metadata": {
        "id": "FyaJI25_xLId"
      },
      "source": [
        ""
      ],
      "execution_count": null,
      "outputs": []
    }
  ]
}