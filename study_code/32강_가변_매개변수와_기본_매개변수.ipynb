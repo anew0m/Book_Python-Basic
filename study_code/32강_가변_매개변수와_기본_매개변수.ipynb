{
  "nbformat": 4,
  "nbformat_minor": 0,
  "metadata": {
    "colab": {
      "name": "32강 - 가변 매개변수와 기본 매개변수.ipynb",
      "provenance": [],
      "authorship_tag": "ABX9TyM/mYFNCpl44sHV8x7lyzVJ",
      "include_colab_link": true
    },
    "kernelspec": {
      "name": "python3",
      "display_name": "Python 3"
    }
  },
  "cells": [
    {
      "cell_type": "markdown",
      "metadata": {
        "id": "view-in-github",
        "colab_type": "text"
      },
      "source": [
        "<a href=\"https://colab.research.google.com/github/anew0m/Book_Python-Basic/blob/main/study_code/32%EA%B0%95_%EA%B0%80%EB%B3%80_%EB%A7%A4%EA%B0%9C%EB%B3%80%EC%88%98%EC%99%80_%EA%B8%B0%EB%B3%B8_%EB%A7%A4%EA%B0%9C%EB%B3%80%EC%88%98.ipynb\" target=\"_parent\"><img src=\"https://colab.research.google.com/assets/colab-badge.svg\" alt=\"Open In Colab\"/></a>"
      ]
    },
    {
      "cell_type": "markdown",
      "metadata": {
        "id": "Ck5qIwJCeO5_"
      },
      "source": [
        "# 32강 - 가변 매개변수와 기본 매개변수"
      ]
    },
    {
      "cell_type": "markdown",
      "metadata": {
        "id": "lp3BNWhWeQGP"
      },
      "source": [
        "## 함수 복습"
      ]
    },
    {
      "cell_type": "code",
      "metadata": {
        "id": "pY4qryqoeR1G"
      },
      "source": [
        "def print_n_times(value, n) :\n",
        "  for i in range(n) :\n",
        "    print(value)\n"
      ],
      "execution_count": 11,
      "outputs": []
    },
    {
      "cell_type": "code",
      "metadata": {
        "id": "m-Kt61mdedVJ",
        "outputId": "2d8bef7e-6732-4115-93fb-ed14d30ff722",
        "colab": {
          "base_uri": "https://localhost:8080/",
          "height": 172
        }
      },
      "source": [
        "print_n_times(10)"
      ],
      "execution_count": 12,
      "outputs": [
        {
          "output_type": "error",
          "ename": "TypeError",
          "evalue": "ignored",
          "traceback": [
            "\u001b[0;31m---------------------------------------------------------------------------\u001b[0m",
            "\u001b[0;31mTypeError\u001b[0m                                 Traceback (most recent call last)",
            "\u001b[0;32m<ipython-input-12-50756a378c1e>\u001b[0m in \u001b[0;36m<module>\u001b[0;34m()\u001b[0m\n\u001b[0;32m----> 1\u001b[0;31m \u001b[0mprint_n_times\u001b[0m\u001b[0;34m(\u001b[0m\u001b[0;36m10\u001b[0m\u001b[0;34m)\u001b[0m\u001b[0;34m\u001b[0m\u001b[0;34m\u001b[0m\u001b[0m\n\u001b[0m",
            "\u001b[0;31mTypeError\u001b[0m: print_n_times() missing 1 required positional argument: 'n'"
          ]
        }
      ]
    },
    {
      "cell_type": "code",
      "metadata": {
        "id": "uUHo9bkIef_l",
        "outputId": "0bb450e0-20bc-4328-ba68-079a67bfff24",
        "colab": {
          "base_uri": "https://localhost:8080/",
          "height": 53
        }
      },
      "source": [
        "print_n_times(10, 2)"
      ],
      "execution_count": 13,
      "outputs": [
        {
          "output_type": "stream",
          "text": [
            "10\n",
            "10\n"
          ],
          "name": "stdout"
        }
      ]
    },
    {
      "cell_type": "markdown",
      "metadata": {
        "id": "Kpm4f9daeipt"
      },
      "source": [
        "## 가변 매개변수 함수"
      ]
    },
    {
      "cell_type": "code",
      "metadata": {
        "id": "TnNbIWDvewVF",
        "outputId": "2e405233-2b01-4cbd-edd6-f17cec326881",
        "colab": {
          "base_uri": "https://localhost:8080/",
          "height": 136
        }
      },
      "source": [
        "def 함수이름(매개변수1, 매개변수2, *가변매개변수1, *가변매개변수2) :\n",
        "  pass"
      ],
      "execution_count": 14,
      "outputs": [
        {
          "output_type": "error",
          "ename": "SyntaxError",
          "evalue": "ignored",
          "traceback": [
            "\u001b[0;36m  File \u001b[0;32m\"<ipython-input-14-6ae14281515c>\"\u001b[0;36m, line \u001b[0;32m1\u001b[0m\n\u001b[0;31m    def 함수이름(매개변수1, 매개변수2, *가변매개변수1, *가변매개변수2) :\u001b[0m\n\u001b[0m                                     ^\u001b[0m\n\u001b[0;31mSyntaxError\u001b[0m\u001b[0;31m:\u001b[0m invalid syntax\n"
          ]
        }
      ]
    },
    {
      "cell_type": "code",
      "metadata": {
        "id": "_cann-pke8Lu",
        "outputId": "0c48ad45-0dba-446c-fd8c-97baf3e62a6d",
        "colab": {
          "base_uri": "https://localhost:8080/",
          "height": 71
        }
      },
      "source": [
        "def 함수이름(매개변수1, 매개변수2, *가변매개변수1) :\n",
        "  print(매개변수1)\n",
        "  print(매개변수2)\n",
        "  print(가변매개변수1)\n",
        "\n",
        "함수이름(0, 1, 2, 3, 4, 5, 6, 7, 8)"
      ],
      "execution_count": 23,
      "outputs": [
        {
          "output_type": "stream",
          "text": [
            "0\n",
            "1\n",
            "(2, 3, 4, 5, 6, 7, 8)\n"
          ],
          "name": "stdout"
        }
      ]
    },
    {
      "cell_type": "code",
      "metadata": {
        "id": "e_rtvgDOe9i1",
        "outputId": "339397e9-f513-4e3f-ae53-bdd6b208a8e6",
        "colab": {
          "base_uri": "https://localhost:8080/",
          "height": 226
        }
      },
      "source": [
        "def 함수이름(*가변매개변수1, 매개변수1, 매개변수2) :\n",
        "  print(매개변수1)\n",
        "  print(매개변수2)\n",
        "  print(가변매개변수1)\n",
        "\n",
        "함수이름(0, 1, 2, 3, 4, 5, 6, 7, 8)"
      ],
      "execution_count": 24,
      "outputs": [
        {
          "output_type": "error",
          "ename": "TypeError",
          "evalue": "ignored",
          "traceback": [
            "\u001b[0;31m---------------------------------------------------------------------------\u001b[0m",
            "\u001b[0;31mTypeError\u001b[0m                                 Traceback (most recent call last)",
            "\u001b[0;32m<ipython-input-24-e109d48484a7>\u001b[0m in \u001b[0;36m<module>\u001b[0;34m()\u001b[0m\n\u001b[1;32m      4\u001b[0m   \u001b[0mprint\u001b[0m\u001b[0;34m(\u001b[0m\u001b[0m가변매개변수1\u001b[0m\u001b[0;34m)\u001b[0m\u001b[0;34m\u001b[0m\u001b[0;34m\u001b[0m\u001b[0m\n\u001b[1;32m      5\u001b[0m \u001b[0;34m\u001b[0m\u001b[0m\n\u001b[0;32m----> 6\u001b[0;31m \u001b[0m함수이름\u001b[0m\u001b[0;34m(\u001b[0m\u001b[0;36m0\u001b[0m\u001b[0;34m,\u001b[0m \u001b[0;36m1\u001b[0m\u001b[0;34m,\u001b[0m \u001b[0;36m2\u001b[0m\u001b[0;34m,\u001b[0m \u001b[0;36m3\u001b[0m\u001b[0;34m,\u001b[0m \u001b[0;36m4\u001b[0m\u001b[0;34m,\u001b[0m \u001b[0;36m5\u001b[0m\u001b[0;34m,\u001b[0m \u001b[0;36m6\u001b[0m\u001b[0;34m,\u001b[0m \u001b[0;36m7\u001b[0m\u001b[0;34m,\u001b[0m \u001b[0;36m8\u001b[0m\u001b[0;34m)\u001b[0m\u001b[0;34m\u001b[0m\u001b[0;34m\u001b[0m\u001b[0m\n\u001b[0m",
            "\u001b[0;31mTypeError\u001b[0m: 함수이름() missing 2 required keyword-only arguments: '매개변수1' and '매개변수2'"
          ]
        }
      ]
    },
    {
      "cell_type": "markdown",
      "metadata": {
        "id": "iCYJdHGwfWRt"
      },
      "source": [
        "## 기본 매개변수(디폴트 매개변수)"
      ]
    },
    {
      "cell_type": "code",
      "metadata": {
        "id": "y3NTReSDgCkG",
        "outputId": "908b1917-b3e2-4062-b9fe-2e084e321d31",
        "colab": {
          "base_uri": "https://localhost:8080/",
          "height": 107
        }
      },
      "source": [
        "def print_n_times(value, n = 5) :\n",
        "  for i in range(n) :\n",
        "    print(value)\n",
        "\n",
        "print_n_times(\"안녕하세요\")"
      ],
      "execution_count": 25,
      "outputs": [
        {
          "output_type": "stream",
          "text": [
            "안녕하세요\n",
            "안녕하세요\n",
            "안녕하세요\n",
            "안녕하세요\n",
            "안녕하세요\n"
          ],
          "name": "stdout"
        }
      ]
    },
    {
      "cell_type": "code",
      "metadata": {
        "id": "ZwglW_4GgJ61",
        "outputId": "36c90b63-2d07-459d-a4f3-5a929c42a417",
        "colab": {
          "base_uri": "https://localhost:8080/",
          "height": 53
        }
      },
      "source": [
        "def print_n_times(value, n = 5) :\n",
        "  for i in range(n) :\n",
        "    print(value)\n",
        "\n",
        "print_n_times(\"안녕하세요\", 2)"
      ],
      "execution_count": 26,
      "outputs": [
        {
          "output_type": "stream",
          "text": [
            "안녕하세요\n",
            "안녕하세요\n"
          ],
          "name": "stdout"
        }
      ]
    },
    {
      "cell_type": "code",
      "metadata": {
        "id": "gqPY7B0xgMt7",
        "outputId": "5eeaf80e-3d3f-4c1b-aff5-a329c85ca8d9",
        "colab": {
          "base_uri": "https://localhost:8080/",
          "height": 136
        }
      },
      "source": [
        "def print_n_times(n = 5, value) :\n",
        "  for i in range(n) :\n",
        "    print(value)\n",
        "\n",
        "print_n_times(\"안녕하세요\")"
      ],
      "execution_count": 27,
      "outputs": [
        {
          "output_type": "error",
          "ename": "SyntaxError",
          "evalue": "ignored",
          "traceback": [
            "\u001b[0;36m  File \u001b[0;32m\"<ipython-input-27-35ed6fedbe88>\"\u001b[0;36m, line \u001b[0;32m1\u001b[0m\n\u001b[0;31m    def print_n_times(n = 5, value) :\u001b[0m\n\u001b[0m                     ^\u001b[0m\n\u001b[0;31mSyntaxError\u001b[0m\u001b[0;31m:\u001b[0m non-default argument follows default argument\n"
          ]
        }
      ]
    },
    {
      "cell_type": "code",
      "metadata": {
        "id": "GATDT_yPgRm2",
        "outputId": "15d797b2-b82a-4eda-8a9f-b004d320b8b1",
        "colab": {
          "base_uri": "https://localhost:8080/",
          "height": 136
        }
      },
      "source": [
        "def print_n_times(n = 5, value) :\n",
        "  for i in range(n) :\n",
        "    print(value)\n",
        "\n",
        "print_n_times(2, \"안녕하세요\")"
      ],
      "execution_count": 28,
      "outputs": [
        {
          "output_type": "error",
          "ename": "SyntaxError",
          "evalue": "ignored",
          "traceback": [
            "\u001b[0;36m  File \u001b[0;32m\"<ipython-input-28-7762d54f53ef>\"\u001b[0;36m, line \u001b[0;32m1\u001b[0m\n\u001b[0;31m    def print_n_times(n = 5, value) :\u001b[0m\n\u001b[0m                     ^\u001b[0m\n\u001b[0;31mSyntaxError\u001b[0m\u001b[0;31m:\u001b[0m non-default argument follows default argument\n"
          ]
        }
      ]
    },
    {
      "cell_type": "code",
      "metadata": {
        "id": "Nw_-dpHLgTVm"
      },
      "source": [
        ""
      ],
      "execution_count": null,
      "outputs": []
    }
  ]
}