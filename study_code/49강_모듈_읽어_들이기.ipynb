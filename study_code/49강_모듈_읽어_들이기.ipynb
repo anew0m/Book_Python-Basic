{
  "nbformat": 4,
  "nbformat_minor": 0,
  "metadata": {
    "colab": {
      "name": "49강 - 모듈 읽어 들이기.ipynb",
      "provenance": [],
      "authorship_tag": "ABX9TyPe3DjqMdlAYkl2ikVJg84f",
      "include_colab_link": true
    },
    "kernelspec": {
      "name": "python3",
      "display_name": "Python 3"
    }
  },
  "cells": [
    {
      "cell_type": "markdown",
      "metadata": {
        "id": "view-in-github",
        "colab_type": "text"
      },
      "source": [
        "<a href=\"https://colab.research.google.com/github/anew0m/Book_Python-Basic/blob/main/study_code/49%EA%B0%95_%EB%AA%A8%EB%93%88_%EC%9D%BD%EC%96%B4_%EB%93%A4%EC%9D%B4%EA%B8%B0.ipynb\" target=\"_parent\"><img src=\"https://colab.research.google.com/assets/colab-badge.svg\" alt=\"Open In Colab\"/></a>"
      ]
    },
    {
      "cell_type": "markdown",
      "metadata": {
        "id": "42qTK4zlpAIZ"
      },
      "source": [
        "# 49강 - 모듈 읽어 들이기"
      ]
    },
    {
      "cell_type": "markdown",
      "metadata": {
        "id": "7xe-JE3GpCiF"
      },
      "source": [
        "모듈\n",
        " * 다른 사람이 만들어 둔 변수와 함수를 읽어들여 사용할 수 있는 기능"
      ]
    },
    {
      "cell_type": "markdown",
      "metadata": {
        "id": "m1fKt8iUpHxc"
      },
      "source": [
        "* 표준(내장) 모듈 : 파이썬에 기본적으로 내장되어 있는 모듈\n",
        "* 외부(외장) 모듈 : 내장되어 있지 않아서, 별도로 다운 받아서 사용하는 모듈 "
      ]
    },
    {
      "cell_type": "markdown",
      "metadata": {
        "id": "-D5j1mq6pSgN"
      },
      "source": [
        "## 모듈 읽어 들이기(1) : __ __import__ __"
      ]
    },
    {
      "cell_type": "code",
      "metadata": {
        "id": "sbgm-HWKpYoZ",
        "outputId": "aedf82af-3dc9-4b78-f763-b7e51ab8c49c",
        "colab": {
          "base_uri": "https://localhost:8080/",
          "height": 35
        }
      },
      "source": [
        "math = __import__(\"math\")\n",
        "\n",
        "math.pi"
      ],
      "execution_count": 4,
      "outputs": [
        {
          "output_type": "execute_result",
          "data": {
            "text/plain": [
              "3.141592653589793"
            ]
          },
          "metadata": {
            "tags": []
          },
          "execution_count": 4
        }
      ]
    },
    {
      "cell_type": "markdown",
      "metadata": {
        "id": "lKClZs7epoLi"
      },
      "source": [
        "## 모듈 읽어 들이기(2) : import 구문"
      ]
    },
    {
      "cell_type": "code",
      "metadata": {
        "id": "J3_cSVILpreT",
        "outputId": "2bee6afc-ee87-486f-d22b-08ce1d285c0f",
        "colab": {
          "base_uri": "https://localhost:8080/",
          "height": 35
        }
      },
      "source": [
        "import math\n",
        "\n",
        "math.pi"
      ],
      "execution_count": 5,
      "outputs": [
        {
          "output_type": "execute_result",
          "data": {
            "text/plain": [
              "3.141592653589793"
            ]
          },
          "metadata": {
            "tags": []
          },
          "execution_count": 5
        }
      ]
    },
    {
      "cell_type": "markdown",
      "metadata": {
        "id": "_X7BBKbcp5vm"
      },
      "source": [
        "## 모듈 읽어 들이기(3) : import as 구문"
      ]
    },
    {
      "cell_type": "code",
      "metadata": {
        "id": "ErEXTdhpqFCo",
        "outputId": "af89e1c7-bb62-47aa-cf67-721957d8a374",
        "colab": {
          "base_uri": "https://localhost:8080/",
          "height": 35
        }
      },
      "source": [
        "import math as 수학\n",
        "\n",
        "수학.pi"
      ],
      "execution_count": 7,
      "outputs": [
        {
          "output_type": "execute_result",
          "data": {
            "text/plain": [
              "3.141592653589793"
            ]
          },
          "metadata": {
            "tags": []
          },
          "execution_count": 7
        }
      ]
    },
    {
      "cell_type": "markdown",
      "metadata": {
        "id": "5xd4ahgmqJxz"
      },
      "source": [
        "## 모듈 읽어 들이기(4) : from import 구문"
      ]
    },
    {
      "cell_type": "code",
      "metadata": {
        "id": "TGez-8vCqTZa",
        "outputId": "795dccdb-57bc-4709-ffc5-cd3dee15a3cd",
        "colab": {
          "base_uri": "https://localhost:8080/",
          "height": 35
        }
      },
      "source": [
        "from math import pi, sin\n",
        "\n",
        "pi"
      ],
      "execution_count": 8,
      "outputs": [
        {
          "output_type": "execute_result",
          "data": {
            "text/plain": [
              "3.141592653589793"
            ]
          },
          "metadata": {
            "tags": []
          },
          "execution_count": 8
        }
      ]
    },
    {
      "cell_type": "markdown",
      "metadata": {
        "id": "lwLSB8SzqYFo"
      },
      "source": [
        "## 모듈 읽어 들이기(5) : from import * 구문"
      ]
    },
    {
      "cell_type": "code",
      "metadata": {
        "id": "FLQRpqO_qc7l",
        "outputId": "38d2cc99-6eff-4dd7-cb35-8dfb0ba71a97",
        "colab": {
          "base_uri": "https://localhost:8080/",
          "height": 35
        }
      },
      "source": [
        "from math import * \n",
        "\n",
        "pi"
      ],
      "execution_count": 9,
      "outputs": [
        {
          "output_type": "execute_result",
          "data": {
            "text/plain": [
              "3.141592653589793"
            ]
          },
          "metadata": {
            "tags": []
          },
          "execution_count": 9
        }
      ]
    },
    {
      "cell_type": "markdown",
      "metadata": {
        "id": "adcXCAqWqlr8"
      },
      "source": [
        "## 모듈 읽어 들이기 정리"
      ]
    },
    {
      "cell_type": "code",
      "metadata": {
        "id": "TUxKjT0pqpV6"
      },
      "source": [
        "math = __import__(\"math\")\n",
        "import math\n",
        "import math as 수학\n",
        "from math import pi, sin\n",
        "from math import *"
      ],
      "execution_count": 10,
      "outputs": []
    },
    {
      "cell_type": "markdown",
      "metadata": {
        "id": "O7LH6EDPqyiD"
      },
      "source": [
        "* import 뒤에 것을 가져와서 이름을 사용"
      ]
    },
    {
      "cell_type": "code",
      "metadata": {
        "id": "Fpjutr76q5qG"
      },
      "source": [
        ""
      ],
      "execution_count": null,
      "outputs": []
    }
  ]
}