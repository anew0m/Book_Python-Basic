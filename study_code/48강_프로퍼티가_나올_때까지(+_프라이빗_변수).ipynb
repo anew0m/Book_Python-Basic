{
  "nbformat": 4,
  "nbformat_minor": 0,
  "metadata": {
    "colab": {
      "name": " 48강 - 프로퍼티가 나올 때까지(+ 프라이빗 변수).ipynb",
      "provenance": [],
      "authorship_tag": "ABX9TyN83wHuluWUwUCOf0Nq/gWi",
      "include_colab_link": true
    },
    "kernelspec": {
      "name": "python3",
      "display_name": "Python 3"
    }
  },
  "cells": [
    {
      "cell_type": "markdown",
      "metadata": {
        "id": "view-in-github",
        "colab_type": "text"
      },
      "source": [
        "<a href=\"https://colab.research.google.com/github/anew0m/Book_Python-Basic/blob/main/study_code/48%EA%B0%95_%ED%94%84%EB%A1%9C%ED%8D%BC%ED%8B%B0%EA%B0%80_%EB%82%98%EC%98%AC_%EB%95%8C%EA%B9%8C%EC%A7%80(%2B_%ED%94%84%EB%9D%BC%EC%9D%B4%EB%B9%97_%EB%B3%80%EC%88%98).ipynb\" target=\"_parent\"><img src=\"https://colab.research.google.com/assets/colab-badge.svg\" alt=\"Open In Colab\"/></a>"
      ]
    },
    {
      "cell_type": "markdown",
      "metadata": {
        "id": "DK2s-sppmC_v"
      },
      "source": [
        "#  48강 - 프로퍼티가 나올 때까지(+ 프라이빗 변수)"
      ]
    },
    {
      "cell_type": "markdown",
      "metadata": {
        "id": "nTnfcNs4mFtE"
      },
      "source": [
        "## 기본적인 클래스 선언"
      ]
    },
    {
      "cell_type": "code",
      "metadata": {
        "id": "dzPOXR5hmKEx",
        "outputId": "462d97b2-363c-49ea-eacd-ff62a6b525f3",
        "colab": {
          "base_uri": "https://localhost:8080/",
          "height": 35
        }
      },
      "source": [
        "class Rect :\n",
        "  def __init__(self, width, height) :\n",
        "    self.width = width\n",
        "    self.height = height\n",
        "  \n",
        "  def get_area(self) :\n",
        "    return self.width * self.height\n",
        "\n",
        "rect = Rect(10, 10)\n",
        "print(rect.get_area())"
      ],
      "execution_count": 2,
      "outputs": [
        {
          "output_type": "stream",
          "text": [
            "100\n"
          ],
          "name": "stdout"
        }
      ]
    },
    {
      "cell_type": "code",
      "metadata": {
        "id": "3P7vu52GmYGe",
        "outputId": "0624434d-ce64-4b7e-be41-4c8de4121b67",
        "colab": {
          "base_uri": "https://localhost:8080/",
          "height": 35
        }
      },
      "source": [
        "class Rect :\n",
        "  def __init__(self, width, height) :\n",
        "    self.width = width\n",
        "    self.height = height\n",
        "  \n",
        "  def get_area(self) :\n",
        "    return self.width * self.height\n",
        "\n",
        "rect = Rect(-10, 10)\n",
        "print(rect.get_area())"
      ],
      "execution_count": 3,
      "outputs": [
        {
          "output_type": "stream",
          "text": [
            "-100\n"
          ],
          "name": "stdout"
        }
      ]
    },
    {
      "cell_type": "code",
      "metadata": {
        "id": "Mzy4Sr8Pmcjd",
        "outputId": "fc8d10bd-f1f7-401e-c89f-0d3d4a11e088",
        "colab": {
          "base_uri": "https://localhost:8080/",
          "height": 352
        }
      },
      "source": [
        "class Rect :\n",
        "  def __init__(self, width, height) :\n",
        "    if width <= 0 or height <= 0 :\n",
        "      raise Exception(\"너비와 높이는 음수가 나올 수 없습니다.\")\n",
        "    self.width = width\n",
        "    self.height = height\n",
        "  \n",
        "  def get_area(self) :\n",
        "    return self.width * self.height\n",
        "\n",
        "rect = Rect(-10, 10)\n",
        "print(rect.get_area())"
      ],
      "execution_count": 4,
      "outputs": [
        {
          "output_type": "error",
          "ename": "Exception",
          "evalue": "ignored",
          "traceback": [
            "\u001b[0;31m---------------------------------------------------------------------------\u001b[0m",
            "\u001b[0;31mException\u001b[0m                                 Traceback (most recent call last)",
            "\u001b[0;32m<ipython-input-4-6d22c144bbae>\u001b[0m in \u001b[0;36m<module>\u001b[0;34m()\u001b[0m\n\u001b[1;32m      9\u001b[0m     \u001b[0;32mreturn\u001b[0m \u001b[0mself\u001b[0m\u001b[0;34m.\u001b[0m\u001b[0mwidth\u001b[0m \u001b[0;34m*\u001b[0m \u001b[0mself\u001b[0m\u001b[0;34m.\u001b[0m\u001b[0mheight\u001b[0m\u001b[0;34m\u001b[0m\u001b[0;34m\u001b[0m\u001b[0m\n\u001b[1;32m     10\u001b[0m \u001b[0;34m\u001b[0m\u001b[0m\n\u001b[0;32m---> 11\u001b[0;31m \u001b[0mrect\u001b[0m \u001b[0;34m=\u001b[0m \u001b[0mRect\u001b[0m\u001b[0;34m(\u001b[0m\u001b[0;34m-\u001b[0m\u001b[0;36m10\u001b[0m\u001b[0;34m,\u001b[0m \u001b[0;36m10\u001b[0m\u001b[0;34m)\u001b[0m\u001b[0;34m\u001b[0m\u001b[0;34m\u001b[0m\u001b[0m\n\u001b[0m\u001b[1;32m     12\u001b[0m \u001b[0mprint\u001b[0m\u001b[0;34m(\u001b[0m\u001b[0mrect\u001b[0m\u001b[0;34m.\u001b[0m\u001b[0mget_area\u001b[0m\u001b[0;34m(\u001b[0m\u001b[0;34m)\u001b[0m\u001b[0;34m)\u001b[0m\u001b[0;34m\u001b[0m\u001b[0;34m\u001b[0m\u001b[0m\n",
            "\u001b[0;32m<ipython-input-4-6d22c144bbae>\u001b[0m in \u001b[0;36m__init__\u001b[0;34m(self, width, height)\u001b[0m\n\u001b[1;32m      2\u001b[0m   \u001b[0;32mdef\u001b[0m \u001b[0m__init__\u001b[0m\u001b[0;34m(\u001b[0m\u001b[0mself\u001b[0m\u001b[0;34m,\u001b[0m \u001b[0mwidth\u001b[0m\u001b[0;34m,\u001b[0m \u001b[0mheight\u001b[0m\u001b[0;34m)\u001b[0m \u001b[0;34m:\u001b[0m\u001b[0;34m\u001b[0m\u001b[0;34m\u001b[0m\u001b[0m\n\u001b[1;32m      3\u001b[0m     \u001b[0;32mif\u001b[0m \u001b[0mwidth\u001b[0m \u001b[0;34m<=\u001b[0m \u001b[0;36m0\u001b[0m \u001b[0;32mor\u001b[0m \u001b[0mheight\u001b[0m \u001b[0;34m<=\u001b[0m \u001b[0;36m0\u001b[0m \u001b[0;34m:\u001b[0m\u001b[0;34m\u001b[0m\u001b[0;34m\u001b[0m\u001b[0m\n\u001b[0;32m----> 4\u001b[0;31m       \u001b[0;32mraise\u001b[0m \u001b[0mException\u001b[0m\u001b[0;34m(\u001b[0m\u001b[0;34m\"너비와 높이는 음수가 나올 수 없습니다.\"\u001b[0m\u001b[0;34m)\u001b[0m\u001b[0;34m\u001b[0m\u001b[0;34m\u001b[0m\u001b[0m\n\u001b[0m\u001b[1;32m      5\u001b[0m     \u001b[0mself\u001b[0m\u001b[0;34m.\u001b[0m\u001b[0mwidth\u001b[0m \u001b[0;34m=\u001b[0m \u001b[0mwidth\u001b[0m\u001b[0;34m\u001b[0m\u001b[0;34m\u001b[0m\u001b[0m\n\u001b[1;32m      6\u001b[0m     \u001b[0mself\u001b[0m\u001b[0;34m.\u001b[0m\u001b[0mheight\u001b[0m \u001b[0;34m=\u001b[0m \u001b[0mheight\u001b[0m\u001b[0;34m\u001b[0m\u001b[0;34m\u001b[0m\u001b[0m\n",
            "\u001b[0;31mException\u001b[0m: 너비와 높이는 음수가 나올 수 없습니다."
          ]
        }
      ]
    },
    {
      "cell_type": "code",
      "metadata": {
        "id": "fDKjVglEmmLG",
        "outputId": "ec7074bf-09f6-426e-afdb-858ef2bf5727",
        "colab": {
          "base_uri": "https://localhost:8080/",
          "height": 35
        }
      },
      "source": [
        "class Rect :\n",
        "  def __init__(self, width, height) :\n",
        "    if width <= 0 or height <= 0 :\n",
        "      raise Exception(\"너비와 높이는 음수가 나올 수 없습니다.\")\n",
        "    self.width = width\n",
        "    self.height = height\n",
        "  \n",
        "  def get_area(self) :\n",
        "    return self.width * self.height\n",
        "\n",
        "rect = Rect(10, 10)\n",
        "rect.width = -10\n",
        "\n",
        "print(rect.get_area())"
      ],
      "execution_count": 5,
      "outputs": [
        {
          "output_type": "stream",
          "text": [
            "-100\n"
          ],
          "name": "stdout"
        }
      ]
    },
    {
      "cell_type": "markdown",
      "metadata": {
        "id": "s3hDq4pSmuO6"
      },
      "source": [
        "## 프라이빗 변수 활용해서 문제 해결하기"
      ]
    },
    {
      "cell_type": "code",
      "metadata": {
        "id": "Pqdv_uiKm3BM",
        "outputId": "b8e4bc9a-1501-412d-8e84-51a2f09c447c",
        "colab": {
          "base_uri": "https://localhost:8080/",
          "height": 35
        }
      },
      "source": [
        "class Rect :\n",
        "  def __init__(self, width, height) :\n",
        "    if width <= 0 or height <= 0 :\n",
        "      raise Exception(\"너비와 높이는 음수가 나올 수 없습니다.\")\n",
        "    self.__width = width\n",
        "    self.__height = height\n",
        "  \n",
        "  def get_area(self) :\n",
        "    return self.__width * self.__height\n",
        "\n",
        "rect = Rect(10, 10)\n",
        "rect.width = -10\n",
        "\n",
        "print(rect.get_area())"
      ],
      "execution_count": 7,
      "outputs": [
        {
          "output_type": "stream",
          "text": [
            "100\n"
          ],
          "name": "stdout"
        }
      ]
    },
    {
      "cell_type": "code",
      "metadata": {
        "id": "DQMg-7zpm6M8",
        "outputId": "318c2eb4-1950-4ef4-f175-f4591d6241be",
        "colab": {
          "base_uri": "https://localhost:8080/",
          "height": 226
        }
      },
      "source": [
        "class Rect :\n",
        "  def __init__(self, width, height) :\n",
        "    if width <= 0 or height <= 0 :\n",
        "      raise Exception(\"너비와 높이는 음수가 나올 수 없습니다.\")\n",
        "    self.__width = width\n",
        "    self.__height = height\n",
        "  \n",
        "  def get_area(self) :\n",
        "    return self.__width * self.__height\n",
        "\n",
        "rect = Rect(10, 10)\n",
        "rect.width = -10\n",
        "print(rect.__width)\n",
        "print(rect.get_area())"
      ],
      "execution_count": 8,
      "outputs": [
        {
          "output_type": "error",
          "ename": "AttributeError",
          "evalue": "ignored",
          "traceback": [
            "\u001b[0;31m---------------------------------------------------------------------------\u001b[0m",
            "\u001b[0;31mAttributeError\u001b[0m                            Traceback (most recent call last)",
            "\u001b[0;32m<ipython-input-8-fbdaa3e35eed>\u001b[0m in \u001b[0;36m<module>\u001b[0;34m()\u001b[0m\n\u001b[1;32m     11\u001b[0m \u001b[0mrect\u001b[0m \u001b[0;34m=\u001b[0m \u001b[0mRect\u001b[0m\u001b[0;34m(\u001b[0m\u001b[0;36m10\u001b[0m\u001b[0;34m,\u001b[0m \u001b[0;36m10\u001b[0m\u001b[0;34m)\u001b[0m\u001b[0;34m\u001b[0m\u001b[0;34m\u001b[0m\u001b[0m\n\u001b[1;32m     12\u001b[0m \u001b[0mrect\u001b[0m\u001b[0;34m.\u001b[0m\u001b[0mwidth\u001b[0m \u001b[0;34m=\u001b[0m \u001b[0;34m-\u001b[0m\u001b[0;36m10\u001b[0m\u001b[0;34m\u001b[0m\u001b[0;34m\u001b[0m\u001b[0m\n\u001b[0;32m---> 13\u001b[0;31m \u001b[0mprint\u001b[0m\u001b[0;34m(\u001b[0m\u001b[0mrect\u001b[0m\u001b[0;34m.\u001b[0m\u001b[0m__width\u001b[0m\u001b[0;34m)\u001b[0m\u001b[0;34m\u001b[0m\u001b[0;34m\u001b[0m\u001b[0m\n\u001b[0m\u001b[1;32m     14\u001b[0m \u001b[0mprint\u001b[0m\u001b[0;34m(\u001b[0m\u001b[0mrect\u001b[0m\u001b[0;34m.\u001b[0m\u001b[0mget_area\u001b[0m\u001b[0;34m(\u001b[0m\u001b[0;34m)\u001b[0m\u001b[0;34m)\u001b[0m\u001b[0;34m\u001b[0m\u001b[0;34m\u001b[0m\u001b[0m\n",
            "\u001b[0;31mAttributeError\u001b[0m: 'Rect' object has no attribute '__width'"
          ]
        }
      ]
    },
    {
      "cell_type": "markdown",
      "metadata": {
        "id": "9Kcov9FtnDQc"
      },
      "source": [
        "* 문제점 : 변경 못하는 것은 또 맘에 안듬..."
      ]
    },
    {
      "cell_type": "markdown",
      "metadata": {
        "id": "FZwI4pQOnHw7"
      },
      "source": [
        "## 겟터 셋터 활용해서 문제 해결하기"
      ]
    },
    {
      "cell_type": "code",
      "metadata": {
        "id": "NCCrubVPnKEW",
        "outputId": "45d86482-0b9d-4353-d0b9-5a7205439d94",
        "colab": {
          "base_uri": "https://localhost:8080/",
          "height": 352
        }
      },
      "source": [
        "class Rect :\n",
        "  def __init__(self, width, height) :\n",
        "    if width <= 0 or height <= 0 :\n",
        "      raise Exception(\"너비와 높이는 음수가 나올 수 없습니다.\")\n",
        "    self.__width = width\n",
        "    self.__height = height\n",
        "\n",
        "  def get_width(self) :\n",
        "    return self.__width\n",
        "  \n",
        "  def set_width(self, width) :\n",
        "    if width <= 0 :\n",
        "      raise Exception(\"너비는 음수가 나올 수 없습니다.\")\n",
        "    self.__width = width\n",
        "  \n",
        "  def get_area(self) :\n",
        "    return self.__width * self.__height\n",
        "\n",
        "rect = Rect(10, 10)\n",
        "rect.set_width(10)\n",
        "rect.set_width(-10)\n",
        "print(rect.get_area())"
      ],
      "execution_count": 12,
      "outputs": [
        {
          "output_type": "error",
          "ename": "Exception",
          "evalue": "ignored",
          "traceback": [
            "\u001b[0;31m---------------------------------------------------------------------------\u001b[0m",
            "\u001b[0;31mException\u001b[0m                                 Traceback (most recent call last)",
            "\u001b[0;32m<ipython-input-12-189f2a09db4d>\u001b[0m in \u001b[0;36m<module>\u001b[0;34m()\u001b[0m\n\u001b[1;32m     19\u001b[0m \u001b[0mrect\u001b[0m \u001b[0;34m=\u001b[0m \u001b[0mRect\u001b[0m\u001b[0;34m(\u001b[0m\u001b[0;36m10\u001b[0m\u001b[0;34m,\u001b[0m \u001b[0;36m10\u001b[0m\u001b[0;34m)\u001b[0m\u001b[0;34m\u001b[0m\u001b[0;34m\u001b[0m\u001b[0m\n\u001b[1;32m     20\u001b[0m \u001b[0mrect\u001b[0m\u001b[0;34m.\u001b[0m\u001b[0mset_width\u001b[0m\u001b[0;34m(\u001b[0m\u001b[0;36m10\u001b[0m\u001b[0;34m)\u001b[0m\u001b[0;34m\u001b[0m\u001b[0;34m\u001b[0m\u001b[0m\n\u001b[0;32m---> 21\u001b[0;31m \u001b[0mrect\u001b[0m\u001b[0;34m.\u001b[0m\u001b[0mset_width\u001b[0m\u001b[0;34m(\u001b[0m\u001b[0;34m-\u001b[0m\u001b[0;36m10\u001b[0m\u001b[0;34m)\u001b[0m\u001b[0;34m\u001b[0m\u001b[0;34m\u001b[0m\u001b[0m\n\u001b[0m\u001b[1;32m     22\u001b[0m \u001b[0mprint\u001b[0m\u001b[0;34m(\u001b[0m\u001b[0mrect\u001b[0m\u001b[0;34m.\u001b[0m\u001b[0mget_area\u001b[0m\u001b[0;34m(\u001b[0m\u001b[0;34m)\u001b[0m\u001b[0;34m)\u001b[0m\u001b[0;34m\u001b[0m\u001b[0;34m\u001b[0m\u001b[0m\n",
            "\u001b[0;32m<ipython-input-12-189f2a09db4d>\u001b[0m in \u001b[0;36mset_width\u001b[0;34m(self, width)\u001b[0m\n\u001b[1;32m     11\u001b[0m   \u001b[0;32mdef\u001b[0m \u001b[0mset_width\u001b[0m\u001b[0;34m(\u001b[0m\u001b[0mself\u001b[0m\u001b[0;34m,\u001b[0m \u001b[0mwidth\u001b[0m\u001b[0;34m)\u001b[0m \u001b[0;34m:\u001b[0m\u001b[0;34m\u001b[0m\u001b[0;34m\u001b[0m\u001b[0m\n\u001b[1;32m     12\u001b[0m     \u001b[0;32mif\u001b[0m \u001b[0mwidth\u001b[0m \u001b[0;34m<=\u001b[0m \u001b[0;36m0\u001b[0m \u001b[0;34m:\u001b[0m\u001b[0;34m\u001b[0m\u001b[0;34m\u001b[0m\u001b[0m\n\u001b[0;32m---> 13\u001b[0;31m       \u001b[0;32mraise\u001b[0m \u001b[0mException\u001b[0m\u001b[0;34m(\u001b[0m\u001b[0;34m\"너비는 음수가 나올 수 없습니다.\"\u001b[0m\u001b[0;34m)\u001b[0m\u001b[0;34m\u001b[0m\u001b[0;34m\u001b[0m\u001b[0m\n\u001b[0m\u001b[1;32m     14\u001b[0m     \u001b[0mself\u001b[0m\u001b[0;34m.\u001b[0m\u001b[0m__width\u001b[0m \u001b[0;34m=\u001b[0m \u001b[0mwidth\u001b[0m\u001b[0;34m\u001b[0m\u001b[0;34m\u001b[0m\u001b[0m\n\u001b[1;32m     15\u001b[0m \u001b[0;34m\u001b[0m\u001b[0m\n",
            "\u001b[0;31mException\u001b[0m: 너비는 음수가 나올 수 없습니다."
          ]
        }
      ]
    },
    {
      "cell_type": "markdown",
      "metadata": {
        "id": "TxGLp8pCncuk"
      },
      "source": [
        "* 문제점 : 사용이 개떡 같음"
      ]
    },
    {
      "cell_type": "markdown",
      "metadata": {
        "id": "2wcqFKNhntOD"
      },
      "source": [
        "## 프로퍼티(property) 활용해서 문제 해결하기"
      ]
    },
    {
      "cell_type": "markdown",
      "metadata": {
        "id": "k0Wg478fnz3a"
      },
      "source": [
        "* 기본적인 속성 : Attribute\n",
        "* 어떤 처리를 해준 속성 : Property"
      ]
    },
    {
      "cell_type": "code",
      "metadata": {
        "id": "4bWcJC6on5aI",
        "outputId": "3047e39b-4d45-4e64-c6ba-0cb427f2a628",
        "colab": {
          "base_uri": "https://localhost:8080/",
          "height": 35
        }
      },
      "source": [
        "class Rect :\n",
        "  def __init__(self, width, height) :\n",
        "    if width <= 0 or height <= 0 :\n",
        "      raise Exception(\"너비와 높이는 음수가 나올 수 없습니다.\")\n",
        "    self.__width = width\n",
        "    self.__height = height\n",
        "\n",
        "  @property\n",
        "  def width(self) :\n",
        "    return self.__width\n",
        "  @width.setter\n",
        "  def width(self, width) :\n",
        "    if width <= 0 :\n",
        "      raise Exception(\"너비는 음수가 나올 수 없습니다.\")\n",
        "    self.__width = width\n",
        "  \n",
        "  def get_area(self) :\n",
        "    return self.__width * self.__height\n",
        "\n",
        "rect = Rect(10, 10)\n",
        "\n",
        "rect.width += 10\n",
        "\n",
        "print(rect.get_area())"
      ],
      "execution_count": 13,
      "outputs": [
        {
          "output_type": "stream",
          "text": [
            "200\n"
          ],
          "name": "stdout"
        }
      ]
    },
    {
      "cell_type": "markdown",
      "metadata": {
        "id": "DHoy1U4XoWcE"
      },
      "source": [
        "* @property\n",
        "* @width.setter"
      ]
    },
    {
      "cell_type": "code",
      "metadata": {
        "id": "TXez8mpPoeAJ",
        "outputId": "89d5f6bb-2427-4ff6-b477-5c0e4eb96a83",
        "colab": {
          "base_uri": "https://localhost:8080/",
          "height": 316
        }
      },
      "source": [
        "rect.width += -10\n",
        "print(rect.get_area())"
      ],
      "execution_count": 15,
      "outputs": [
        {
          "output_type": "error",
          "ename": "Exception",
          "evalue": "ignored",
          "traceback": [
            "\u001b[0;31m---------------------------------------------------------------------------\u001b[0m",
            "\u001b[0;31mException\u001b[0m                                 Traceback (most recent call last)",
            "\u001b[0;32m<ipython-input-15-5e131ab3a1a8>\u001b[0m in \u001b[0;36m<module>\u001b[0;34m()\u001b[0m\n\u001b[0;32m----> 1\u001b[0;31m \u001b[0mrect\u001b[0m\u001b[0;34m.\u001b[0m\u001b[0mwidth\u001b[0m \u001b[0;34m+=\u001b[0m \u001b[0;34m-\u001b[0m\u001b[0;36m10\u001b[0m\u001b[0;34m\u001b[0m\u001b[0;34m\u001b[0m\u001b[0m\n\u001b[0m\u001b[1;32m      2\u001b[0m \u001b[0mprint\u001b[0m\u001b[0;34m(\u001b[0m\u001b[0mrect\u001b[0m\u001b[0;34m.\u001b[0m\u001b[0mget_area\u001b[0m\u001b[0;34m(\u001b[0m\u001b[0;34m)\u001b[0m\u001b[0;34m)\u001b[0m\u001b[0;34m\u001b[0m\u001b[0;34m\u001b[0m\u001b[0m\n",
            "\u001b[0;32m<ipython-input-13-2b5333f4adf3>\u001b[0m in \u001b[0;36mwidth\u001b[0;34m(self, width)\u001b[0m\n\u001b[1;32m     12\u001b[0m   \u001b[0;32mdef\u001b[0m \u001b[0mwidth\u001b[0m\u001b[0;34m(\u001b[0m\u001b[0mself\u001b[0m\u001b[0;34m,\u001b[0m \u001b[0mwidth\u001b[0m\u001b[0;34m)\u001b[0m \u001b[0;34m:\u001b[0m\u001b[0;34m\u001b[0m\u001b[0;34m\u001b[0m\u001b[0m\n\u001b[1;32m     13\u001b[0m     \u001b[0;32mif\u001b[0m \u001b[0mwidth\u001b[0m \u001b[0;34m<=\u001b[0m \u001b[0;36m0\u001b[0m \u001b[0;34m:\u001b[0m\u001b[0;34m\u001b[0m\u001b[0;34m\u001b[0m\u001b[0m\n\u001b[0;32m---> 14\u001b[0;31m       \u001b[0;32mraise\u001b[0m \u001b[0mException\u001b[0m\u001b[0;34m(\u001b[0m\u001b[0;34m\"너비는 음수가 나올 수 없습니다.\"\u001b[0m\u001b[0;34m)\u001b[0m\u001b[0;34m\u001b[0m\u001b[0;34m\u001b[0m\u001b[0m\n\u001b[0m\u001b[1;32m     15\u001b[0m     \u001b[0mself\u001b[0m\u001b[0;34m.\u001b[0m\u001b[0m__width\u001b[0m \u001b[0;34m=\u001b[0m \u001b[0mwidth\u001b[0m\u001b[0;34m\u001b[0m\u001b[0;34m\u001b[0m\u001b[0m\n\u001b[1;32m     16\u001b[0m \u001b[0;34m\u001b[0m\u001b[0m\n",
            "\u001b[0;31mException\u001b[0m: 너비는 음수가 나올 수 없습니다."
          ]
        }
      ]
    },
    {
      "cell_type": "markdown",
      "metadata": {
        "id": "vsOZEXBSohvo"
      },
      "source": [
        "골뱅이 : 데코레이터\n",
        "* 사용은 조금 할 수 있지만 + 이걸 직접 만들 가능성은 5% 정도"
      ]
    },
    {
      "cell_type": "code",
      "metadata": {
        "id": "UAxqzQh6o00j"
      },
      "source": [
        ""
      ],
      "execution_count": null,
      "outputs": []
    }
  ]
}