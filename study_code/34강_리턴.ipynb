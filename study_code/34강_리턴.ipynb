{
  "nbformat": 4,
  "nbformat_minor": 0,
  "metadata": {
    "colab": {
      "name": "34강 - 리턴.ipynb",
      "provenance": [],
      "authorship_tag": "ABX9TyPRVii+8ZH/Sa8JMCkQenIw",
      "include_colab_link": true
    },
    "kernelspec": {
      "name": "python3",
      "display_name": "Python 3"
    }
  },
  "cells": [
    {
      "cell_type": "markdown",
      "metadata": {
        "id": "view-in-github",
        "colab_type": "text"
      },
      "source": [
        "<a href=\"https://colab.research.google.com/github/anew0m/Book_Python-Basic/blob/main/study_code/34%EA%B0%95_%EB%A6%AC%ED%84%B4.ipynb\" target=\"_parent\"><img src=\"https://colab.research.google.com/assets/colab-badge.svg\" alt=\"Open In Colab\"/></a>"
      ]
    },
    {
      "cell_type": "markdown",
      "metadata": {
        "id": "H7Js5LMDmXcX"
      },
      "source": [
        "# 34강 - 리턴"
      ]
    },
    {
      "cell_type": "markdown",
      "metadata": {
        "id": "IWTNOahvmalm"
      },
      "source": [
        "## 리턴 키워드 복습"
      ]
    },
    {
      "cell_type": "markdown",
      "metadata": {
        "id": "AXgyX9pvmed0"
      },
      "source": [
        "* return - 왔던곳 돌아가는 키워드\n"
      ]
    },
    {
      "cell_type": "markdown",
      "metadata": {
        "id": "E1_i0ZV9mhah"
      },
      "source": [
        "* 함수의 결과 = 리턴된 값 = 리턴값"
      ]
    },
    {
      "cell_type": "markdown",
      "metadata": {
        "id": "LefXpXWamnjb"
      },
      "source": [
        "* 아무 것도 리턴 안 하면 None을 출력"
      ]
    },
    {
      "cell_type": "markdown",
      "metadata": {
        "id": "g977M_xYmtDd"
      },
      "source": [
        "## 함수를 사용하는 기본 형태"
      ]
    },
    {
      "cell_type": "code",
      "metadata": {
        "id": "Z651puxAmwbr"
      },
      "source": [
        "def 함수(매개변수) :\n",
        "  변수 = 초깃값\n",
        "  return 리턴값"
      ],
      "execution_count": 1,
      "outputs": []
    },
    {
      "cell_type": "code",
      "metadata": {
        "id": "cvbw3Pd4m1-E",
        "outputId": "8fcbe29a-176b-41ab-df30-9a65592a09bd",
        "colab": {
          "base_uri": "https://localhost:8080/",
          "height": 35
        }
      },
      "source": [
        "# start ~ end 까지 있는 모든 정수를 더하는 함수\n",
        "\n",
        "def sum_all(start, end) :\n",
        "  value = 0\n",
        "  for i in range(start, end + 1) :\n",
        "    value += i\n",
        "  return value\n",
        "\n",
        "\n",
        "print(sum_all(1, 100))"
      ],
      "execution_count": 2,
      "outputs": [
        {
          "output_type": "stream",
          "text": [
            "5050\n"
          ],
          "name": "stdout"
        }
      ]
    },
    {
      "cell_type": "markdown",
      "metadata": {
        "id": "BGJQ3TQxnPhB"
      },
      "source": [
        "## 확인문제 1번"
      ]
    },
    {
      "cell_type": "markdown",
      "metadata": {
        "id": "9CEbZEdmnTVV"
      },
      "source": [
        "## 확인문제 2번"
      ]
    },
    {
      "cell_type": "code",
      "metadata": {
        "id": "BffD3dQKncDi",
        "outputId": "305f432f-b616-4aa1-a066-79bcd5421fcc",
        "colab": {
          "base_uri": "https://localhost:8080/",
          "height": 53
        }
      },
      "source": [
        "def mul(*value) : \n",
        "  pass\n",
        "\n",
        "print(mul(5, 7, 9, 10))\n",
        "print(3150)"
      ],
      "execution_count": 3,
      "outputs": [
        {
          "output_type": "stream",
          "text": [
            "None\n",
            "3150\n"
          ],
          "name": "stdout"
        }
      ]
    },
    {
      "cell_type": "code",
      "metadata": {
        "id": "Z6dqrGfSnlgq",
        "outputId": "09d09a3b-a601-4ba7-f73a-0694441faec3",
        "colab": {
          "base_uri": "https://localhost:8080/",
          "height": 35
        }
      },
      "source": [
        "def mul(*value) : \n",
        "  sum_value = 1\n",
        "\n",
        "  for i in value :\n",
        "    sum_value *= i\n",
        "\n",
        "  return sum_value\n",
        "\n",
        "print(mul(5, 7, 9, 10))"
      ],
      "execution_count": 5,
      "outputs": [
        {
          "output_type": "stream",
          "text": [
            "3150\n"
          ],
          "name": "stdout"
        }
      ]
    },
    {
      "cell_type": "code",
      "metadata": {
        "id": "ElLSq5qbn3J_"
      },
      "source": [
        ""
      ],
      "execution_count": null,
      "outputs": []
    }
  ]
}