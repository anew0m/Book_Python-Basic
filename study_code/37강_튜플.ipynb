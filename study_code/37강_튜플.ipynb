{
  "nbformat": 4,
  "nbformat_minor": 0,
  "metadata": {
    "colab": {
      "name": "37강 - 튜플.ipynb",
      "provenance": [],
      "authorship_tag": "ABX9TyNDkQgKOwf3vg8HOvyPHxzo",
      "include_colab_link": true
    },
    "kernelspec": {
      "name": "python3",
      "display_name": "Python 3"
    }
  },
  "cells": [
    {
      "cell_type": "markdown",
      "metadata": {
        "id": "view-in-github",
        "colab_type": "text"
      },
      "source": [
        "<a href=\"https://colab.research.google.com/github/anew0m/Book_Python-Basic/blob/main/study_code/37%EA%B0%95_%ED%8A%9C%ED%94%8C.ipynb\" target=\"_parent\"><img src=\"https://colab.research.google.com/assets/colab-badge.svg\" alt=\"Open In Colab\"/></a>"
      ]
    },
    {
      "cell_type": "markdown",
      "metadata": {
        "id": "YjRBTvpR9eh_"
      },
      "source": [
        "# 37강 - 튜플"
      ]
    },
    {
      "cell_type": "markdown",
      "metadata": {
        "id": "9jtKopWb9kgy"
      },
      "source": [
        "## 튜플 개요"
      ]
    },
    {
      "cell_type": "markdown",
      "metadata": {
        "id": "qJPtZKUy9qB6"
      },
      "source": [
        "* 리스트와 유사한 자료형"
      ]
    },
    {
      "cell_type": "markdown",
      "metadata": {
        "id": "fuSAsDG09tJV"
      },
      "source": [
        "튜플이 리스트와 다른 기본적인 부분\n",
        "* 대괄호가 아니라 소괄호로 선언\n",
        "* 한번 선언하면 값을 변경할 수 없음"
      ]
    },
    {
      "cell_type": "markdown",
      "metadata": {
        "id": "KjRcKldv9zLd"
      },
      "source": [
        "## 튜플 만들기 : 소괄호 사용"
      ]
    },
    {
      "cell_type": "code",
      "metadata": {
        "id": "e_KtEwaI92Ue"
      },
      "source": [
        "a = (1, 2, 3, 4)"
      ],
      "execution_count": 1,
      "outputs": []
    },
    {
      "cell_type": "code",
      "metadata": {
        "id": "zIkaD3-L96ya",
        "outputId": "85fbf24d-2780-4eb5-aa2c-154f2efb484a",
        "colab": {
          "base_uri": "https://localhost:8080/",
          "height": 35
        }
      },
      "source": [
        "print(a[0])"
      ],
      "execution_count": 2,
      "outputs": [
        {
          "output_type": "stream",
          "text": [
            "1\n"
          ],
          "name": "stdout"
        }
      ]
    },
    {
      "cell_type": "code",
      "metadata": {
        "id": "QLdXUX5g98MF",
        "outputId": "6fd7e6ff-59cc-4bbd-9809-4fc5d92272c1",
        "colab": {
          "base_uri": "https://localhost:8080/",
          "height": 35
        }
      },
      "source": [
        "print(a[2])"
      ],
      "execution_count": 3,
      "outputs": [
        {
          "output_type": "stream",
          "text": [
            "3\n"
          ],
          "name": "stdout"
        }
      ]
    },
    {
      "cell_type": "markdown",
      "metadata": {
        "id": "AJZFirYs99nQ"
      },
      "source": [
        "* 튜플은 값을 변경할 수 없음"
      ]
    },
    {
      "cell_type": "code",
      "metadata": {
        "id": "y8cyDsGb-CfL",
        "outputId": "29b3e510-f7c1-44da-93b4-3d390f6fdb91",
        "colab": {
          "base_uri": "https://localhost:8080/",
          "height": 172
        }
      },
      "source": [
        "a[0] = 10"
      ],
      "execution_count": 4,
      "outputs": [
        {
          "output_type": "error",
          "ename": "TypeError",
          "evalue": "ignored",
          "traceback": [
            "\u001b[0;31m---------------------------------------------------------------------------\u001b[0m",
            "\u001b[0;31mTypeError\u001b[0m                                 Traceback (most recent call last)",
            "\u001b[0;32m<ipython-input-4-88fe5a9b0ebf>\u001b[0m in \u001b[0;36m<module>\u001b[0;34m()\u001b[0m\n\u001b[0;32m----> 1\u001b[0;31m \u001b[0ma\u001b[0m\u001b[0;34m[\u001b[0m\u001b[0;36m0\u001b[0m\u001b[0;34m]\u001b[0m \u001b[0;34m=\u001b[0m \u001b[0;36m10\u001b[0m\u001b[0;34m\u001b[0m\u001b[0;34m\u001b[0m\u001b[0m\n\u001b[0m",
            "\u001b[0;31mTypeError\u001b[0m: 'tuple' object does not support item assignment"
          ]
        }
      ]
    },
    {
      "cell_type": "markdown",
      "metadata": {
        "id": "jYrL7wIU-Db8"
      },
      "source": [
        "## 튜플을 사용하는 경우(1) : 복합할당"
      ]
    },
    {
      "cell_type": "code",
      "metadata": {
        "id": "pwEhetd--I6h"
      },
      "source": [
        "[a, b] = [10, 20]\n",
        "(c, d) = (30, 40)"
      ],
      "execution_count": 21,
      "outputs": []
    },
    {
      "cell_type": "code",
      "metadata": {
        "id": "01nUcZ_s_3Lt",
        "outputId": "e05388c7-0e9b-451c-9b0c-9c644b89642f",
        "colab": {
          "base_uri": "https://localhost:8080/",
          "height": 89
        }
      },
      "source": [
        "print(type(a))\n",
        "print(type(b))\n",
        "print(type(c))\n",
        "print(type(d))"
      ],
      "execution_count": 22,
      "outputs": [
        {
          "output_type": "stream",
          "text": [
            "<class 'int'>\n",
            "<class 'int'>\n",
            "<class 'int'>\n",
            "<class 'int'>\n"
          ],
          "name": "stdout"
        }
      ]
    },
    {
      "cell_type": "code",
      "metadata": {
        "id": "jQc5l8Wr-OGk",
        "outputId": "7e637e64-3825-49ff-deec-a8b1056b685a",
        "colab": {
          "base_uri": "https://localhost:8080/",
          "height": 35
        }
      },
      "source": [
        "print(a, b, c, d)"
      ],
      "execution_count": 16,
      "outputs": [
        {
          "output_type": "stream",
          "text": [
            "10 20 30 40\n"
          ],
          "name": "stdout"
        }
      ]
    },
    {
      "cell_type": "markdown",
      "metadata": {
        "id": "zNVd7KkF-PzK"
      },
      "source": [
        "* 괄호가 없어도 튜플로 인식될 수 있다면 튜플"
      ]
    },
    {
      "cell_type": "code",
      "metadata": {
        "id": "zPlM7kRn-XT_"
      },
      "source": [
        "e, f = (50, 60)"
      ],
      "execution_count": 17,
      "outputs": []
    },
    {
      "cell_type": "code",
      "metadata": {
        "id": "6ElAwbXk-Zry",
        "outputId": "d2ad7f4e-2a2e-48ae-bfdf-62e7f8e22958",
        "colab": {
          "base_uri": "https://localhost:8080/",
          "height": 35
        }
      },
      "source": [
        "print(e, f)"
      ],
      "execution_count": 18,
      "outputs": [
        {
          "output_type": "stream",
          "text": [
            "50 60\n"
          ],
          "name": "stdout"
        }
      ]
    },
    {
      "cell_type": "code",
      "metadata": {
        "id": "eM5_2xZc_YbK",
        "outputId": "0d0449e4-494a-4cb3-b15c-530b6ea3af85",
        "colab": {
          "base_uri": "https://localhost:8080/",
          "height": 53
        }
      },
      "source": [
        "print(type(e))\n",
        "print(type(f))"
      ],
      "execution_count": 20,
      "outputs": [
        {
          "output_type": "stream",
          "text": [
            "<class 'int'>\n",
            "<class 'int'>\n"
          ],
          "name": "stdout"
        }
      ]
    },
    {
      "cell_type": "code",
      "metadata": {
        "id": "3gxYRiKc-bWQ"
      },
      "source": [
        "e = 100"
      ],
      "execution_count": 9,
      "outputs": []
    },
    {
      "cell_type": "code",
      "metadata": {
        "id": "9JHLbSO4-cEv"
      },
      "source": [
        "c = 100"
      ],
      "execution_count": 10,
      "outputs": []
    },
    {
      "cell_type": "markdown",
      "metadata": {
        "id": "-UZkOSrO-m_A"
      },
      "source": [
        "## 튜플을 사용하는 경우(2) : 스왑"
      ]
    },
    {
      "cell_type": "code",
      "metadata": {
        "id": "D-NeKCrk-u1t",
        "outputId": "3852d7bb-3de1-44db-fbe3-f778e589433f",
        "colab": {
          "base_uri": "https://localhost:8080/",
          "height": 53
        }
      },
      "source": [
        "a, b = 10, 20\n",
        "\n",
        "print(a, b)\n",
        "# 스왑\n",
        "a, b = b, a\n",
        "print(a, b)"
      ],
      "execution_count": 11,
      "outputs": [
        {
          "output_type": "stream",
          "text": [
            "10 20\n",
            "20 10\n"
          ],
          "name": "stdout"
        }
      ]
    },
    {
      "cell_type": "markdown",
      "metadata": {
        "id": "HBbgpUoq-2E4"
      },
      "source": [
        "## 튜플을 사용하는 경우(3) : 튜플을 리턴하는 함수"
      ]
    },
    {
      "cell_type": "code",
      "metadata": {
        "id": "81SJI6wE--_W",
        "outputId": "98d842bb-da5b-43c1-dd79-d2be5badf008",
        "colab": {
          "base_uri": "https://localhost:8080/",
          "height": 35
        }
      },
      "source": [
        "a, b = 97, 40\n",
        "\n",
        "divmod(a, b)"
      ],
      "execution_count": 13,
      "outputs": [
        {
          "output_type": "execute_result",
          "data": {
            "text/plain": [
              "(2, 17)"
            ]
          },
          "metadata": {
            "tags": []
          },
          "execution_count": 13
        }
      ]
    },
    {
      "cell_type": "code",
      "metadata": {
        "id": "_70PhfOx_Gqx",
        "outputId": "c09ff8c6-388f-470a-a691-c692981a1ee1",
        "colab": {
          "base_uri": "https://localhost:8080/",
          "height": 35
        }
      },
      "source": [
        "type(divmod(a, b))"
      ],
      "execution_count": 14,
      "outputs": [
        {
          "output_type": "execute_result",
          "data": {
            "text/plain": [
              "tuple"
            ]
          },
          "metadata": {
            "tags": []
          },
          "execution_count": 14
        }
      ]
    },
    {
      "cell_type": "code",
      "metadata": {
        "id": "4Uxkqus-_KpR",
        "outputId": "bf58a304-5905-46f6-8d73-c0ad411cf125",
        "colab": {
          "base_uri": "https://localhost:8080/",
          "height": 125
        }
      },
      "source": [
        "for i, value in enumerate([1, 2, 3, 4, 5, 6]) :\n",
        "  print(\"[] :  {}\".format(i, value))"
      ],
      "execution_count": 23,
      "outputs": [
        {
          "output_type": "stream",
          "text": [
            "[] :  0\n",
            "[] :  1\n",
            "[] :  2\n",
            "[] :  3\n",
            "[] :  4\n",
            "[] :  5\n"
          ],
          "name": "stdout"
        }
      ]
    },
    {
      "cell_type": "markdown",
      "metadata": {
        "id": "sgDjnDHlBODm"
      },
      "source": [
        "## 요소를 하나 갖는 튜플"
      ]
    },
    {
      "cell_type": "code",
      "metadata": {
        "id": "j9Wb0GdtBdKm",
        "outputId": "7c0829a1-5c95-409c-a684-6b2987c127bc",
        "colab": {
          "base_uri": "https://localhost:8080/",
          "height": 35
        }
      },
      "source": [
        "type([273])"
      ],
      "execution_count": 24,
      "outputs": [
        {
          "output_type": "execute_result",
          "data": {
            "text/plain": [
              "list"
            ]
          },
          "metadata": {
            "tags": []
          },
          "execution_count": 24
        }
      ]
    },
    {
      "cell_type": "code",
      "metadata": {
        "id": "vhIKpDbzBf3q",
        "outputId": "ffa8fb99-cfde-4a94-bcb0-2b7574954724",
        "colab": {
          "base_uri": "https://localhost:8080/",
          "height": 35
        }
      },
      "source": [
        "type((273))"
      ],
      "execution_count": 25,
      "outputs": [
        {
          "output_type": "execute_result",
          "data": {
            "text/plain": [
              "int"
            ]
          },
          "metadata": {
            "tags": []
          },
          "execution_count": 25
        }
      ]
    },
    {
      "cell_type": "code",
      "metadata": {
        "id": "nt3cCt2DBi6m",
        "outputId": "c3713d5f-1795-406e-fb81-fa47e5c7c6a5",
        "colab": {
          "base_uri": "https://localhost:8080/",
          "height": 35
        }
      },
      "source": [
        "type((273,))"
      ],
      "execution_count": 26,
      "outputs": [
        {
          "output_type": "execute_result",
          "data": {
            "text/plain": [
              "tuple"
            ]
          },
          "metadata": {
            "tags": []
          },
          "execution_count": 26
        }
      ]
    },
    {
      "cell_type": "code",
      "metadata": {
        "id": "VunraKqABsho"
      },
      "source": [
        "a = (273, )"
      ],
      "execution_count": 27,
      "outputs": []
    },
    {
      "cell_type": "code",
      "metadata": {
        "id": "wC7DjkuMBzeY",
        "outputId": "57d808b1-a16c-49d3-cef9-f5c82fe3a109",
        "colab": {
          "base_uri": "https://localhost:8080/",
          "height": 172
        }
      },
      "source": [
        "a[1]"
      ],
      "execution_count": 28,
      "outputs": [
        {
          "output_type": "error",
          "ename": "IndexError",
          "evalue": "ignored",
          "traceback": [
            "\u001b[0;31m---------------------------------------------------------------------------\u001b[0m",
            "\u001b[0;31mIndexError\u001b[0m                                Traceback (most recent call last)",
            "\u001b[0;32m<ipython-input-28-8bc71255a22e>\u001b[0m in \u001b[0;36m<module>\u001b[0;34m()\u001b[0m\n\u001b[0;32m----> 1\u001b[0;31m \u001b[0ma\u001b[0m\u001b[0;34m[\u001b[0m\u001b[0;36m1\u001b[0m\u001b[0;34m]\u001b[0m\u001b[0;34m\u001b[0m\u001b[0;34m\u001b[0m\u001b[0m\n\u001b[0m",
            "\u001b[0;31mIndexError\u001b[0m: tuple index out of range"
          ]
        }
      ]
    },
    {
      "cell_type": "markdown",
      "metadata": {
        "id": "MFJOyNxtB0K6"
      },
      "source": [
        "## 튜플과 관련된 사족들 : 알면 구문 이해에 좋음"
      ]
    },
    {
      "cell_type": "code",
      "metadata": {
        "id": "fmpV4LMSB8Xf",
        "outputId": "04af790b-be46-4b43-e4dd-9936b45992ce",
        "colab": {
          "base_uri": "https://localhost:8080/",
          "height": 136
        }
      },
      "source": [
        "a = {\n",
        "    숫자 :O\n",
        "    문자 :O\n",
        "    불 :O\n",
        "    리스트 : XXX\n",
        "    튜플 : O\n",
        "\n",
        "}"
      ],
      "execution_count": 29,
      "outputs": [
        {
          "output_type": "error",
          "ename": "SyntaxError",
          "evalue": "ignored",
          "traceback": [
            "\u001b[0;36m  File \u001b[0;32m\"<ipython-input-29-d5c64a397c53>\"\u001b[0;36m, line \u001b[0;32m3\u001b[0m\n\u001b[0;31m    문자 :O\u001b[0m\n\u001b[0m     ^\u001b[0m\n\u001b[0;31mSyntaxError\u001b[0m\u001b[0;31m:\u001b[0m invalid syntax\n"
          ]
        }
      ]
    },
    {
      "cell_type": "code",
      "metadata": {
        "id": "ZxbdO0wwCJcF"
      },
      "source": [
        "a = {\n",
        "    (0,0): 10,\n",
        "    (0,1): 20,\n",
        "    (1,0): 30,\n",
        "    (1,1): 40\n",
        "}"
      ],
      "execution_count": 31,
      "outputs": []
    },
    {
      "cell_type": "code",
      "metadata": {
        "id": "nlCiLhImCZSx",
        "outputId": "9251cf9c-8e70-462b-9761-d3b141632bb0",
        "colab": {
          "base_uri": "https://localhost:8080/",
          "height": 35
        }
      },
      "source": [
        "print(a)"
      ],
      "execution_count": 32,
      "outputs": [
        {
          "output_type": "stream",
          "text": [
            "{(0, 0): 10, (0, 1): 20, (1, 0): 30, (1, 1): 40}\n"
          ],
          "name": "stdout"
        }
      ]
    },
    {
      "cell_type": "code",
      "metadata": {
        "id": "kgAIBXNpCXLZ",
        "outputId": "550c3cfb-3d5a-4699-cf05-4477fb53ca1c",
        "colab": {
          "base_uri": "https://localhost:8080/",
          "height": 226
        }
      },
      "source": [
        "a = {\n",
        "    [0,0]: 10,\n",
        "    [0,1]: 20,\n",
        "    [1,0]: 30,\n",
        "    [1,1]: 40\n",
        "}"
      ],
      "execution_count": 33,
      "outputs": [
        {
          "output_type": "error",
          "ename": "TypeError",
          "evalue": "ignored",
          "traceback": [
            "\u001b[0;31m---------------------------------------------------------------------------\u001b[0m",
            "\u001b[0;31mTypeError\u001b[0m                                 Traceback (most recent call last)",
            "\u001b[0;32m<ipython-input-33-b54890456301>\u001b[0m in \u001b[0;36m<module>\u001b[0;34m()\u001b[0m\n\u001b[1;32m      3\u001b[0m     \u001b[0;34m[\u001b[0m\u001b[0;36m0\u001b[0m\u001b[0;34m,\u001b[0m\u001b[0;36m1\u001b[0m\u001b[0;34m]\u001b[0m\u001b[0;34m:\u001b[0m \u001b[0;36m20\u001b[0m\u001b[0;34m,\u001b[0m\u001b[0;34m\u001b[0m\u001b[0;34m\u001b[0m\u001b[0m\n\u001b[1;32m      4\u001b[0m     \u001b[0;34m[\u001b[0m\u001b[0;36m1\u001b[0m\u001b[0;34m,\u001b[0m\u001b[0;36m0\u001b[0m\u001b[0;34m]\u001b[0m\u001b[0;34m:\u001b[0m \u001b[0;36m30\u001b[0m\u001b[0;34m,\u001b[0m\u001b[0;34m\u001b[0m\u001b[0;34m\u001b[0m\u001b[0m\n\u001b[0;32m----> 5\u001b[0;31m     \u001b[0;34m[\u001b[0m\u001b[0;36m1\u001b[0m\u001b[0;34m,\u001b[0m\u001b[0;36m1\u001b[0m\u001b[0;34m]\u001b[0m\u001b[0;34m:\u001b[0m \u001b[0;36m40\u001b[0m\u001b[0;34m\u001b[0m\u001b[0;34m\u001b[0m\u001b[0m\n\u001b[0m\u001b[1;32m      6\u001b[0m }\n",
            "\u001b[0;31mTypeError\u001b[0m: unhashable type: 'list'"
          ]
        }
      ]
    },
    {
      "cell_type": "markdown",
      "metadata": {
        "id": "b6WYPEAjCd7D"
      },
      "source": [
        "* 튜플은 키로 올 수 있음"
      ]
    },
    {
      "cell_type": "code",
      "metadata": {
        "id": "f_GaQUf2Ckft",
        "outputId": "e60420bd-5048-4374-85af-f0618a40e0dc",
        "colab": {
          "base_uri": "https://localhost:8080/",
          "height": 35
        }
      },
      "source": [
        "print(a[(0, 0)])"
      ],
      "execution_count": 36,
      "outputs": [
        {
          "output_type": "stream",
          "text": [
            "10\n"
          ],
          "name": "stdout"
        }
      ]
    },
    {
      "cell_type": "code",
      "metadata": {
        "id": "W_LXu8QKCp-J",
        "outputId": "842794f1-9cd9-40b5-d543-d45148727181",
        "colab": {
          "base_uri": "https://localhost:8080/",
          "height": 35
        }
      },
      "source": [
        "print(a[0, 0])"
      ],
      "execution_count": 37,
      "outputs": [
        {
          "output_type": "stream",
          "text": [
            "10\n"
          ],
          "name": "stdout"
        }
      ]
    },
    {
      "cell_type": "code",
      "metadata": {
        "id": "tij4x_SeCtDx"
      },
      "source": [
        ""
      ],
      "execution_count": null,
      "outputs": []
    }
  ]
}