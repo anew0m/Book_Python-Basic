{
  "nbformat": 4,
  "nbformat_minor": 0,
  "metadata": {
    "colab": {
      "name": "44강 - 예외 처리 추가 내용.ipynb",
      "provenance": [],
      "authorship_tag": "ABX9TyOfgNR+Kl4nSwzNwyo/8tGI",
      "include_colab_link": true
    },
    "kernelspec": {
      "name": "python3",
      "display_name": "Python 3"
    }
  },
  "cells": [
    {
      "cell_type": "markdown",
      "metadata": {
        "id": "view-in-github",
        "colab_type": "text"
      },
      "source": [
        "<a href=\"https://colab.research.google.com/github/anew0m/Book_Python-Basic/blob/main/study_code/44%EA%B0%95_%EC%98%88%EC%99%B8_%EC%B2%98%EB%A6%AC_%EC%B6%94%EA%B0%80_%EB%82%B4%EC%9A%A9.ipynb\" target=\"_parent\"><img src=\"https://colab.research.google.com/assets/colab-badge.svg\" alt=\"Open In Colab\"/></a>"
      ]
    },
    {
      "cell_type": "markdown",
      "metadata": {
        "id": "4B00S9BZXrcp"
      },
      "source": [
        "# 44강 - 예외 처리 추가 내용"
      ]
    },
    {
      "cell_type": "markdown",
      "metadata": {
        "id": "ChDA3OREXwnO"
      },
      "source": [
        "1. 예외 객체\n",
        "2. 예외 구분 방법\n",
        "3. 예외 강제 발생"
      ]
    },
    {
      "cell_type": "code",
      "metadata": {
        "id": "y4e4d_ITX3DJ",
        "outputId": "457cc73a-0e6a-4236-ba3e-ccd47011422b",
        "colab": {
          "base_uri": "https://localhost:8080/",
          "height": 35
        }
      },
      "source": [
        "try : \n",
        "  intput_value = \"--\"\n",
        "  number = int(input_value)\n",
        "  print(number)\n",
        "  \n",
        "except : \n",
        "  print(\"except !!\")"
      ],
      "execution_count": 1,
      "outputs": [
        {
          "output_type": "stream",
          "text": [
            "except !!\n"
          ],
          "name": "stdout"
        }
      ]
    },
    {
      "cell_type": "markdown",
      "metadata": {
        "id": "V7Us9PlFYGPO"
      },
      "source": [
        "## 예외 객체"
      ]
    },
    {
      "cell_type": "code",
      "metadata": {
        "id": "-DDW5EyeYHxH"
      },
      "source": [
        "try : \n",
        "  intput_value = \"--\"\n",
        "  number = int(input_value)\n",
        "  print(number)\n",
        "  \n",
        "except 예외의종류 as 변수로사용할이름: \n",
        "  print(\"except !!\")"
      ],
      "execution_count": null,
      "outputs": []
    },
    {
      "cell_type": "code",
      "metadata": {
        "id": "ccr8C3haYM43",
        "outputId": "3f70b321-74fe-446b-b3b9-be1185de3989",
        "colab": {
          "base_uri": "https://localhost:8080/",
          "height": 35
        }
      },
      "source": [
        "try : \n",
        "  intput_value = \"--\"\n",
        "  number = int(input_value)\n",
        "  print(number)\n",
        "  \n",
        "except Exception as 변수로사용할이름: \n",
        "  print(\"except !!\")"
      ],
      "execution_count": 10,
      "outputs": [
        {
          "output_type": "stream",
          "text": [
            "except !!\n"
          ],
          "name": "stdout"
        }
      ]
    },
    {
      "cell_type": "code",
      "metadata": {
        "id": "c4hj-0sjYQq3",
        "outputId": "24e4d08d-8e8d-4205-e2c8-69a1875dade1",
        "colab": {
          "base_uri": "https://localhost:8080/",
          "height": 53
        }
      },
      "source": [
        "try : \n",
        "  intput_value = \"--\"\n",
        "  number = int(input_value)\n",
        "  print(number)\n",
        "  \n",
        "except Exception as exception: \n",
        "  print(type(exception))\n",
        "  print(\"except !!\")"
      ],
      "execution_count": 11,
      "outputs": [
        {
          "output_type": "stream",
          "text": [
            "<class 'NameError'>\n",
            "except !!\n"
          ],
          "name": "stdout"
        }
      ]
    },
    {
      "cell_type": "code",
      "metadata": {
        "id": "c9d9gzxEYYfq",
        "outputId": "9278cdb9-0e34-4d01-9794-df45c693b8ce",
        "colab": {
          "base_uri": "https://localhost:8080/",
          "height": 53
        }
      },
      "source": [
        "try : \n",
        "  intput_value = \"10.0\"\n",
        "  number = int(input_value)\n",
        "  print(number)\n",
        "  \n",
        "except Exception as exception: \n",
        "  print(type(exception))\n",
        "  if type(exception) == ValueError :\n",
        "    print(\"Value Error\")\n",
        "  elif type(exception) == IndexError:\n",
        "    print(\"값의 범위!!\")\n",
        "  print(\"except !!\")"
      ],
      "execution_count": 15,
      "outputs": [
        {
          "output_type": "stream",
          "text": [
            "<class 'NameError'>\n",
            "except !!\n"
          ],
          "name": "stdout"
        }
      ]
    },
    {
      "cell_type": "code",
      "metadata": {
        "id": "q-FBgrl2YxIE",
        "outputId": "18ece7b3-d0aa-42bc-a59d-769ae1be39e1",
        "colab": {
          "base_uri": "https://localhost:8080/",
          "height": 53
        }
      },
      "source": [
        "try : \n",
        "  input_value = \"10.0\"\n",
        "  number = int(input_value)\n",
        "  print(number)\n",
        "  \n",
        "except ValueError as exception: \n",
        "  print(type(exception))\n",
        "  print(\"Value Error\")\n",
        "except IndexError as exception: \n",
        "  print(type(exception))\n",
        "  print(\"값의 범위!!\")\n",
        "except Exception as exception: \n",
        "  print(type(exception))\n",
        "  print(\"except !!\")"
      ],
      "execution_count": 19,
      "outputs": [
        {
          "output_type": "stream",
          "text": [
            "<class 'ValueError'>\n",
            "Value Error\n"
          ],
          "name": "stdout"
        }
      ]
    },
    {
      "cell_type": "markdown",
      "metadata": {
        "id": "EANEMi0OZNOU"
      },
      "source": [
        "## raise 키워드"
      ]
    },
    {
      "cell_type": "code",
      "metadata": {
        "id": "HNSshH9IZf6o",
        "outputId": "e0fb866b-4fbb-45e7-90c8-d9678ce26d9d",
        "colab": {
          "base_uri": "https://localhost:8080/",
          "height": 172
        }
      },
      "source": [
        "raise Exception(\"안녕하세요\")"
      ],
      "execution_count": 21,
      "outputs": [
        {
          "output_type": "error",
          "ename": "Exception",
          "evalue": "ignored",
          "traceback": [
            "\u001b[0;31m---------------------------------------------------------------------------\u001b[0m",
            "\u001b[0;31mException\u001b[0m                                 Traceback (most recent call last)",
            "\u001b[0;32m<ipython-input-21-6d68d25b077f>\u001b[0m in \u001b[0;36m<module>\u001b[0;34m()\u001b[0m\n\u001b[0;32m----> 1\u001b[0;31m \u001b[0;32mraise\u001b[0m \u001b[0mException\u001b[0m\u001b[0;34m(\u001b[0m\u001b[0;34m\"안녕하세요\"\u001b[0m\u001b[0;34m)\u001b[0m\u001b[0;34m\u001b[0m\u001b[0;34m\u001b[0m\u001b[0m\n\u001b[0m",
            "\u001b[0;31mException\u001b[0m: 안녕하세요"
          ]
        }
      ]
    },
    {
      "cell_type": "markdown",
      "metadata": {
        "id": "6BmWARfSZjjp"
      },
      "source": [
        "* 주로 개발자 라이브러리를 개발할 때 사용됨\n",
        "* 개발자들에게 알려주기 위한 용도"
      ]
    },
    {
      "cell_type": "code",
      "metadata": {
        "id": "Bp3lZo_bZuCJ"
      },
      "source": [
        ""
      ],
      "execution_count": null,
      "outputs": []
    }
  ]
}