{
  "nbformat": 4,
  "nbformat_minor": 0,
  "metadata": {
    "colab": {
      "name": "16강 - elif 구문과 else 구문.ipynb",
      "provenance": [],
      "authorship_tag": "ABX9TyMvcx8Wn3W86Y3duublFed8",
      "include_colab_link": true
    },
    "kernelspec": {
      "name": "python3",
      "display_name": "Python 3"
    }
  },
  "cells": [
    {
      "cell_type": "markdown",
      "metadata": {
        "id": "view-in-github",
        "colab_type": "text"
      },
      "source": [
        "<a href=\"https://colab.research.google.com/github/anew0m/Book_Python-Basic/blob/main/study_code/16%EA%B0%95_elif_%EA%B5%AC%EB%AC%B8%EA%B3%BC_else_%EA%B5%AC%EB%AC%B8.ipynb\" target=\"_parent\"><img src=\"https://colab.research.google.com/assets/colab-badge.svg\" alt=\"Open In Colab\"/></a>"
      ]
    },
    {
      "cell_type": "markdown",
      "metadata": {
        "id": "67M8sOECVmra"
      },
      "source": [
        "# 16강 - elif 구문과 else 구문"
      ]
    },
    {
      "cell_type": "markdown",
      "metadata": {
        "id": "OusHCXmJWlwR"
      },
      "source": [
        "## else/elif 구문"
      ]
    },
    {
      "cell_type": "code",
      "metadata": {
        "id": "nAi3kW_eWr80",
        "outputId": "d9f15865-7e22-449b-8160-1dddc2386222",
        "colab": {
          "base_uri": "https://localhost:8080/",
          "height": 35
        }
      },
      "source": [
        "number = 10\n",
        "\n",
        "if (number % 2) == 0 :\n",
        "  print(\"짝수\")\n",
        "else :\n",
        "  print(\"홀수\")"
      ],
      "execution_count": 5,
      "outputs": [
        {
          "output_type": "stream",
          "text": [
            "짝수\n"
          ],
          "name": "stdout"
        }
      ]
    },
    {
      "cell_type": "code",
      "metadata": {
        "id": "rIlJ0X5RW1xG",
        "outputId": "78d32276-a711-44e5-8993-341338802832",
        "colab": {
          "base_uri": "https://localhost:8080/",
          "height": 35
        }
      },
      "source": [
        "number = 10\n",
        "\n",
        "if (number % 2) == 0 :\n",
        "  print(\"짝수\")\n",
        "elif (number % 2) == 1 :\n",
        "  print(\"홀수\")"
      ],
      "execution_count": 6,
      "outputs": [
        {
          "output_type": "stream",
          "text": [
            "짝수\n"
          ],
          "name": "stdout"
        }
      ]
    },
    {
      "cell_type": "code",
      "metadata": {
        "id": "bZSmFId2W812"
      },
      "source": [
        ""
      ],
      "execution_count": null,
      "outputs": []
    }
  ]
}