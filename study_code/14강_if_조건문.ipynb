{
  "nbformat": 4,
  "nbformat_minor": 0,
  "metadata": {
    "colab": {
      "name": "14강 - if 조건문.ipynb",
      "provenance": [],
      "authorship_tag": "ABX9TyPs+2i54Zz4KsrZvuftsraG",
      "include_colab_link": true
    },
    "kernelspec": {
      "name": "python3",
      "display_name": "Python 3"
    }
  },
  "cells": [
    {
      "cell_type": "markdown",
      "metadata": {
        "id": "view-in-github",
        "colab_type": "text"
      },
      "source": [
        "<a href=\"https://colab.research.google.com/github/anew0m/Book_PythonToStudyAlone/blob/main/study_code/14%EA%B0%95_if_%EC%A1%B0%EA%B1%B4%EB%AC%B8.ipynb\" target=\"_parent\"><img src=\"https://colab.research.google.com/assets/colab-badge.svg\" alt=\"Open In Colab\"/></a>"
      ]
    },
    {
      "cell_type": "markdown",
      "metadata": {
        "id": "7lKJGYlbOI0L"
      },
      "source": [
        "# 14강 - if 조건문"
      ]
    },
    {
      "cell_type": "markdown",
      "metadata": {
        "id": "N5T_5xCFOMJq"
      },
      "source": [
        "## if 조건문의 기본 형태"
      ]
    },
    {
      "cell_type": "code",
      "metadata": {
        "id": "7knH4ss_ON3M",
        "outputId": "f7131520-d3fd-4c79-ce3b-0af594506027",
        "colab": {
          "base_uri": "https://localhost:8080/",
          "height": 136
        }
      },
      "source": [
        "if 조건 :\n",
        "  조건이 참일 때 실행할 문장\n",
        "\n",
        "print()"
      ],
      "execution_count": 3,
      "outputs": [
        {
          "output_type": "error",
          "ename": "SyntaxError",
          "evalue": "ignored",
          "traceback": [
            "\u001b[0;36m  File \u001b[0;32m\"<ipython-input-3-3de1fd314d41>\"\u001b[0;36m, line \u001b[0;32m2\u001b[0m\n\u001b[0;31m    조건이 참일 때 실행할 문장\u001b[0m\n\u001b[0m         ^\u001b[0m\n\u001b[0;31mSyntaxError\u001b[0m\u001b[0;31m:\u001b[0m invalid syntax\n"
          ]
        }
      ]
    },
    {
      "cell_type": "markdown",
      "metadata": {
        "id": "cLUVNX-VOiFM"
      },
      "source": [
        "## if 조건문 만들어 보기(1)"
      ]
    },
    {
      "cell_type": "code",
      "metadata": {
        "id": "E7-c4qRYRQnw",
        "outputId": "0eab2fff-8faa-4985-bc00-3f0b4e5fa02a",
        "colab": {
          "base_uri": "https://localhost:8080/",
          "height": 35
        }
      },
      "source": [
        "if True :\n",
        "  print(\"True\")"
      ],
      "execution_count": 4,
      "outputs": [
        {
          "output_type": "stream",
          "text": [
            "True\n"
          ],
          "name": "stdout"
        }
      ]
    },
    {
      "cell_type": "code",
      "metadata": {
        "id": "KEJUf3IGRUH9"
      },
      "source": [
        "if False :\n",
        "  print(\"False\")"
      ],
      "execution_count": 5,
      "outputs": []
    },
    {
      "cell_type": "markdown",
      "metadata": {
        "id": "yOI70VpORVsj"
      },
      "source": [
        "## if 조건문 만들어 보기(2) : 사용자 입력"
      ]
    },
    {
      "cell_type": "code",
      "metadata": {
        "id": "vXuK5fHYRiTM",
        "outputId": "7b71d2eb-d657-48db-f62f-d03282edef7f",
        "colab": {
          "base_uri": "https://localhost:8080/",
          "height": 54
        }
      },
      "source": [
        "number = input(\"정수 입력 : \")\n",
        "number = int(number)\n",
        "\n",
        "if number > 0 :\n",
        "  print(\"양수\")\n",
        "if number == 0 :\n",
        "  print(\"0\")\n",
        "if number < 0 :\n",
        "  print(\"음수\")"
      ],
      "execution_count": 8,
      "outputs": [
        {
          "output_type": "stream",
          "text": [
            "정수 입력 : 1\n",
            "양수\n"
          ],
          "name": "stdout"
        }
      ]
    },
    {
      "cell_type": "markdown",
      "metadata": {
        "id": "-XsRmJlWRkuS"
      },
      "source": [
        "## if 조건문 만들어 보기(3) : 현재 상황을 기반으로 조건"
      ]
    },
    {
      "cell_type": "code",
      "metadata": {
        "id": "Ok0wgdjcR2Z-",
        "outputId": "472507a1-2367-4ca2-a690-b741205f0551",
        "colab": {
          "base_uri": "https://localhost:8080/",
          "height": 126
        }
      },
      "source": [
        "import datetime\n",
        "now = datetime.datetime.now()\n",
        "\n",
        "print(now.year  )\n",
        "print(now.month )\n",
        "print(now.day   )\n",
        "print(now.hour  )\n",
        "print(now.minute)\n",
        "print(now.second)"
      ],
      "execution_count": 10,
      "outputs": [
        {
          "output_type": "stream",
          "text": [
            "2020\n",
            "10\n",
            "2\n",
            "12\n",
            "27\n",
            "40\n"
          ],
          "name": "stdout"
        }
      ]
    },
    {
      "cell_type": "code",
      "metadata": {
        "id": "VqFo2jh4R9ZO",
        "outputId": "f821b752-f2e9-418f-838d-0ddcd6e30624",
        "colab": {
          "base_uri": "https://localhost:8080/",
          "height": 35
        }
      },
      "source": [
        "if now.hour < 12 :\n",
        "  print(\"오전\")\n",
        "if now.hour > 12 :\n",
        "  print(\"오후\")\n",
        "if now.hour == 12 :\n",
        "  print(\"12시 정각\")"
      ],
      "execution_count": 13,
      "outputs": [
        {
          "output_type": "stream",
          "text": [
            "12시 정각\n"
          ],
          "name": "stdout"
        }
      ]
    },
    {
      "cell_type": "markdown",
      "metadata": {
        "id": "Z5-y1nZVSLLe"
      },
      "source": [
        "## 논리 연산자 복습"
      ]
    },
    {
      "cell_type": "code",
      "metadata": {
        "id": "59P2CI0xShvq"
      },
      "source": [
        "import datetime\n",
        "\n",
        "now = datetime.datetime.now()\n",
        "\n",
        "\n",
        "if now.month == 12 or 1 <= now.month <= 2:\n",
        "  print(\"겨울입니다\")\n"
      ],
      "execution_count": 14,
      "outputs": []
    },
    {
      "cell_type": "markdown",
      "metadata": {
        "id": "SQ6TOV28TlAG"
      },
      "source": [
        "## 사람의 조건과 컴퓨터의 조건"
      ]
    },
    {
      "cell_type": "code",
      "metadata": {
        "id": "iugyMpSyTpdY",
        "outputId": "82715b42-82df-45ab-eb2c-0bdbbce8f7ae",
        "colab": {
          "base_uri": "https://localhost:8080/",
          "height": 35
        }
      },
      "source": [
        "number = 10\n",
        "\n",
        "if number % 2 == 0 :\n",
        "  print(\"짝수\")\n",
        "if number % 2 == 1 :\n",
        "  print(\"홀수\")"
      ],
      "execution_count": 16,
      "outputs": [
        {
          "output_type": "stream",
          "text": [
            "짝수\n"
          ],
          "name": "stdout"
        }
      ]
    },
    {
      "cell_type": "code",
      "metadata": {
        "id": "hNwVlS79Txi1",
        "outputId": "5b7736b1-65f0-4e14-b1da-64160395d43e",
        "colab": {
          "base_uri": "https://localhost:8080/",
          "height": 35
        }
      },
      "source": [
        "number = 10\n",
        "last_number = str(number)[-1]\n",
        "\n",
        "if last_number in \"02468\" :\n",
        "  print(\"짝수\")\n",
        "if last_number in \"13579\" :\n",
        "  print(\"홀수\")"
      ],
      "execution_count": 20,
      "outputs": [
        {
          "output_type": "stream",
          "text": [
            "짝수\n"
          ],
          "name": "stdout"
        }
      ]
    },
    {
      "cell_type": "code",
      "metadata": {
        "id": "02KPld5HUYRM"
      },
      "source": [
        ""
      ],
      "execution_count": null,
      "outputs": []
    }
  ]
}