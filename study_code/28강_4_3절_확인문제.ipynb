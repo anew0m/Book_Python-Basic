{
  "nbformat": 4,
  "nbformat_minor": 0,
  "metadata": {
    "colab": {
      "name": "28강 - 4-3절 확인문제.ipynb",
      "provenance": [],
      "authorship_tag": "ABX9TyMKtZHB8SipvnW61SPvJMRc",
      "include_colab_link": true
    },
    "kernelspec": {
      "name": "python3",
      "display_name": "Python 3"
    }
  },
  "cells": [
    {
      "cell_type": "markdown",
      "metadata": {
        "id": "view-in-github",
        "colab_type": "text"
      },
      "source": [
        "<a href=\"https://colab.research.google.com/github/anew0m/Book_Python-Basic/blob/main/study_code/28%EA%B0%95_4_3%EC%A0%88_%ED%99%95%EC%9D%B8%EB%AC%B8%EC%A0%9C.ipynb\" target=\"_parent\"><img src=\"https://colab.research.google.com/assets/colab-badge.svg\" alt=\"Open In Colab\"/></a>"
      ]
    },
    {
      "cell_type": "markdown",
      "metadata": {
        "id": "MoK7Uf2kMFGi"
      },
      "source": [
        "# 28강 - 4-3절 확인문제"
      ]
    },
    {
      "cell_type": "markdown",
      "metadata": {
        "id": "CWfsFDRKMHqd"
      },
      "source": [
        "## 3"
      ]
    },
    {
      "cell_type": "code",
      "metadata": {
        "id": "iquwzcAnMX_A"
      },
      "source": [
        "limit = 10000\n",
        "i = 1\n",
        "sum_value = 0\n"
      ],
      "execution_count": 4,
      "outputs": []
    },
    {
      "cell_type": "code",
      "metadata": {
        "id": "jVeQmbySMZlm",
        "outputId": "b6afc54b-510a-47c8-ac2e-c91d4341bbdb",
        "colab": {
          "base_uri": "https://localhost:8080/",
          "height": 35
        }
      },
      "source": [
        "for i in range(1, limit) :\n",
        "  sum_value += i\n",
        "\n",
        "  if sum_value >= limit :\n",
        "    print(\"{} : {}\".format(i, sum_value))\n",
        "    break\n",
        "  else :\n",
        "    continue"
      ],
      "execution_count": 5,
      "outputs": [
        {
          "output_type": "stream",
          "text": [
            "141 : 10011\n"
          ],
          "name": "stdout"
        }
      ]
    },
    {
      "cell_type": "markdown",
      "metadata": {
        "id": "y92mBe19NFnm"
      },
      "source": [
        "## 4"
      ]
    },
    {
      "cell_type": "code",
      "metadata": {
        "id": "-MqCAXt8NbqW",
        "outputId": "68b132bf-7d8f-439a-ff73-7738b341adff",
        "colab": {
          "base_uri": "https://localhost:8080/",
          "height": 35
        }
      },
      "source": [
        "max_val = 0\n",
        "max_i = 0\n",
        "max_j = 0\n",
        "\n",
        "i = j = 0\n",
        "\n",
        "for i in range(1, 100) :\n",
        "  j = abs(100 - i)\n",
        "  # print(\"{} * {} = {}\".format(i, j, i * j))\n",
        "  if max_val <= (i * j) :\n",
        "    max_val = (i * j)\n",
        "    max_i = i\n",
        "    max_j = j\n",
        "    continue\n",
        "\n",
        "print(\"{} * {} = {}\".format(max_i, max_j, max_val))"
      ],
      "execution_count": 19,
      "outputs": [
        {
          "output_type": "stream",
          "text": [
            "50 * 50 = 2500\n"
          ],
          "name": "stdout"
        }
      ]
    },
    {
      "cell_type": "code",
      "metadata": {
        "id": "ze86oMsROTSP"
      },
      "source": [
        ""
      ],
      "execution_count": null,
      "outputs": []
    }
  ]
}