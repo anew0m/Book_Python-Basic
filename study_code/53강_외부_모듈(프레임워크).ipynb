{
  "nbformat": 4,
  "nbformat_minor": 0,
  "metadata": {
    "colab": {
      "name": "53강 - 외부 모듈(프레임워크).ipynb",
      "provenance": [],
      "authorship_tag": "ABX9TyNyDnYac9JXGLgybtM6/6YK",
      "include_colab_link": true
    },
    "kernelspec": {
      "name": "python3",
      "display_name": "Python 3"
    }
  },
  "cells": [
    {
      "cell_type": "markdown",
      "metadata": {
        "id": "view-in-github",
        "colab_type": "text"
      },
      "source": [
        "<a href=\"https://colab.research.google.com/github/anew0m/Book_Python-Basic/blob/main/study_code/53%EA%B0%95_%EC%99%B8%EB%B6%80_%EB%AA%A8%EB%93%88(%ED%94%84%EB%A0%88%EC%9E%84%EC%9B%8C%ED%81%AC).ipynb\" target=\"_parent\"><img src=\"https://colab.research.google.com/assets/colab-badge.svg\" alt=\"Open In Colab\"/></a>"
      ]
    },
    {
      "cell_type": "markdown",
      "metadata": {
        "id": "J7vl3qPqkO_x"
      },
      "source": [
        "# 53강 - 외부 모듈(프레임워크)"
      ]
    },
    {
      "cell_type": "markdown",
      "metadata": {
        "id": "lNRjjnPHkQ4d"
      },
      "source": [
        "## Flask 모듈 - 마이크로 웹 프레임워크"
      ]
    },
    {
      "cell_type": "markdown",
      "metadata": {
        "id": "wdlqByMUkTbv"
      },
      "source": [
        "* BeautifulSoup 모듈 = 라이브러리\n",
        "* Flask 모듈 = 프레임워크"
      ]
    },
    {
      "cell_type": "markdown",
      "metadata": {
        "id": "oGNow96qkcc6"
      },
      "source": [
        "## Flask 모듈 문서 확인하기"
      ]
    },
    {
      "cell_type": "markdown",
      "metadata": {
        "id": "4vwNvFrzkgxp"
      },
      "source": [
        "* https://github.com/pallets/flask"
      ]
    },
    {
      "cell_type": "markdown",
      "metadata": {
        "id": "fAzuZjdakxl-"
      },
      "source": [
        "## Flask 모듈 설치"
      ]
    },
    {
      "cell_type": "code",
      "metadata": {
        "id": "HocpDxiEklq8",
        "outputId": "62a9f815-39a1-462a-d439-007a6fb36e96",
        "colab": {
          "base_uri": "https://localhost:8080/",
          "height": 129
        }
      },
      "source": [
        "pip install Flask"
      ],
      "execution_count": 1,
      "outputs": [
        {
          "output_type": "stream",
          "text": [
            "Requirement already satisfied: Flask in /usr/local/lib/python3.6/dist-packages (1.1.2)\n",
            "Requirement already satisfied: Werkzeug>=0.15 in /usr/local/lib/python3.6/dist-packages (from Flask) (1.0.1)\n",
            "Requirement already satisfied: click>=5.1 in /usr/local/lib/python3.6/dist-packages (from Flask) (7.1.2)\n",
            "Requirement already satisfied: itsdangerous>=0.24 in /usr/local/lib/python3.6/dist-packages (from Flask) (1.1.0)\n",
            "Requirement already satisfied: Jinja2>=2.10.1 in /usr/local/lib/python3.6/dist-packages (from Flask) (2.11.2)\n",
            "Requirement already satisfied: MarkupSafe>=0.23 in /usr/local/lib/python3.6/dist-packages (from Jinja2>=2.10.1->Flask) (1.1.1)\n"
          ],
          "name": "stdout"
        }
      ]
    },
    {
      "cell_type": "code",
      "metadata": {
        "id": "RlixAgC0knMd"
      },
      "source": [
        "import flask"
      ],
      "execution_count": 2,
      "outputs": []
    },
    {
      "cell_type": "markdown",
      "metadata": {
        "id": "3gp9dICLk1-j"
      },
      "source": [
        "## Flask 코드 살펴보기"
      ]
    },
    {
      "cell_type": "code",
      "metadata": {
        "id": "zTiivQqyk5pf"
      },
      "source": [
        "from flask import Flask\n",
        "\n",
        "app = Flask(__name__)\n",
        "\n",
        "@app.route(\"/\") # 데코레이터\n",
        "def hello() :\n",
        "  return \"Hello World!\""
      ],
      "execution_count": 3,
      "outputs": []
    },
    {
      "cell_type": "markdown",
      "metadata": {
        "id": "r5wvIiColGq8"
      },
      "source": [
        "## Flask 코드 실행하기"
      ]
    },
    {
      "cell_type": "markdown",
      "metadata": {
        "id": "uKCfniD0lQsD"
      },
      "source": [
        "Windows 기준"
      ]
    },
    {
      "cell_type": "markdown",
      "metadata": {
        "id": "sHPDhn9wlIFi"
      },
      "source": [
        "* set FLASK_APP = 파일 이름.py\n",
        "* flask run"
      ]
    },
    {
      "cell_type": "markdown",
      "metadata": {
        "id": "tXlJJ5jplTZx"
      },
      "source": [
        "Mac 기준"
      ]
    },
    {
      "cell_type": "markdown",
      "metadata": {
        "id": "I5HyVB9llW-T"
      },
      "source": [
        "* export FLASK_APP = 파일 이름.py\n",
        "* flask run"
      ]
    },
    {
      "cell_type": "code",
      "metadata": {
        "id": "IpQm2DIXleJF",
        "outputId": "4ae98455-8df0-4d00-8b63-3c17dad080f7",
        "colab": {
          "base_uri": "https://localhost:8080/",
          "height": 139
        }
      },
      "source": [
        "export FLASK_APP = 53강 - 외부 모듈(프레임워크).ipynb"
      ],
      "execution_count": 4,
      "outputs": [
        {
          "output_type": "error",
          "ename": "SyntaxError",
          "evalue": "ignored",
          "traceback": [
            "\u001b[0;36m  File \u001b[0;32m\"<ipython-input-4-b21873ee5443>\"\u001b[0;36m, line \u001b[0;32m1\u001b[0m\n\u001b[0;31m    export FLASK_APP = 53강 - 외부 모듈(프레임워크).ipynb\u001b[0m\n\u001b[0m                   ^\u001b[0m\n\u001b[0;31mSyntaxError\u001b[0m\u001b[0;31m:\u001b[0m invalid syntax\n"
          ]
        }
      ]
    },
    {
      "cell_type": "markdown",
      "metadata": {
        "id": "ISvz4m6olnW3"
      },
      "source": [
        "## 모듈 - 라이브러리와 프레임워크"
      ]
    },
    {
      "cell_type": "markdown",
      "metadata": {
        "id": "yaghr_89mABr"
      },
      "source": [
        "라이브러리\n",
        "* 정상적인 제어 방법으로 사용하는 모듈"
      ]
    },
    {
      "cell_type": "markdown",
      "metadata": {
        "id": "emPnykvDmKxz"
      },
      "source": [
        "* 개발자가 모듈을 직접 사용한다 = 정상적인 제어"
      ]
    },
    {
      "cell_type": "code",
      "metadata": {
        "id": "uJYpTPodmUSA",
        "outputId": "d98b26bf-ed84-4501-8513-1e1df4ab8761",
        "colab": {
          "base_uri": "https://localhost:8080/",
          "height": 36
        }
      },
      "source": [
        "from math import sin, cos, tan, floor, ceil\n",
        "\n",
        "print(sin(1))"
      ],
      "execution_count": 5,
      "outputs": [
        {
          "output_type": "stream",
          "text": [
            "0.8414709848078965\n"
          ],
          "name": "stdout"
        }
      ]
    },
    {
      "cell_type": "markdown",
      "metadata": {
        "id": "G0DlaU1smHno"
      },
      "source": [
        "프레임워크\n",
        "* 제어 역전(IoC)이 일어나는 모듈"
      ]
    },
    {
      "cell_type": "markdown",
      "metadata": {
        "id": "EJVnj0MimaKD"
      },
      "source": [
        "* 모듈이 개발자의 코드를 사용한다 = 제어 역전(Inversion of Control : IoC)"
      ]
    },
    {
      "cell_type": "code",
      "metadata": {
        "id": "HJrxsr-6mfIx"
      },
      "source": [
        "from flask import Flask\n",
        "\n",
        "app = Flask(__name__)\n",
        "\n",
        "@app.route(\"/\") # 데코레이터\n",
        "def hello() :\n",
        "  return \"Hello World!\""
      ],
      "execution_count": 7,
      "outputs": []
    },
    {
      "cell_type": "code",
      "metadata": {
        "id": "4zsikbeEmiMG"
      },
      "source": [
        ""
      ],
      "execution_count": null,
      "outputs": []
    }
  ]
}