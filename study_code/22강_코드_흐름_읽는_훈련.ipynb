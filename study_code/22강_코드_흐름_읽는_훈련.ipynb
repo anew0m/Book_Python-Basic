{
  "nbformat": 4,
  "nbformat_minor": 0,
  "metadata": {
    "colab": {
      "name": "22강 - 코드 흐름 읽는 훈련.ipynb",
      "provenance": [],
      "authorship_tag": "ABX9TyP+wdGxyBvTYwR5QFPTfNCs",
      "include_colab_link": true
    },
    "kernelspec": {
      "name": "python3",
      "display_name": "Python 3"
    }
  },
  "cells": [
    {
      "cell_type": "markdown",
      "metadata": {
        "id": "view-in-github",
        "colab_type": "text"
      },
      "source": [
        "<a href=\"https://colab.research.google.com/github/anew0m/Book_Python-Basic/blob/main/study_code/22%EA%B0%95_%EC%BD%94%EB%93%9C_%ED%9D%90%EB%A6%84_%EC%9D%BD%EB%8A%94_%ED%9B%88%EB%A0%A8.ipynb\" target=\"_parent\"><img src=\"https://colab.research.google.com/assets/colab-badge.svg\" alt=\"Open In Colab\"/></a>"
      ]
    },
    {
      "cell_type": "markdown",
      "metadata": {
        "id": "wNuYwYE-zoST"
      },
      "source": [
        "# 22강 - 코드 흐름 읽는 훈련\n"
      ]
    },
    {
      "cell_type": "markdown",
      "metadata": {
        "id": "emjAnWt6z_Rh"
      },
      "source": [
        "작성된 코드를 손 컴파일"
      ]
    },
    {
      "cell_type": "code",
      "metadata": {
        "id": "U0-bPsDw0eID"
      },
      "source": [
        ""
      ],
      "execution_count": null,
      "outputs": []
    }
  ]
}