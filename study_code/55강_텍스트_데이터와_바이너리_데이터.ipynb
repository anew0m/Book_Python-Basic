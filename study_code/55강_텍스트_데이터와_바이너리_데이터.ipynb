{
  "nbformat": 4,
  "nbformat_minor": 0,
  "metadata": {
    "colab": {
      "name": "55강 - 텍스트 데이터와 바이너리 데이터.ipynb",
      "provenance": [],
      "authorship_tag": "ABX9TyM5bQI5uZnX4znEYoLRqzzb",
      "include_colab_link": true
    },
    "kernelspec": {
      "name": "python3",
      "display_name": "Python 3"
    }
  },
  "cells": [
    {
      "cell_type": "markdown",
      "metadata": {
        "id": "view-in-github",
        "colab_type": "text"
      },
      "source": [
        "<a href=\"https://colab.research.google.com/github/anew0m/Book_Python-Basic/blob/main/study_code/55%EA%B0%95_%ED%85%8D%EC%8A%A4%ED%8A%B8_%EB%8D%B0%EC%9D%B4%ED%84%B0%EC%99%80_%EB%B0%94%EC%9D%B4%EB%84%88%EB%A6%AC_%EB%8D%B0%EC%9D%B4%ED%84%B0.ipynb\" target=\"_parent\"><img src=\"https://colab.research.google.com/assets/colab-badge.svg\" alt=\"Open In Colab\"/></a>"
      ]
    },
    {
      "cell_type": "markdown",
      "metadata": {
        "id": "bo9JGhckpZlJ"
      },
      "source": [
        "# 55강 - 텍스트 데이터와 바이너리 데이터"
      ]
    },
    {
      "cell_type": "markdown",
      "metadata": {
        "id": "CAIxg6TLpcE_"
      },
      "source": [
        "1. 컴퓨터가 데이터를 저장할 때는 무조건 숫자로 저장\n",
        "2. 파이썬의 파일 구분 : 텍스트 데이터와 바이너리 데이터\n",
        "3. 텍스트 데이터를 읽고 쓰는 방법\n",
        "4. 바이너리 데이터를 읽고 쓰는 방법"
      ]
    },
    {
      "cell_type": "markdown",
      "metadata": {
        "id": "6TdjNSDWpkYG"
      },
      "source": [
        "* 파이썬은 내부적으로 텍스트와 바이너리 를 구분해서 사용"
      ]
    },
    {
      "cell_type": "markdown",
      "metadata": {
        "id": "UCb4xBOVqhVG"
      },
      "source": [
        "* 텍스트 데이터 : 텍스트 편집기로 편집 가능\n",
        "* 바이너리 데이터 : 텍스트 편집기로 편집 불가능(전용 편집기로 편집)"
      ]
    },
    {
      "cell_type": "code",
      "metadata": {
        "id": "PCHEU7taq2nE"
      },
      "source": [
        ""
      ],
      "execution_count": null,
      "outputs": []
    }
  ]
}