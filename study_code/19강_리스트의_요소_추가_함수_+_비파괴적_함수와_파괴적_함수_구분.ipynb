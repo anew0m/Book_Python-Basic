{
  "nbformat": 4,
  "nbformat_minor": 0,
  "metadata": {
    "colab": {
      "name": "19강 - 리스트의 요소 추가 함수 + 비파괴적 함수와 파괴적 함수 구분.ipynb",
      "provenance": [],
      "authorship_tag": "ABX9TyMIrMHR8Iw/VoOiS1jt2BNS",
      "include_colab_link": true
    },
    "kernelspec": {
      "name": "python3",
      "display_name": "Python 3"
    }
  },
  "cells": [
    {
      "cell_type": "markdown",
      "metadata": {
        "id": "view-in-github",
        "colab_type": "text"
      },
      "source": [
        "<a href=\"https://colab.research.google.com/github/anew0m/Book_Python-Basic/blob/main/study_code/19%EA%B0%95_%EB%A6%AC%EC%8A%A4%ED%8A%B8%EC%9D%98_%EC%9A%94%EC%86%8C_%EC%B6%94%EA%B0%80_%ED%95%A8%EC%88%98_%2B_%EB%B9%84%ED%8C%8C%EA%B4%B4%EC%A0%81_%ED%95%A8%EC%88%98%EC%99%80_%ED%8C%8C%EA%B4%B4%EC%A0%81_%ED%95%A8%EC%88%98_%EA%B5%AC%EB%B6%84.ipynb\" target=\"_parent\"><img src=\"https://colab.research.google.com/assets/colab-badge.svg\" alt=\"Open In Colab\"/></a>"
      ]
    },
    {
      "cell_type": "markdown",
      "metadata": {
        "id": "1QfM-3u1cP_U"
      },
      "source": [
        "# 19강 - 리스트의 요소 추가 함수 + 비파괴적 함수와 파괴적 함수 구분"
      ]
    },
    {
      "cell_type": "markdown",
      "metadata": {
        "id": "0ekCSiZycWWQ"
      },
      "source": [
        "1. append(), insert(), extend()\n",
        "2. 파괴적 함수와 비파괴적 함수"
      ]
    },
    {
      "cell_type": "markdown",
      "metadata": {
        "id": "ltVQFO0ncdSO"
      },
      "source": [
        "## append(), insert(), extend()"
      ]
    },
    {
      "cell_type": "code",
      "metadata": {
        "id": "zCKVV0micfW2"
      },
      "source": [
        "a = [10, 20, 30]"
      ],
      "execution_count": 11,
      "outputs": []
    },
    {
      "cell_type": "code",
      "metadata": {
        "id": "U7924a75ckHA",
        "outputId": "55ad3acb-a98a-4dd5-b872-7614732214c5",
        "colab": {
          "base_uri": "https://localhost:8080/",
          "height": 35
        }
      },
      "source": [
        "a"
      ],
      "execution_count": 12,
      "outputs": [
        {
          "output_type": "execute_result",
          "data": {
            "text/plain": [
              "[10, 20, 30]"
            ]
          },
          "metadata": {
            "tags": []
          },
          "execution_count": 12
        }
      ]
    },
    {
      "cell_type": "code",
      "metadata": {
        "id": "mD3cjut2chQX"
      },
      "source": [
        "a.append(40)"
      ],
      "execution_count": 13,
      "outputs": []
    },
    {
      "cell_type": "code",
      "metadata": {
        "id": "3g0V7B3UciGc",
        "outputId": "d431d39d-899a-490c-fd8a-2a0f41a4f426",
        "colab": {
          "base_uri": "https://localhost:8080/",
          "height": 35
        }
      },
      "source": [
        "a"
      ],
      "execution_count": 14,
      "outputs": [
        {
          "output_type": "execute_result",
          "data": {
            "text/plain": [
              "[10, 20, 30, 40]"
            ]
          },
          "metadata": {
            "tags": []
          },
          "execution_count": 14
        }
      ]
    },
    {
      "cell_type": "code",
      "metadata": {
        "id": "Qg1jhZlDciep"
      },
      "source": [
        "a.insert(1, 11)"
      ],
      "execution_count": 15,
      "outputs": []
    },
    {
      "cell_type": "code",
      "metadata": {
        "id": "0NG3P6rtcwOj",
        "outputId": "ccda686c-472d-448b-c48b-766c8c9a6784",
        "colab": {
          "base_uri": "https://localhost:8080/",
          "height": 35
        }
      },
      "source": [
        "a"
      ],
      "execution_count": 16,
      "outputs": [
        {
          "output_type": "execute_result",
          "data": {
            "text/plain": [
              "[10, 11, 20, 30, 40]"
            ]
          },
          "metadata": {
            "tags": []
          },
          "execution_count": 16
        }
      ]
    },
    {
      "cell_type": "code",
      "metadata": {
        "id": "6U2jiLBacwlS"
      },
      "source": [
        "a.extend([5, 6, 7])"
      ],
      "execution_count": 17,
      "outputs": []
    },
    {
      "cell_type": "code",
      "metadata": {
        "id": "FAl6pcGTdBrX",
        "outputId": "ed7734d3-2f20-4f20-f0cc-f4deb450ae1d",
        "colab": {
          "base_uri": "https://localhost:8080/",
          "height": 35
        }
      },
      "source": [
        "a"
      ],
      "execution_count": 18,
      "outputs": [
        {
          "output_type": "execute_result",
          "data": {
            "text/plain": [
              "[10, 11, 20, 30, 40, 5, 6, 7]"
            ]
          },
          "metadata": {
            "tags": []
          },
          "execution_count": 18
        }
      ]
    },
    {
      "cell_type": "markdown",
      "metadata": {
        "id": "Jiak8WHadB3R"
      },
      "source": [
        "## 파괴적 함수와 비파괴적 함수"
      ]
    },
    {
      "cell_type": "markdown",
      "metadata": {
        "id": "P2hbMxw6dKDJ"
      },
      "source": [
        "자기자신을 파괴하지 않는 함수"
      ]
    },
    {
      "cell_type": "code",
      "metadata": {
        "id": "CrwoYZLQdNix"
      },
      "source": [
        "a = \"hello\""
      ],
      "execution_count": 19,
      "outputs": []
    },
    {
      "cell_type": "code",
      "metadata": {
        "id": "iIIw9uPcdPFA",
        "outputId": "d761a331-9486-4dd6-9740-b578b0b37f4d",
        "colab": {
          "base_uri": "https://localhost:8080/",
          "height": 35
        }
      },
      "source": [
        "a"
      ],
      "execution_count": 20,
      "outputs": [
        {
          "output_type": "execute_result",
          "data": {
            "application/vnd.google.colaboratory.intrinsic+json": {
              "type": "string"
            },
            "text/plain": [
              "'hello'"
            ]
          },
          "metadata": {
            "tags": []
          },
          "execution_count": 20
        }
      ]
    },
    {
      "cell_type": "code",
      "metadata": {
        "id": "GOti_Y24dPmz",
        "outputId": "7af67614-2811-4f64-baa3-f5a58404961f",
        "colab": {
          "base_uri": "https://localhost:8080/",
          "height": 35
        }
      },
      "source": [
        "a.upper()"
      ],
      "execution_count": 21,
      "outputs": [
        {
          "output_type": "execute_result",
          "data": {
            "application/vnd.google.colaboratory.intrinsic+json": {
              "type": "string"
            },
            "text/plain": [
              "'HELLO'"
            ]
          },
          "metadata": {
            "tags": []
          },
          "execution_count": 21
        }
      ]
    },
    {
      "cell_type": "code",
      "metadata": {
        "id": "YXqiat61dRTN",
        "outputId": "88d4e42d-dfc7-4b16-8f8f-2a56140199c5",
        "colab": {
          "base_uri": "https://localhost:8080/",
          "height": 35
        }
      },
      "source": [
        "a"
      ],
      "execution_count": 22,
      "outputs": [
        {
          "output_type": "execute_result",
          "data": {
            "application/vnd.google.colaboratory.intrinsic+json": {
              "type": "string"
            },
            "text/plain": [
              "'hello'"
            ]
          },
          "metadata": {
            "tags": []
          },
          "execution_count": 22
        }
      ]
    },
    {
      "cell_type": "code",
      "metadata": {
        "id": "-EMaw9UydSV0"
      },
      "source": [
        "b = a.upper()"
      ],
      "execution_count": 23,
      "outputs": []
    },
    {
      "cell_type": "code",
      "metadata": {
        "id": "U3Us9DredYmx",
        "outputId": "ce6c7b17-ab3c-4784-d0c0-06a5bca831f1",
        "colab": {
          "base_uri": "https://localhost:8080/",
          "height": 35
        }
      },
      "source": [
        "b"
      ],
      "execution_count": 24,
      "outputs": [
        {
          "output_type": "execute_result",
          "data": {
            "application/vnd.google.colaboratory.intrinsic+json": {
              "type": "string"
            },
            "text/plain": [
              "'HELLO'"
            ]
          },
          "metadata": {
            "tags": []
          },
          "execution_count": 24
        }
      ]
    },
    {
      "cell_type": "markdown",
      "metadata": {
        "id": "4fgkw3BfdYxj"
      },
      "source": [
        "자기자신을 파괴하는 함수"
      ]
    },
    {
      "cell_type": "code",
      "metadata": {
        "id": "Xx1Q_jI0desT"
      },
      "source": [
        "a = [1, 2, 3]"
      ],
      "execution_count": 25,
      "outputs": []
    },
    {
      "cell_type": "code",
      "metadata": {
        "id": "DQ6XvnJ5djrM",
        "outputId": "bfa7a2b7-9bcd-4ae6-d5c2-a377be44903e",
        "colab": {
          "base_uri": "https://localhost:8080/",
          "height": 35
        }
      },
      "source": [
        "a"
      ],
      "execution_count": 26,
      "outputs": [
        {
          "output_type": "execute_result",
          "data": {
            "text/plain": [
              "[1, 2, 3]"
            ]
          },
          "metadata": {
            "tags": []
          },
          "execution_count": 26
        }
      ]
    },
    {
      "cell_type": "code",
      "metadata": {
        "id": "mq4HNYUKdj60"
      },
      "source": [
        "a.append(4)"
      ],
      "execution_count": 27,
      "outputs": []
    },
    {
      "cell_type": "code",
      "metadata": {
        "id": "ToZhYZlfdmWS",
        "outputId": "a06d2fef-f410-41df-ddc1-cdcd48cd732a",
        "colab": {
          "base_uri": "https://localhost:8080/",
          "height": 35
        }
      },
      "source": [
        "a"
      ],
      "execution_count": 28,
      "outputs": [
        {
          "output_type": "execute_result",
          "data": {
            "text/plain": [
              "[1, 2, 3, 4]"
            ]
          },
          "metadata": {
            "tags": []
          },
          "execution_count": 28
        }
      ]
    },
    {
      "cell_type": "markdown",
      "metadata": {
        "id": "ESS718rZdmsx"
      },
      "source": [
        "##  비파괴적으로 append() 사용"
      ]
    },
    {
      "cell_type": "code",
      "metadata": {
        "id": "o37URHQCd-Lp",
        "outputId": "8e873630-ff3a-4431-8b37-17acf18492e4",
        "colab": {
          "base_uri": "https://localhost:8080/",
          "height": 35
        }
      },
      "source": [
        "a = [1, 2, 3]\n",
        "a + [4]"
      ],
      "execution_count": 29,
      "outputs": [
        {
          "output_type": "execute_result",
          "data": {
            "text/plain": [
              "[1, 2, 3, 4]"
            ]
          },
          "metadata": {
            "tags": []
          },
          "execution_count": 29
        }
      ]
    },
    {
      "cell_type": "code",
      "metadata": {
        "id": "JiltpsvkeB6Y",
        "outputId": "dbcf14a4-f643-491f-ff91-010280e21a1c",
        "colab": {
          "base_uri": "https://localhost:8080/",
          "height": 35
        }
      },
      "source": [
        "a"
      ],
      "execution_count": 30,
      "outputs": [
        {
          "output_type": "execute_result",
          "data": {
            "text/plain": [
              "[1, 2, 3]"
            ]
          },
          "metadata": {
            "tags": []
          },
          "execution_count": 30
        }
      ]
    },
    {
      "cell_type": "code",
      "metadata": {
        "id": "TI_WbZJheCI2",
        "outputId": "35e18334-05f3-4f00-b931-3d9493e54e3a",
        "colab": {
          "base_uri": "https://localhost:8080/",
          "height": 35
        }
      },
      "source": [
        "b = a + [4]\n",
        "b"
      ],
      "execution_count": 31,
      "outputs": [
        {
          "output_type": "execute_result",
          "data": {
            "text/plain": [
              "[1, 2, 3, 4]"
            ]
          },
          "metadata": {
            "tags": []
          },
          "execution_count": 31
        }
      ]
    },
    {
      "cell_type": "code",
      "metadata": {
        "id": "pGXo4Dp7eFD-"
      },
      "source": [
        ""
      ],
      "execution_count": null,
      "outputs": []
    }
  ]
}