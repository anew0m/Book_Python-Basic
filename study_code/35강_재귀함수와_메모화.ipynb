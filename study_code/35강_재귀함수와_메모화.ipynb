{
  "nbformat": 4,
  "nbformat_minor": 0,
  "metadata": {
    "colab": {
      "name": "35강 - 재귀함수와 메모화.ipynb",
      "provenance": [],
      "authorship_tag": "ABX9TyMUzf8hRQRz/XdLXTlV47FQ",
      "include_colab_link": true
    },
    "kernelspec": {
      "name": "python3",
      "display_name": "Python 3"
    }
  },
  "cells": [
    {
      "cell_type": "markdown",
      "metadata": {
        "id": "view-in-github",
        "colab_type": "text"
      },
      "source": [
        "<a href=\"https://colab.research.google.com/github/anew0m/Book_Python-Basic/blob/main/study_code/35%EA%B0%95_%EC%9E%AC%EA%B7%80%ED%95%A8%EC%88%98%EC%99%80_%EB%A9%94%EB%AA%A8%ED%99%94.ipynb\" target=\"_parent\"><img src=\"https://colab.research.google.com/assets/colab-badge.svg\" alt=\"Open In Colab\"/></a>"
      ]
    },
    {
      "cell_type": "markdown",
      "metadata": {
        "id": "l5bpBQoYoA90"
      },
      "source": [
        "# 35강 - 재귀함수와 메모화"
      ]
    },
    {
      "cell_type": "markdown",
      "metadata": {
        "id": "LEy0_WVeoCfW"
      },
      "source": [
        "* 조기 리턴"
      ]
    },
    {
      "cell_type": "markdown",
      "metadata": {
        "id": "bjiPfh2IoJQ_"
      },
      "source": [
        "## 팩토리얼의 정의"
      ]
    },
    {
      "cell_type": "markdown",
      "metadata": {
        "id": "S8myZusOoUqe"
      },
      "source": [
        "* n!\n",
        "* 3! = 3 * 2 * 1"
      ]
    },
    {
      "cell_type": "markdown",
      "metadata": {
        "id": "lN5GziR1oYPO"
      },
      "source": [
        "* n! = 1 * 2 * ... * (n-2) * (n-1) * n"
      ]
    },
    {
      "cell_type": "code",
      "metadata": {
        "id": "px-x8Es3pFpQ",
        "outputId": "fcd3e30f-2508-4f8c-91a1-9d80661e242c",
        "colab": {
          "base_uri": "https://localhost:8080/",
          "height": 35
        }
      },
      "source": [
        "def factorial_1(n) :\n",
        "  변수 = 1\n",
        "\n",
        "  for i in range(1, n + 1) :\n",
        "    변수 *= i\n",
        "\n",
        "  return 변수\n",
        "\n",
        "print(factorial_1(10))"
      ],
      "execution_count": 3,
      "outputs": [
        {
          "output_type": "stream",
          "text": [
            "3628800\n"
          ],
          "name": "stdout"
        }
      ]
    },
    {
      "cell_type": "markdown",
      "metadata": {
        "id": "9cgeOwAEpCSG"
      },
      "source": [
        "* n! = n * (n - 1)!\n",
        "* 0! = 1"
      ]
    },
    {
      "cell_type": "code",
      "metadata": {
        "id": "sg6tEzDqoorx",
        "outputId": "0eac46eb-e1d1-4657-de13-a01ce3135b64",
        "colab": {
          "base_uri": "https://localhost:8080/",
          "height": 35
        }
      },
      "source": [
        "i = 1\n",
        "\n",
        "def factorial_2(n) :\n",
        "  if n == 0 :\n",
        "    return 1\n",
        "  else :\n",
        "    return n * factorial_2(n - 1)\n",
        "\n",
        "print(factorial_2(10))"
      ],
      "execution_count": 8,
      "outputs": [
        {
          "output_type": "stream",
          "text": [
            "3628800\n"
          ],
          "name": "stdout"
        }
      ]
    },
    {
      "cell_type": "markdown",
      "metadata": {
        "id": "mS55SxvCo2DP"
      },
      "source": [
        "## 재귀 함수의 문제"
      ]
    },
    {
      "cell_type": "markdown",
      "metadata": {
        "id": "uvQk9mrsqVGy"
      },
      "source": [
        "* f(1) = 1\n",
        "* f(2) = 1\n",
        "* f(n) = f(n - 1) + f(n - 2)"
      ]
    },
    {
      "cell_type": "code",
      "metadata": {
        "id": "RpSEjfc3qcu5",
        "outputId": "9902607d-3df1-411b-d1a3-faf8607f77e4",
        "colab": {
          "base_uri": "https://localhost:8080/",
          "height": 107
        }
      },
      "source": [
        "def f(n) :\n",
        "  if n == 1 or n == 2 :\n",
        "    return 1\n",
        "  else :\n",
        "    return f(n - 1) + f(n -2)\n",
        "  \n",
        "print(f(1))\n",
        "print(f(2))\n",
        "print(f(3))\n",
        "print(f(4))\n",
        "print(f(5))\n"
      ],
      "execution_count": 17,
      "outputs": [
        {
          "output_type": "stream",
          "text": [
            "1\n",
            "1\n",
            "2\n",
            "3\n",
            "5\n"
          ],
          "name": "stdout"
        }
      ]
    },
    {
      "cell_type": "code",
      "metadata": {
        "id": "g0hyPSUZrkOZ",
        "outputId": "944d546a-2843-47a8-f71b-26d96406a46e",
        "colab": {
          "base_uri": "https://localhost:8080/",
          "height": 35
        }
      },
      "source": [
        "val = [f(i) for i in range(1, 5 + 1) ]\n",
        "\n",
        "print(val)"
      ],
      "execution_count": 18,
      "outputs": [
        {
          "output_type": "stream",
          "text": [
            "[1, 1, 2, 3, 5]\n"
          ],
          "name": "stdout"
        }
      ]
    },
    {
      "cell_type": "code",
      "metadata": {
        "id": "QTPTfpUysS7i",
        "outputId": "35aae484-6f34-49fd-89c2-d54bfedb0623",
        "colab": {
          "base_uri": "https://localhost:8080/",
          "height": 53
        }
      },
      "source": [
        "counter = 0\n",
        "\n",
        "def f(n) :\n",
        "  global counter\n",
        "  counter += 1\n",
        "\n",
        "  if n == 1 or n == 2 :\n",
        "    return 1\n",
        "  else :\n",
        "    return f(n - 1) + f(n -2)\n",
        "\n",
        "print(f(40))\n",
        "print(counter)"
      ],
      "execution_count": 19,
      "outputs": [
        {
          "output_type": "stream",
          "text": [
            "102334155\n",
            "204668309\n"
          ],
          "name": "stdout"
        }
      ]
    },
    {
      "cell_type": "markdown",
      "metadata": {
        "id": "NAKq7bPaszmy"
      },
      "source": [
        "* 계산이 너무 많이 실행됨"
      ]
    },
    {
      "cell_type": "markdown",
      "metadata": {
        "id": "i23p54GdtAlE"
      },
      "source": [
        "## 메모화(memoization)"
      ]
    },
    {
      "cell_type": "markdown",
      "metadata": {
        "id": "x6DbbZqLtm7z"
      },
      "source": [
        "* 한번 계산했던것은 계산하지 않음!!!"
      ]
    },
    {
      "cell_type": "code",
      "metadata": {
        "id": "sWU-VMRctHgB"
      },
      "source": [
        "메모 = {\n",
        "    1: 1, \n",
        "    2: 1\n",
        "}"
      ],
      "execution_count": 20,
      "outputs": []
    },
    {
      "cell_type": "code",
      "metadata": {
        "id": "1YMsScyAtLVM",
        "outputId": "0a845fa2-06b1-4fe2-85b1-09bcacd5fb17",
        "colab": {
          "base_uri": "https://localhost:8080/",
          "height": 35
        }
      },
      "source": [
        "def f(n) :\n",
        "  if n in 메모 : \n",
        "    return 메모[n]\n",
        "  else :\n",
        "    output = f(n - 1) + f(n - 2)\n",
        "    메모[n] = output\n",
        "\n",
        "    return output\n",
        "\n",
        "print(f(40))"
      ],
      "execution_count": 21,
      "outputs": [
        {
          "output_type": "stream",
          "text": [
            "102334155\n"
          ],
          "name": "stdout"
        }
      ]
    },
    {
      "cell_type": "markdown",
      "metadata": {
        "id": "nbo28xFxtdVK"
      },
      "source": [
        "* 레퍼런스 변수는 global 입력하지 않아도 됨"
      ]
    },
    {
      "cell_type": "markdown",
      "metadata": {
        "id": "g8VZtJewtiD3"
      },
      "source": [
        "## 조기 리턴"
      ]
    },
    {
      "cell_type": "markdown",
      "metadata": {
        "id": "gZqJV4pyt6Cw"
      },
      "source": [
        "* 조기에 리턴해서 이후 함수 실행을 차단하는 기술 = 조기 리턴"
      ]
    },
    {
      "cell_type": "code",
      "metadata": {
        "id": "ZaY3tIBatrZw",
        "outputId": "0ec660cf-5e9f-4e96-cdee-f61e1bf891ba",
        "colab": {
          "base_uri": "https://localhost:8080/",
          "height": 35
        }
      },
      "source": [
        "def f(n) :\n",
        "  if n in 메모 : \n",
        "    return 메모[n]\n",
        "  output = f(n - 1) + f(n - 2)\n",
        "  메모[n] = output\n",
        "  return output\n",
        "\n",
        "print(f(40))"
      ],
      "execution_count": 23,
      "outputs": [
        {
          "output_type": "stream",
          "text": [
            "102334155\n"
          ],
          "name": "stdout"
        }
      ]
    }
  ]
}