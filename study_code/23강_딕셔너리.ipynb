{
  "nbformat": 4,
  "nbformat_minor": 0,
  "metadata": {
    "colab": {
      "name": "23강 - 딕셔너리.ipynb",
      "provenance": [],
      "authorship_tag": "ABX9TyM5L8D0hF8AEqrT0I/nzji5",
      "include_colab_link": true
    },
    "kernelspec": {
      "name": "python3",
      "display_name": "Python 3"
    }
  },
  "cells": [
    {
      "cell_type": "markdown",
      "metadata": {
        "id": "view-in-github",
        "colab_type": "text"
      },
      "source": [
        "<a href=\"https://colab.research.google.com/github/anew0m/Book_Python-Basic/blob/main/study_code/23%EA%B0%95_%EB%94%95%EC%85%94%EB%84%88%EB%A6%AC.ipynb\" target=\"_parent\"><img src=\"https://colab.research.google.com/assets/colab-badge.svg\" alt=\"Open In Colab\"/></a>"
      ]
    },
    {
      "cell_type": "markdown",
      "metadata": {
        "id": "xWOMm2Jt1So0"
      },
      "source": [
        "# 23강 - 딕셔너리"
      ]
    },
    {
      "cell_type": "markdown",
      "metadata": {
        "id": "fgUfg84L1WFf"
      },
      "source": [
        "## 딕셔너리 만들기"
      ]
    },
    {
      "cell_type": "markdown",
      "metadata": {
        "id": "N5eyl3p41a4K"
      },
      "source": [
        "* 리스트 = []\n",
        "* 리스트 = [1, 2, 3, 4, 5]\n",
        "* 리스트[0] # 인덱스"
      ]
    },
    {
      "cell_type": "markdown",
      "metadata": {
        "id": "muDa3tuU1lhb"
      },
      "source": [
        "* 딕셔너리 = {}\n",
        "* 딕셔너리 = {\"키A\" : \"값A\"}\n",
        "* 딕셔너리[\"키A\"] # 키"
      ]
    },
    {
      "cell_type": "code",
      "metadata": {
        "id": "-RJZMaep1prc"
      },
      "source": [
        "a = {\n",
        "    \"A\" : \"a\"\n",
        "    , \"B\" : \"b\"\n",
        "    , 123 : [1, 2, 3]\n",
        "    , True : False\n",
        "}"
      ],
      "execution_count": 3,
      "outputs": []
    },
    {
      "cell_type": "code",
      "metadata": {
        "id": "pZ4g6Mip2C0d",
        "outputId": "c5fcba66-27bd-43ca-fd4f-f7a82d1af84f",
        "colab": {
          "base_uri": "https://localhost:8080/",
          "height": 35
        }
      },
      "source": [
        "print(a[\"A\"])"
      ],
      "execution_count": 4,
      "outputs": [
        {
          "output_type": "stream",
          "text": [
            "a\n"
          ],
          "name": "stdout"
        }
      ]
    },
    {
      "cell_type": "code",
      "metadata": {
        "id": "LHnFWbt-2Ff-",
        "outputId": "901c334c-8c5d-493a-bb5e-e36e734d8b8b",
        "colab": {
          "base_uri": "https://localhost:8080/",
          "height": 35
        }
      },
      "source": [
        "print(a[123])"
      ],
      "execution_count": 5,
      "outputs": [
        {
          "output_type": "stream",
          "text": [
            "[1, 2, 3]\n"
          ],
          "name": "stdout"
        }
      ]
    },
    {
      "cell_type": "code",
      "metadata": {
        "id": "oFcIgni-2Kpp",
        "outputId": "fe6496cc-a79d-4c50-a47f-2585e74cc8ce",
        "colab": {
          "base_uri": "https://localhost:8080/",
          "height": 35
        }
      },
      "source": [
        "print(a[True])"
      ],
      "execution_count": 6,
      "outputs": [
        {
          "output_type": "stream",
          "text": [
            "False\n"
          ],
          "name": "stdout"
        }
      ]
    },
    {
      "cell_type": "code",
      "metadata": {
        "id": "IaseB1Vj2L1P"
      },
      "source": [
        "a[\"B\"] = \"ABCDE\""
      ],
      "execution_count": 7,
      "outputs": []
    },
    {
      "cell_type": "code",
      "metadata": {
        "id": "yKK5TpsG2RDP",
        "outputId": "e87eda0c-7552-42de-be8e-d504b28b0c71",
        "colab": {
          "base_uri": "https://localhost:8080/",
          "height": 35
        }
      },
      "source": [
        "print(a[\"B\"])"
      ],
      "execution_count": 8,
      "outputs": [
        {
          "output_type": "stream",
          "text": [
            "ABCDE\n"
          ],
          "name": "stdout"
        }
      ]
    },
    {
      "cell_type": "markdown",
      "metadata": {
        "id": "MN-4-YMQ2SwO"
      },
      "source": [
        "## 반복문과 조합해서 사용하기"
      ]
    },
    {
      "cell_type": "code",
      "metadata": {
        "id": "Sjhe-q-_2WwR",
        "outputId": "71fa0bde-4de0-4b94-d410-c806beaba1e0",
        "colab": {
          "base_uri": "https://localhost:8080/",
          "height": 90
        }
      },
      "source": [
        "for key in a :\n",
        "  print(\"{} : {}\".format(key, a[key]))"
      ],
      "execution_count": 11,
      "outputs": [
        {
          "output_type": "stream",
          "text": [
            "A : a\n",
            "B : ABCDE\n",
            "123 : [1, 2, 3]\n",
            "True : False\n"
          ],
          "name": "stdout"
        }
      ]
    },
    {
      "cell_type": "markdown",
      "metadata": {
        "id": "dQnPjPI-2b4n"
      },
      "source": [
        "## 딕셔너리에 값 추가하기"
      ]
    },
    {
      "cell_type": "code",
      "metadata": {
        "id": "hv9G2-vR2sn6"
      },
      "source": [
        "a[\"C\"] = \"CCCCC\""
      ],
      "execution_count": 12,
      "outputs": []
    },
    {
      "cell_type": "code",
      "metadata": {
        "id": "ELmP9uaQ2u_r",
        "outputId": "2d821597-eab7-45a3-e695-17cef3170efa",
        "colab": {
          "base_uri": "https://localhost:8080/",
          "height": 108
        }
      },
      "source": [
        "for key in a :\n",
        "  print(\"{} : {}\".format(key, a[key]))"
      ],
      "execution_count": 13,
      "outputs": [
        {
          "output_type": "stream",
          "text": [
            "A : a\n",
            "B : ABCDE\n",
            "123 : [1, 2, 3]\n",
            "True : False\n",
            "C : CCCCC\n"
          ],
          "name": "stdout"
        }
      ]
    },
    {
      "cell_type": "markdown",
      "metadata": {
        "id": "FjbfCwft2wuC"
      },
      "source": [
        "## 딕셔너리에 값 제거하기"
      ]
    },
    {
      "cell_type": "code",
      "metadata": {
        "id": "5R_YD1xF2yPe"
      },
      "source": [
        "del a[\"C\"]"
      ],
      "execution_count": 14,
      "outputs": []
    },
    {
      "cell_type": "code",
      "metadata": {
        "id": "A8utcM9j20Sx",
        "outputId": "d5429387-7ac0-4648-a3b8-da42efc1afff",
        "colab": {
          "base_uri": "https://localhost:8080/",
          "height": 90
        }
      },
      "source": [
        "for key in a :\n",
        "  print(\"{} : {}\".format(key, a[key]))"
      ],
      "execution_count": 15,
      "outputs": [
        {
          "output_type": "stream",
          "text": [
            "A : a\n",
            "B : ABCDE\n",
            "123 : [1, 2, 3]\n",
            "True : False\n"
          ],
          "name": "stdout"
        }
      ]
    },
    {
      "cell_type": "code",
      "metadata": {
        "id": "NMBcehkR20pm"
      },
      "source": [
        ""
      ],
      "execution_count": null,
      "outputs": []
    }
  ]
}