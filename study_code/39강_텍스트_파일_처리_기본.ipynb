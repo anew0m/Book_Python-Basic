{
  "nbformat": 4,
  "nbformat_minor": 0,
  "metadata": {
    "colab": {
      "name": "39강 - 텍스트 파일 처리 기본.ipynb",
      "provenance": [],
      "authorship_tag": "ABX9TyO6n7CR9b8md/Bu/MkZMM1h",
      "include_colab_link": true
    },
    "kernelspec": {
      "name": "python3",
      "display_name": "Python 3"
    }
  },
  "cells": [
    {
      "cell_type": "markdown",
      "metadata": {
        "id": "view-in-github",
        "colab_type": "text"
      },
      "source": [
        "<a href=\"https://colab.research.google.com/github/anew0m/Book_Python-Basic/blob/main/study_code/39%EA%B0%95_%ED%85%8D%EC%8A%A4%ED%8A%B8_%ED%8C%8C%EC%9D%BC_%EC%B2%98%EB%A6%AC_%EA%B8%B0%EB%B3%B8.ipynb\" target=\"_parent\"><img src=\"https://colab.research.google.com/assets/colab-badge.svg\" alt=\"Open In Colab\"/></a>"
      ]
    },
    {
      "cell_type": "markdown",
      "metadata": {
        "id": "r2ZwGUjkHU7z"
      },
      "source": [
        "# 39강 - 텍스트 파일 처리 기본"
      ]
    },
    {
      "cell_type": "markdown",
      "metadata": {
        "id": "nUxZ03xPHWkb"
      },
      "source": [
        "## 다루는 파일의 큰 구분"
      ]
    },
    {
      "cell_type": "markdown",
      "metadata": {
        "id": "Fl1XgdUmHglF"
      },
      "source": [
        "* 텍스트 파일 : 텍스트 에디터로 열 수 있음\n",
        "* 바이너리 파일 : 텍스트 에디터로 열 수 없음(이미지, 동영상, 워드, 엑셀, PDF 등)"
      ]
    },
    {
      "cell_type": "markdown",
      "metadata": {
        "id": "7cDa_3tyHh_g"
      },
      "source": [
        "## 파일을 다루는 방식"
      ]
    },
    {
      "cell_type": "markdown",
      "metadata": {
        "id": "0gleYGOKH0JO"
      },
      "source": [
        "* 쓰기\n",
        "** 새로 쓰기(wirte) : w\n",
        "** 있는 파일 뒤에(append) : a\n",
        "* 읽기(read) : r"
      ]
    },
    {
      "cell_type": "markdown",
      "metadata": {
        "id": "AOd0aKg3H4IT"
      },
      "source": [
        "## 파일 읽고 쓰는 코드"
      ]
    },
    {
      "cell_type": "code",
      "metadata": {
        "id": "V9N-EOHGIE1O",
        "outputId": "d133a6cb-7c93-4fa0-9021-3b4ea3547aab",
        "colab": {
          "base_uri": "https://localhost:8080/",
          "height": 208
        }
      },
      "source": [
        "file = open()\n",
        "\n",
        "file.close()"
      ],
      "execution_count": 1,
      "outputs": [
        {
          "output_type": "error",
          "ename": "TypeError",
          "evalue": "ignored",
          "traceback": [
            "\u001b[0;31m---------------------------------------------------------------------------\u001b[0m",
            "\u001b[0;31mTypeError\u001b[0m                                 Traceback (most recent call last)",
            "\u001b[0;32m<ipython-input-1-ac5b8e277b98>\u001b[0m in \u001b[0;36m<module>\u001b[0;34m()\u001b[0m\n\u001b[0;32m----> 1\u001b[0;31m \u001b[0mfile\u001b[0m \u001b[0;34m=\u001b[0m \u001b[0mopen\u001b[0m\u001b[0;34m(\u001b[0m\u001b[0;34m)\u001b[0m\u001b[0;34m\u001b[0m\u001b[0;34m\u001b[0m\u001b[0m\n\u001b[0m\u001b[1;32m      2\u001b[0m \u001b[0;34m\u001b[0m\u001b[0m\n\u001b[1;32m      3\u001b[0m \u001b[0mfile\u001b[0m\u001b[0;34m.\u001b[0m\u001b[0mclose\u001b[0m\u001b[0;34m(\u001b[0m\u001b[0;34m)\u001b[0m\u001b[0;34m\u001b[0m\u001b[0;34m\u001b[0m\u001b[0m\n",
            "\u001b[0;31mTypeError\u001b[0m: Required argument 'file' (pos 1) not found"
          ]
        }
      ]
    },
    {
      "cell_type": "code",
      "metadata": {
        "id": "ryQ46_YuIPfr"
      },
      "source": [
        "file = open(\"test.txt\", \"w\")\n",
        "\n",
        "file.write(\"hello\")\n",
        "\n",
        "file.close()"
      ],
      "execution_count": 2,
      "outputs": []
    },
    {
      "cell_type": "code",
      "metadata": {
        "id": "FDpxjU7cIYLk"
      },
      "source": [
        "file = open(\"test.txt\", \"a\")\n",
        "\n",
        "file.write(\"hello\")\n",
        "\n",
        "file.close()"
      ],
      "execution_count": 8,
      "outputs": []
    },
    {
      "cell_type": "code",
      "metadata": {
        "id": "k-eul4enIinW",
        "outputId": "b1c55668-2791-4419-8a1c-e12b4acb30a4",
        "colab": {
          "base_uri": "https://localhost:8080/",
          "height": 35
        }
      },
      "source": [
        "file = open(\"test.txt\", \"r\")\n",
        "\n",
        "print(file.read())\n",
        "\n",
        "file.close()"
      ],
      "execution_count": 9,
      "outputs": [
        {
          "output_type": "stream",
          "text": [
            "hellohellohellohello\n"
          ],
          "name": "stdout"
        }
      ]
    },
    {
      "cell_type": "markdown",
      "metadata": {
        "id": "Ulu3ADy1IsmC"
      },
      "source": [
        "## with 구문"
      ]
    },
    {
      "cell_type": "code",
      "metadata": {
        "id": "ghok04C1I0CZ"
      },
      "source": [
        "with open(\"test.txt\", \"a\") as file :\n",
        "  file.write(\"Hello\")"
      ],
      "execution_count": 10,
      "outputs": []
    },
    {
      "cell_type": "code",
      "metadata": {
        "id": "yeS0rV98I-Va",
        "outputId": "d672981f-5f95-48f9-9732-54f33fde19f1",
        "colab": {
          "base_uri": "https://localhost:8080/",
          "height": 35
        }
      },
      "source": [
        "with open(\"test.txt\", \"r\") as file :\n",
        "  print(file.read())"
      ],
      "execution_count": 11,
      "outputs": [
        {
          "output_type": "stream",
          "text": [
            "hellohellohellohelloHello\n"
          ],
          "name": "stdout"
        }
      ]
    },
    {
      "cell_type": "code",
      "metadata": {
        "id": "srRDJoGVJA_V"
      },
      "source": [
        ""
      ],
      "execution_count": null,
      "outputs": []
    }
  ]
}