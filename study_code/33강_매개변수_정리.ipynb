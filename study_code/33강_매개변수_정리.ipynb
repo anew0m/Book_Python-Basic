{
  "nbformat": 4,
  "nbformat_minor": 0,
  "metadata": {
    "colab": {
      "name": "33강 - 매개변수 정리.ipynb",
      "provenance": [],
      "authorship_tag": "ABX9TyNY54WrVA1rqvlpcVb35cEI",
      "include_colab_link": true
    },
    "kernelspec": {
      "name": "python3",
      "display_name": "Python 3"
    }
  },
  "cells": [
    {
      "cell_type": "markdown",
      "metadata": {
        "id": "view-in-github",
        "colab_type": "text"
      },
      "source": [
        "<a href=\"https://colab.research.google.com/github/anew0m/Book_Python-Basic/blob/main/study_code/33%EA%B0%95_%EB%A7%A4%EA%B0%9C%EB%B3%80%EC%88%98_%EC%A0%95%EB%A6%AC.ipynb\" target=\"_parent\"><img src=\"https://colab.research.google.com/assets/colab-badge.svg\" alt=\"Open In Colab\"/></a>"
      ]
    },
    {
      "cell_type": "markdown",
      "metadata": {
        "id": "FlRrAkBPgg_A"
      },
      "source": [
        "# 33강 - 매개변수 정리"
      ]
    },
    {
      "cell_type": "markdown",
      "metadata": {
        "id": "hih_IJlUgi3I"
      },
      "source": [
        "## 가변 매개변수와 기본 매개변수 조합하기"
      ]
    },
    {
      "cell_type": "code",
      "metadata": {
        "id": "jVRHMnv8glkx"
      },
      "source": [
        "def function(일반매개변수, 가변매개변수, 기본매개변수) :\n",
        "  pass #위와 같은 순서로 선언"
      ],
      "execution_count": 1,
      "outputs": []
    },
    {
      "cell_type": "code",
      "metadata": {
        "id": "SquQtn9Pk2IO"
      },
      "source": [
        "def function(일반매개변수, *가변매개변수, 기본매개변수 = 100) :\n",
        "  print(일반매개변수)\n",
        "  print(가변매개변수)\n",
        "  print(기본매개변수)\n"
      ],
      "execution_count": 5,
      "outputs": []
    },
    {
      "cell_type": "code",
      "metadata": {
        "id": "1B4BAmMrk-JT",
        "outputId": "f75f9643-ddc7-4b0b-f5c3-af7fa4a0c0ca",
        "colab": {
          "base_uri": "https://localhost:8080/",
          "height": 71
        }
      },
      "source": [
        "function(0, 1, 2, 3, 4, 5, 6, 7, 8, 10)"
      ],
      "execution_count": 7,
      "outputs": [
        {
          "output_type": "stream",
          "text": [
            "0\n",
            "(1, 2, 3, 4, 5, 6, 7, 8, 10)\n",
            "100\n"
          ],
          "name": "stdout"
        }
      ]
    },
    {
      "cell_type": "markdown",
      "metadata": {
        "id": "eWAIOLD9lN-l"
      },
      "source": [
        "## 키워드 매개변수"
      ]
    },
    {
      "cell_type": "code",
      "metadata": {
        "id": "B-ZO43ktlaqJ",
        "outputId": "8f88c0e0-562f-43f3-b4d8-dd49d63067d9",
        "colab": {
          "base_uri": "https://localhost:8080/",
          "height": 71
        }
      },
      "source": [
        "def function(일반매개변수, *가변매개변수, 기본매개변수 = 100) :\n",
        "  print(일반매개변수)\n",
        "  print(가변매개변수)\n",
        "  print(기본매개변수)\n",
        "\n",
        "function(0, 1, 2, 3, 4, 5, 6, 7, 8, 10, 기본매개변수 = 111)"
      ],
      "execution_count": 8,
      "outputs": [
        {
          "output_type": "stream",
          "text": [
            "0\n",
            "(1, 2, 3, 4, 5, 6, 7, 8, 10)\n",
            "111\n"
          ],
          "name": "stdout"
        }
      ]
    },
    {
      "cell_type": "code",
      "metadata": {
        "id": "JN0rgRKpli8z",
        "outputId": "a8e9dfba-4664-4933-d621-2c207ff36b54",
        "colab": {
          "base_uri": "https://localhost:8080/",
          "height": 136
        }
      },
      "source": [
        "def function(일반매개변수, *가변매개변수, 기본매개변수 = 100) :\n",
        "  print(일반매개변수)\n",
        "  print(가변매개변수)\n",
        "  print(기본매개변수)\n",
        "\n",
        "function(기본매개변수 = 111, 0, 1, 2, 3, 4, 5, 6, 7, 8, 10)"
      ],
      "execution_count": 9,
      "outputs": [
        {
          "output_type": "error",
          "ename": "SyntaxError",
          "evalue": "ignored",
          "traceback": [
            "\u001b[0;36m  File \u001b[0;32m\"<ipython-input-9-f42ff33e5f36>\"\u001b[0;36m, line \u001b[0;32m6\u001b[0m\n\u001b[0;31m    function(기본매개변수 = 111, 0, 1, 2, 3, 4, 5, 6, 7, 8, 10)\u001b[0m\n\u001b[0m                                      ^\u001b[0m\n\u001b[0;31mSyntaxError\u001b[0m\u001b[0;31m:\u001b[0m positional argument follows keyword argument\n"
          ]
        }
      ]
    },
    {
      "cell_type": "code",
      "metadata": {
        "id": "hmPl0j7ilrKm",
        "outputId": "674b506e-ac14-4ebe-88f2-78aff0f686bc",
        "colab": {
          "base_uri": "https://localhost:8080/",
          "height": 136
        }
      },
      "source": [
        "def function(일반매개변수, *가변매개변수, 기본매개변수 = 100) :\n",
        "  print(일반매개변수)\n",
        "  print(가변매개변수)\n",
        "  print(기본매개변수)\n",
        "\n",
        "function(0, 기본매개변수 = 111, 1, 2, 3, 4, 5, 6, 7, 8, 10)"
      ],
      "execution_count": 11,
      "outputs": [
        {
          "output_type": "error",
          "ename": "SyntaxError",
          "evalue": "ignored",
          "traceback": [
            "\u001b[0;36m  File \u001b[0;32m\"<ipython-input-11-9682b5feaf81>\"\u001b[0;36m, line \u001b[0;32m6\u001b[0m\n\u001b[0;31m    function(0, 기본매개변수 = 111, 1, 2, 3, 4, 5, 6, 7, 8, 10)\u001b[0m\n\u001b[0m                                         ^\u001b[0m\n\u001b[0;31mSyntaxError\u001b[0m\u001b[0;31m:\u001b[0m positional argument follows keyword argument\n"
          ]
        }
      ]
    },
    {
      "cell_type": "markdown",
      "metadata": {
        "id": "4hAembLZlvUP"
      },
      "source": [
        "## 복습 방법"
      ]
    },
    {
      "cell_type": "markdown",
      "metadata": {
        "id": "DI75qtTUl9LX"
      },
      "source": [
        "[decimal - Python3](https://docs.python.org/3/library/decimal.html)"
      ]
    },
    {
      "cell_type": "code",
      "metadata": {
        "id": "mjR_ePtSmDfd"
      },
      "source": [
        ""
      ],
      "execution_count": null,
      "outputs": []
    }
  ]
}