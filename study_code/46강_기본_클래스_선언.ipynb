{
  "nbformat": 4,
  "nbformat_minor": 0,
  "metadata": {
    "colab": {
      "name": "46강 - 기본 클래스 선언.ipynb",
      "provenance": [],
      "authorship_tag": "ABX9TyOVceH7CLk+eKSTOEGDSHnR",
      "include_colab_link": true
    },
    "kernelspec": {
      "name": "python3",
      "display_name": "Python 3"
    }
  },
  "cells": [
    {
      "cell_type": "markdown",
      "metadata": {
        "id": "view-in-github",
        "colab_type": "text"
      },
      "source": [
        "<a href=\"https://colab.research.google.com/github/anew0m/Book_Python-Basic/blob/main/study_code/46%EA%B0%95_%EA%B8%B0%EB%B3%B8_%ED%81%B4%EB%9E%98%EC%8A%A4_%EC%84%A0%EC%96%B8.ipynb\" target=\"_parent\"><img src=\"https://colab.research.google.com/assets/colab-badge.svg\" alt=\"Open In Colab\"/></a>"
      ]
    },
    {
      "cell_type": "markdown",
      "metadata": {
        "id": "XT_pupV4eFRn"
      },
      "source": [
        "# 46강 - 기본 클래스 선언"
      ]
    },
    {
      "cell_type": "markdown",
      "metadata": {
        "id": "b1YWIpnOeHhm"
      },
      "source": [
        "## 스네이크 케이스와 캐멀 케이스"
      ]
    },
    {
      "cell_type": "markdown",
      "metadata": {
        "id": "mfSmn_ZceLGg"
      },
      "source": [
        "Snake Case\n",
        "* i_love_you\n",
        "* 기본적으로 사용"
      ]
    },
    {
      "cell_type": "markdown",
      "metadata": {
        "id": "nGJaDg4UeRdV"
      },
      "source": [
        "Camel Case\n",
        "* ILoveYou\n",
        "* 클래스 이름"
      ]
    },
    {
      "cell_type": "markdown",
      "metadata": {
        "id": "cIFnshKJeXdh"
      },
      "source": [
        "## 클래스 선언하고 인스턴스화 하기"
      ]
    },
    {
      "cell_type": "code",
      "metadata": {
        "id": "gLp79M5Zepkv"
      },
      "source": [
        "class Student :\n",
        "  pass"
      ],
      "execution_count": 1,
      "outputs": []
    },
    {
      "cell_type": "code",
      "metadata": {
        "id": "DF3Bls94esjN",
        "outputId": "b1464716-02c5-40cc-8825-0ad562d20c0b",
        "colab": {
          "base_uri": "https://localhost:8080/",
          "height": 35
        }
      },
      "source": [
        "Student()"
      ],
      "execution_count": 2,
      "outputs": [
        {
          "output_type": "execute_result",
          "data": {
            "text/plain": [
              "<__main__.Student at 0x7f49528030b8>"
            ]
          },
          "metadata": {
            "tags": []
          },
          "execution_count": 2
        }
      ]
    },
    {
      "cell_type": "markdown",
      "metadata": {
        "id": "463vl8GWeuav"
      },
      "source": [
        "* 클래스(틀) : 학생은 이름이라는 속성을 갖고 있어!\n",
        "* 객체(실체화 된 것) : 학생 이름은 \"정민호\"야!\n",
        "* 인스턴스 : 실체화 한 객체"
      ]
    },
    {
      "cell_type": "markdown",
      "metadata": {
        "id": "36gXA14bey7z"
      },
      "source": [
        "## 생성자"
      ]
    },
    {
      "cell_type": "code",
      "metadata": {
        "id": "fXeoBjXbe-AX"
      },
      "source": [
        "class Student :\n",
        "  def __init__(self) :\n",
        "    pass"
      ],
      "execution_count": 5,
      "outputs": []
    },
    {
      "cell_type": "code",
      "metadata": {
        "id": "eFc0n8yefCIF"
      },
      "source": [
        "class Student :\n",
        "  def __init__(본인) :\n",
        "    pass"
      ],
      "execution_count": 6,
      "outputs": []
    },
    {
      "cell_type": "markdown",
      "metadata": {
        "id": "MiaXFwUmfGHC"
      },
      "source": [
        "## 소멸자"
      ]
    },
    {
      "cell_type": "code",
      "metadata": {
        "id": "g3s6RiaefQYL",
        "outputId": "092ac23b-e72d-4eb9-ea81-b37e20ab8431",
        "colab": {
          "base_uri": "https://localhost:8080/",
          "height": 53
        }
      },
      "source": [
        "class Student :\n",
        "  def __init__(self) :\n",
        "    print(\"객체가 생성되었습니다.\")\n",
        "\n",
        "  def __del__(self) :\n",
        "    print(\"객체가 소멸되었습니다.\")\n",
        "\n",
        "student = Student()"
      ],
      "execution_count": 12,
      "outputs": [
        {
          "output_type": "stream",
          "text": [
            "객체가 생성되었습니다.\n",
            "객체가 소멸되었습니다.\n"
          ],
          "name": "stdout"
        }
      ]
    },
    {
      "cell_type": "code",
      "metadata": {
        "id": "rZj-PmfyfXDY",
        "outputId": "b875b30d-8091-4b81-c164-b57366c24fa6",
        "colab": {
          "base_uri": "https://localhost:8080/",
          "height": 53
        }
      },
      "source": [
        "student = Student()\n"
      ],
      "execution_count": 13,
      "outputs": [
        {
          "output_type": "stream",
          "text": [
            "객체가 생성되었습니다.\n",
            "객체가 소멸되었습니다.\n"
          ],
          "name": "stdout"
        }
      ]
    },
    {
      "cell_type": "markdown",
      "metadata": {
        "id": "CLwdDU_0flJV"
      },
      "source": [
        "## 클래스의 속성 선언하기\n"
      ]
    },
    {
      "cell_type": "code",
      "metadata": {
        "id": "kEces4g5fqLo",
        "outputId": "b16adf56-8916-4b44-cb3f-38babcd6cf9d",
        "colab": {
          "base_uri": "https://localhost:8080/",
          "height": 71
        }
      },
      "source": [
        "class Student :\n",
        "  def __init__(self, 이름, 나이) :\n",
        "    print(\"객체가 생성되었습니다.\")\n",
        "    self.이름 = 이름\n",
        "    self.나이 = 나이\n",
        "\n",
        "  def __del__(self) :\n",
        "    print(\"객체가 소멸되었습니다.\")\n",
        "\n",
        "student = Student(\"정민호\", \"20\")\n",
        "print(student.이름, student.나이)"
      ],
      "execution_count": 15,
      "outputs": [
        {
          "output_type": "stream",
          "text": [
            "객체가 생성되었습니다.\n",
            "객체가 소멸되었습니다.\n",
            "정민호 20\n"
          ],
          "name": "stdout"
        }
      ]
    },
    {
      "cell_type": "markdown",
      "metadata": {
        "id": "7Uh6U5EFfzX7"
      },
      "source": [
        "## 클래스의 함수 선언하기"
      ]
    },
    {
      "cell_type": "code",
      "metadata": {
        "id": "6XhFlFQnf7df",
        "outputId": "0396aa8b-117c-49f0-907e-c71f1c38a42e",
        "colab": {
          "base_uri": "https://localhost:8080/",
          "height": 71
        }
      },
      "source": [
        "class Student :\n",
        "  def __init__(self, 이름, 나이) :\n",
        "    print(\"객체가 생성되었습니다.\")\n",
        "    self.이름 = 이름\n",
        "    self.나이 = 나이\n",
        "\n",
        "  def __del__(self) :\n",
        "    print(\"객체가 소멸되었습니다.\")\n",
        "  \n",
        "  def 출력(self) :\n",
        "    print(self.이름, self.나이)\n",
        "\n",
        "student = Student(\"정민호\", 20)\n",
        "student.출력()"
      ],
      "execution_count": 21,
      "outputs": [
        {
          "output_type": "stream",
          "text": [
            "객체가 생성되었습니다.\n",
            "객체가 소멸되었습니다.\n",
            "정민호 20\n"
          ],
          "name": "stdout"
        }
      ]
    },
    {
      "cell_type": "code",
      "metadata": {
        "id": "_w-IKeiEgJ4X"
      },
      "source": [
        ""
      ],
      "execution_count": null,
      "outputs": []
    }
  ]
}