{
  "nbformat": 4,
  "nbformat_minor": 0,
  "metadata": {
    "colab": {
      "name": "38강 - 콜백함수와 람다, map()/filter() 함수.ipynb",
      "provenance": [],
      "authorship_tag": "ABX9TyMKzfD7LsqnZvBJ0p+eDorH",
      "include_colab_link": true
    },
    "kernelspec": {
      "name": "python3",
      "display_name": "Python 3"
    }
  },
  "cells": [
    {
      "cell_type": "markdown",
      "metadata": {
        "id": "view-in-github",
        "colab_type": "text"
      },
      "source": [
        "<a href=\"https://colab.research.google.com/github/anew0m/Book_Python-Basic/blob/main/study_code/38%EA%B0%95_%EC%BD%9C%EB%B0%B1%ED%95%A8%EC%88%98%EC%99%80_%EB%9E%8C%EB%8B%A4%2C_map()_filter()_%ED%95%A8%EC%88%98.ipynb\" target=\"_parent\"><img src=\"https://colab.research.google.com/assets/colab-badge.svg\" alt=\"Open In Colab\"/></a>"
      ]
    },
    {
      "cell_type": "markdown",
      "metadata": {
        "id": "T3VHlUymDKib"
      },
      "source": [
        "# 38강 - 콜백함수와 람다, map()/filter() 함수"
      ]
    },
    {
      "cell_type": "markdown",
      "metadata": {
        "id": "bhlvocmIDMQh"
      },
      "source": [
        "## 콜백함수"
      ]
    },
    {
      "cell_type": "code",
      "metadata": {
        "id": "xZkefjA1DNP-"
      },
      "source": [
        "def call_10_times(func) :\n",
        "  for i in range(10) :\n",
        "    func()\n",
        "\n",
        "\n",
        "def print_hello() :\n",
        "  print(\"Hello\")"
      ],
      "execution_count": 1,
      "outputs": []
    },
    {
      "cell_type": "code",
      "metadata": {
        "id": "OtwXuewpDZjw",
        "outputId": "c4bc469c-5ac2-415d-fc43-59a33c20573d",
        "colab": {
          "base_uri": "https://localhost:8080/",
          "height": 197
        }
      },
      "source": [
        "call_10_times(print_hello)"
      ],
      "execution_count": 2,
      "outputs": [
        {
          "output_type": "stream",
          "text": [
            "Hello\n",
            "Hello\n",
            "Hello\n",
            "Hello\n",
            "Hello\n",
            "Hello\n",
            "Hello\n",
            "Hello\n",
            "Hello\n",
            "Hello\n"
          ],
          "name": "stdout"
        }
      ]
    },
    {
      "cell_type": "markdown",
      "metadata": {
        "id": "1zj5VH8qDbz1"
      },
      "source": [
        "## 콜백함수의 매개변수"
      ]
    },
    {
      "cell_type": "code",
      "metadata": {
        "id": "FjsF-f2BDdqZ"
      },
      "source": [
        "def call_10_times(func) :\n",
        "  for i in range(10) :\n",
        "    func(i)\n",
        "\n",
        "\n",
        "def print_hello(number) :\n",
        "  print(\"Hello\", number)"
      ],
      "execution_count": 6,
      "outputs": []
    },
    {
      "cell_type": "code",
      "metadata": {
        "id": "HnECqhmnDiwy",
        "outputId": "a32c91a6-ae17-4593-e432-6f8f022e23ac",
        "colab": {
          "base_uri": "https://localhost:8080/",
          "height": 197
        }
      },
      "source": [
        "call_10_times(print_hello)"
      ],
      "execution_count": 7,
      "outputs": [
        {
          "output_type": "stream",
          "text": [
            "Hello 0\n",
            "Hello 1\n",
            "Hello 2\n",
            "Hello 3\n",
            "Hello 4\n",
            "Hello 5\n",
            "Hello 6\n",
            "Hello 7\n",
            "Hello 8\n",
            "Hello 9\n"
          ],
          "name": "stdout"
        }
      ]
    },
    {
      "cell_type": "markdown",
      "metadata": {
        "id": "TrouQs4FDmDh"
      },
      "source": [
        "* 다른 함수에서 호출되는 함수를 콜백 함수라고 부름"
      ]
    },
    {
      "cell_type": "markdown",
      "metadata": {
        "id": "neboC8ExDt9z"
      },
      "source": [
        "## 람다"
      ]
    },
    {
      "cell_type": "markdown",
      "metadata": {
        "id": "yvyVI1ELDvR0"
      },
      "source": [
        "* 짧은 형식으로 함수를 제공"
      ]
    },
    {
      "cell_type": "markdown",
      "metadata": {
        "id": "DO9unXRMDzKA"
      },
      "source": [
        "'lambda' 명칭 사용"
      ]
    },
    {
      "cell_type": "code",
      "metadata": {
        "id": "6mcRqd0NEeDm",
        "outputId": "6dc58935-e75c-4032-ce65-061a869e83af",
        "colab": {
          "base_uri": "https://localhost:8080/",
          "height": 197
        }
      },
      "source": [
        "def call_10_times(func) :\n",
        "  for i in range(10) :\n",
        "    func(i)\n",
        "\n",
        "call_10_times(lambda number: print(\"Hello\", number))"
      ],
      "execution_count": 8,
      "outputs": [
        {
          "output_type": "stream",
          "text": [
            "Hello 0\n",
            "Hello 1\n",
            "Hello 2\n",
            "Hello 3\n",
            "Hello 4\n",
            "Hello 5\n",
            "Hello 6\n",
            "Hello 7\n",
            "Hello 8\n",
            "Hello 9\n"
          ],
          "name": "stdout"
        }
      ]
    },
    {
      "cell_type": "code",
      "metadata": {
        "id": "VrEDUDvVEomR",
        "outputId": "0cdc9a94-74ef-45e1-cfd2-ae5ddbfff653",
        "colab": {
          "base_uri": "https://localhost:8080/",
          "height": 136
        }
      },
      "source": [
        "call_10_times(lambda number: return print(\"Hello\", number))"
      ],
      "execution_count": 9,
      "outputs": [
        {
          "output_type": "error",
          "ename": "SyntaxError",
          "evalue": "ignored",
          "traceback": [
            "\u001b[0;36m  File \u001b[0;32m\"<ipython-input-9-a5c70d190ae3>\"\u001b[0;36m, line \u001b[0;32m1\u001b[0m\n\u001b[0;31m    call_10_times(lambda number: return print(\"Hello\", number))\u001b[0m\n\u001b[0m                                      ^\u001b[0m\n\u001b[0;31mSyntaxError\u001b[0m\u001b[0;31m:\u001b[0m invalid syntax\n"
          ]
        }
      ]
    },
    {
      "cell_type": "markdown",
      "metadata": {
        "id": "htK80cJnE7B1"
      },
      "source": [
        "* return 키워드 생략"
      ]
    },
    {
      "cell_type": "markdown",
      "metadata": {
        "id": "fcHBSP2lEvne"
      },
      "source": [
        "## filter() 함수와 map() 함수"
      ]
    },
    {
      "cell_type": "markdown",
      "metadata": {
        "id": "Vu-eThqOE4-3"
      },
      "source": [
        "### filter() 함수"
      ]
    },
    {
      "cell_type": "code",
      "metadata": {
        "id": "eH6M9f1YFIch"
      },
      "source": [
        "def 짝수만(number) :\n",
        "  return number % 2 == 0"
      ],
      "execution_count": 10,
      "outputs": []
    },
    {
      "cell_type": "code",
      "metadata": {
        "id": "MQOvUwzlFLVS",
        "outputId": "f24f4db6-fdb6-4bc5-ef4a-9b69025a2f4b",
        "colab": {
          "base_uri": "https://localhost:8080/",
          "height": 55
        }
      },
      "source": [
        "a = list(range(100))\n",
        "print(a)"
      ],
      "execution_count": 11,
      "outputs": [
        {
          "output_type": "stream",
          "text": [
            "[0, 1, 2, 3, 4, 5, 6, 7, 8, 9, 10, 11, 12, 13, 14, 15, 16, 17, 18, 19, 20, 21, 22, 23, 24, 25, 26, 27, 28, 29, 30, 31, 32, 33, 34, 35, 36, 37, 38, 39, 40, 41, 42, 43, 44, 45, 46, 47, 48, 49, 50, 51, 52, 53, 54, 55, 56, 57, 58, 59, 60, 61, 62, 63, 64, 65, 66, 67, 68, 69, 70, 71, 72, 73, 74, 75, 76, 77, 78, 79, 80, 81, 82, 83, 84, 85, 86, 87, 88, 89, 90, 91, 92, 93, 94, 95, 96, 97, 98, 99]\n"
          ],
          "name": "stdout"
        }
      ]
    },
    {
      "cell_type": "code",
      "metadata": {
        "id": "J-QRgBceFOkK"
      },
      "source": [
        "b = filter(짝수만, a)"
      ],
      "execution_count": 12,
      "outputs": []
    },
    {
      "cell_type": "code",
      "metadata": {
        "id": "8US1BUEHFSbP",
        "outputId": "648a122d-6b8a-4059-aeb3-d0136357102e",
        "colab": {
          "base_uri": "https://localhost:8080/",
          "height": 35
        }
      },
      "source": [
        "print(b)"
      ],
      "execution_count": 13,
      "outputs": [
        {
          "output_type": "stream",
          "text": [
            "<filter object at 0x7fdd3b237438>\n"
          ],
          "name": "stdout"
        }
      ]
    },
    {
      "cell_type": "code",
      "metadata": {
        "id": "_9fPFGMQFTTf",
        "outputId": "381ba559-2b20-407f-f7c0-e80e2c3fcc11",
        "colab": {
          "base_uri": "https://localhost:8080/",
          "height": 917
        }
      },
      "source": [
        "for i in b : \n",
        "  print(i)"
      ],
      "execution_count": 14,
      "outputs": [
        {
          "output_type": "stream",
          "text": [
            "0\n",
            "2\n",
            "4\n",
            "6\n",
            "8\n",
            "10\n",
            "12\n",
            "14\n",
            "16\n",
            "18\n",
            "20\n",
            "22\n",
            "24\n",
            "26\n",
            "28\n",
            "30\n",
            "32\n",
            "34\n",
            "36\n",
            "38\n",
            "40\n",
            "42\n",
            "44\n",
            "46\n",
            "48\n",
            "50\n",
            "52\n",
            "54\n",
            "56\n",
            "58\n",
            "60\n",
            "62\n",
            "64\n",
            "66\n",
            "68\n",
            "70\n",
            "72\n",
            "74\n",
            "76\n",
            "78\n",
            "80\n",
            "82\n",
            "84\n",
            "86\n",
            "88\n",
            "90\n",
            "92\n",
            "94\n",
            "96\n",
            "98\n"
          ],
          "name": "stdout"
        }
      ]
    },
    {
      "cell_type": "code",
      "metadata": {
        "id": "Yv-QJv53FWzV",
        "outputId": "5fc2a15d-6420-4fec-9c9c-19ef999a2da1",
        "colab": {
          "base_uri": "https://localhost:8080/",
          "height": 35
        }
      },
      "source": [
        "print(list(b))"
      ],
      "execution_count": 15,
      "outputs": [
        {
          "output_type": "stream",
          "text": [
            "[]\n"
          ],
          "name": "stdout"
        }
      ]
    },
    {
      "cell_type": "code",
      "metadata": {
        "id": "KULYHK-3FZsG",
        "outputId": "f6a36898-fff3-47c1-d8e0-40233553df37",
        "colab": {
          "base_uri": "https://localhost:8080/",
          "height": 73
        }
      },
      "source": [
        "b = filter(짝수만, a)\n",
        "print(list(b))\n",
        "print(list(b))"
      ],
      "execution_count": 17,
      "outputs": [
        {
          "output_type": "stream",
          "text": [
            "[0, 2, 4, 6, 8, 10, 12, 14, 16, 18, 20, 22, 24, 26, 28, 30, 32, 34, 36, 38, 40, 42, 44, 46, 48, 50, 52, 54, 56, 58, 60, 62, 64, 66, 68, 70, 72, 74, 76, 78, 80, 82, 84, 86, 88, 90, 92, 94, 96, 98]\n",
            "[]\n"
          ],
          "name": "stdout"
        }
      ]
    },
    {
      "cell_type": "code",
      "metadata": {
        "id": "UxJZ0h03FdZa",
        "outputId": "ccf8d168-b56a-4e36-eccc-8435bfb552cd",
        "colab": {
          "base_uri": "https://localhost:8080/",
          "height": 55
        }
      },
      "source": [
        "a = list(range(100))\n",
        "b = filter(lambda number: number % 2 == 0, a)\n",
        "print(list(b))"
      ],
      "execution_count": 19,
      "outputs": [
        {
          "output_type": "stream",
          "text": [
            "[0, 2, 4, 6, 8, 10, 12, 14, 16, 18, 20, 22, 24, 26, 28, 30, 32, 34, 36, 38, 40, 42, 44, 46, 48, 50, 52, 54, 56, 58, 60, 62, 64, 66, 68, 70, 72, 74, 76, 78, 80, 82, 84, 86, 88, 90, 92, 94, 96, 98]\n"
          ],
          "name": "stdout"
        }
      ]
    },
    {
      "cell_type": "code",
      "metadata": {
        "id": "mbwIBjicFmSi",
        "outputId": "b20d6a4b-c872-4724-d3dc-8578b8798c2d",
        "colab": {
          "base_uri": "https://localhost:8080/",
          "height": 55
        }
      },
      "source": [
        "짝수만 = lambda number: number % 2 == 0\n",
        "\n",
        "a = list(range(100))\n",
        "b = filter(짝수만, a)\n",
        "print(list(b))"
      ],
      "execution_count": 21,
      "outputs": [
        {
          "output_type": "stream",
          "text": [
            "[0, 2, 4, 6, 8, 10, 12, 14, 16, 18, 20, 22, 24, 26, 28, 30, 32, 34, 36, 38, 40, 42, 44, 46, 48, 50, 52, 54, 56, 58, 60, 62, 64, 66, 68, 70, 72, 74, 76, 78, 80, 82, 84, 86, 88, 90, 92, 94, 96, 98]\n"
          ],
          "name": "stdout"
        }
      ]
    },
    {
      "cell_type": "markdown",
      "metadata": {
        "id": "cCylnHR4Fv5Z"
      },
      "source": [
        "### map() 함수"
      ]
    },
    {
      "cell_type": "markdown",
      "metadata": {
        "id": "sYEX9EQBFx0c"
      },
      "source": [
        "* 리스트를 기반으로 새로운 리스트를 만들어주는 함수"
      ]
    },
    {
      "cell_type": "code",
      "metadata": {
        "id": "NCmUp8-BF1A7",
        "outputId": "5b4f9fa5-6a5d-4336-d1a9-e7a13df034e5",
        "colab": {
          "base_uri": "https://localhost:8080/",
          "height": 55
        }
      },
      "source": [
        "def 제곱(number) :\n",
        "  return number * number\n",
        "\n",
        "a = list(range(100))\n",
        "print(list(map(제곱, a)))"
      ],
      "execution_count": 24,
      "outputs": [
        {
          "output_type": "stream",
          "text": [
            "[0, 1, 4, 9, 16, 25, 36, 49, 64, 81, 100, 121, 144, 169, 196, 225, 256, 289, 324, 361, 400, 441, 484, 529, 576, 625, 676, 729, 784, 841, 900, 961, 1024, 1089, 1156, 1225, 1296, 1369, 1444, 1521, 1600, 1681, 1764, 1849, 1936, 2025, 2116, 2209, 2304, 2401, 2500, 2601, 2704, 2809, 2916, 3025, 3136, 3249, 3364, 3481, 3600, 3721, 3844, 3969, 4096, 4225, 4356, 4489, 4624, 4761, 4900, 5041, 5184, 5329, 5476, 5625, 5776, 5929, 6084, 6241, 6400, 6561, 6724, 6889, 7056, 7225, 7396, 7569, 7744, 7921, 8100, 8281, 8464, 8649, 8836, 9025, 9216, 9409, 9604, 9801]\n"
          ],
          "name": "stdout"
        }
      ]
    },
    {
      "cell_type": "code",
      "metadata": {
        "id": "UNIYG5PUF7gP",
        "outputId": "4ed4b240-052e-48de-a193-4b0b84f5c980",
        "colab": {
          "base_uri": "https://localhost:8080/",
          "height": 55
        }
      },
      "source": [
        "a = list(range(100))\n",
        "print(list(map(lambda number: number * number, a)))"
      ],
      "execution_count": 25,
      "outputs": [
        {
          "output_type": "stream",
          "text": [
            "[0, 1, 4, 9, 16, 25, 36, 49, 64, 81, 100, 121, 144, 169, 196, 225, 256, 289, 324, 361, 400, 441, 484, 529, 576, 625, 676, 729, 784, 841, 900, 961, 1024, 1089, 1156, 1225, 1296, 1369, 1444, 1521, 1600, 1681, 1764, 1849, 1936, 2025, 2116, 2209, 2304, 2401, 2500, 2601, 2704, 2809, 2916, 3025, 3136, 3249, 3364, 3481, 3600, 3721, 3844, 3969, 4096, 4225, 4356, 4489, 4624, 4761, 4900, 5041, 5184, 5329, 5476, 5625, 5776, 5929, 6084, 6241, 6400, 6561, 6724, 6889, 7056, 7225, 7396, 7569, 7744, 7921, 8100, 8281, 8464, 8649, 8836, 9025, 9216, 9409, 9604, 9801]\n"
          ],
          "name": "stdout"
        }
      ]
    },
    {
      "cell_type": "markdown",
      "metadata": {
        "id": "9UAhMOB9GKfz"
      },
      "source": [
        "## 리스트 내포와 비교하기"
      ]
    },
    {
      "cell_type": "code",
      "metadata": {
        "id": "rNpT_0W5GbLk",
        "outputId": "1b65e997-bf81-4822-c1fe-34c894566f54",
        "colab": {
          "base_uri": "https://localhost:8080/",
          "height": 55
        }
      },
      "source": [
        "print([i * i for i in a])"
      ],
      "execution_count": 26,
      "outputs": [
        {
          "output_type": "stream",
          "text": [
            "[0, 1, 4, 9, 16, 25, 36, 49, 64, 81, 100, 121, 144, 169, 196, 225, 256, 289, 324, 361, 400, 441, 484, 529, 576, 625, 676, 729, 784, 841, 900, 961, 1024, 1089, 1156, 1225, 1296, 1369, 1444, 1521, 1600, 1681, 1764, 1849, 1936, 2025, 2116, 2209, 2304, 2401, 2500, 2601, 2704, 2809, 2916, 3025, 3136, 3249, 3364, 3481, 3600, 3721, 3844, 3969, 4096, 4225, 4356, 4489, 4624, 4761, 4900, 5041, 5184, 5329, 5476, 5625, 5776, 5929, 6084, 6241, 6400, 6561, 6724, 6889, 7056, 7225, 7396, 7569, 7744, 7921, 8100, 8281, 8464, 8649, 8836, 9025, 9216, 9409, 9604, 9801]\n"
          ],
          "name": "stdout"
        }
      ]
    },
    {
      "cell_type": "markdown",
      "metadata": {
        "id": "-4pkKGtFGgZl"
      },
      "source": [
        "* 리스트 내포를 사용하는 경우 결과로 리스트가 나옴\n",
        "* 즉 그만큼의 리스트가 하나 더 복제되어 메모리를 차지함"
      ]
    },
    {
      "cell_type": "markdown",
      "metadata": {
        "id": "JKyHCaOVGwD7"
      },
      "source": [
        "* map(), filter() 함수 등은 제너레이터 함수라서 내부의 데이터가 실제로 메모리에 용량을 차지하지 않음\n",
        "* 호출이 되기전까지 가상의 값을 가짐"
      ]
    },
    {
      "cell_type": "code",
      "metadata": {
        "id": "Nd0neEmEHDPf"
      },
      "source": [
        ""
      ],
      "execution_count": null,
      "outputs": []
    }
  ]
}