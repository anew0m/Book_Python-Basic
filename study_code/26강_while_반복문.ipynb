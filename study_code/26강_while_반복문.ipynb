{
  "nbformat": 4,
  "nbformat_minor": 0,
  "metadata": {
    "colab": {
      "name": "26강 - while 반복문.ipynb",
      "provenance": [],
      "authorship_tag": "ABX9TyMkGgtIEgCDJIhuBQYTP7V6",
      "include_colab_link": true
    },
    "kernelspec": {
      "name": "python3",
      "display_name": "Python 3"
    }
  },
  "cells": [
    {
      "cell_type": "markdown",
      "metadata": {
        "id": "view-in-github",
        "colab_type": "text"
      },
      "source": [
        "<a href=\"https://colab.research.google.com/github/anew0m/Book_Python-Basic/blob/main/study_code/26%EA%B0%95_while_%EB%B0%98%EB%B3%B5%EB%AC%B8.ipynb\" target=\"_parent\"><img src=\"https://colab.research.google.com/assets/colab-badge.svg\" alt=\"Open In Colab\"/></a>"
      ]
    },
    {
      "cell_type": "markdown",
      "metadata": {
        "id": "g0B9wCGIJJE6"
      },
      "source": [
        "# 26강 - while 반복문"
      ]
    },
    {
      "cell_type": "markdown",
      "metadata": {
        "id": "O6KO65ehJMJo"
      },
      "source": [
        "## while 반복문의 형태"
      ]
    },
    {
      "cell_type": "markdown",
      "metadata": {
        "id": "1DDj-yqeJOGs"
      },
      "source": [
        "while 조건문 :\n",
        " 로직\n",
        "\n",
        "if 조건문 :\n",
        " 로직"
      ]
    },
    {
      "cell_type": "markdown",
      "metadata": {
        "id": "ahSkNf6rJZqh"
      },
      "source": [
        "## while 반복문 기본"
      ]
    },
    {
      "cell_type": "code",
      "metadata": {
        "id": "Ch9KEYDKJ2mP",
        "outputId": "cbd6a8d3-d250-4dba-bd84-a68ed7c12072",
        "colab": {
          "base_uri": "https://localhost:8080/",
          "height": 35
        }
      },
      "source": [
        "i = 0\n",
        "\n",
        "while i < 10 :\n",
        "  print(i, end = \" \")\n",
        "  i += 1"
      ],
      "execution_count": 3,
      "outputs": [
        {
          "output_type": "stream",
          "text": [
            "0 1 2 3 4 5 6 7 8 9 "
          ],
          "name": "stdout"
        }
      ]
    },
    {
      "cell_type": "code",
      "metadata": {
        "id": "LBK7oqZgJ8Ci",
        "outputId": "7aae3828-9b37-4a85-82f8-168e9b1ebb97",
        "colab": {
          "base_uri": "https://localhost:8080/",
          "height": 199
        }
      },
      "source": [
        "i = 0\n",
        "\n",
        "while i < 10 :\n",
        "  print(i)\n",
        "  i += 1"
      ],
      "execution_count": 4,
      "outputs": [
        {
          "output_type": "stream",
          "text": [
            "0\n",
            "1\n",
            "2\n",
            "3\n",
            "4\n",
            "5\n",
            "6\n",
            "7\n",
            "8\n",
            "9\n"
          ],
          "name": "stdout"
        }
      ]
    },
    {
      "cell_type": "markdown",
      "metadata": {
        "id": "onm0kDKaKBcC"
      },
      "source": [
        "## while 반복문 예(1) : 리스트 내부의 특정값 제거하기"
      ]
    },
    {
      "cell_type": "code",
      "metadata": {
        "id": "0oP_DR4aKWfZ",
        "outputId": "4a1f97b6-3c06-4237-c846-7dbf8ad68c19",
        "colab": {
          "base_uri": "https://localhost:8080/",
          "height": 35
        }
      },
      "source": [
        "numbers = [1, 2, 1, 2, 1, 2, 1, 2]\n",
        "numbers.remove(1)\n",
        "\n",
        "print(numbers)"
      ],
      "execution_count": 8,
      "outputs": [
        {
          "output_type": "stream",
          "text": [
            "[2, 1, 2, 1, 2, 1, 2]\n"
          ],
          "name": "stdout"
        }
      ]
    },
    {
      "cell_type": "code",
      "metadata": {
        "id": "dGB47qzOKJb8",
        "outputId": "dce2900e-49cb-4093-afda-bcd86bf0dc63",
        "colab": {
          "base_uri": "https://localhost:8080/",
          "height": 35
        }
      },
      "source": [
        "numbers = [1, 2, 1, 2, 1, 2, 1, 2]\n",
        "\n",
        "while 1 in numbers:\n",
        "  numbers.remove(1)\n",
        "\n",
        "print(numbers)"
      ],
      "execution_count": 9,
      "outputs": [
        {
          "output_type": "stream",
          "text": [
            "[2, 2, 2, 2]\n"
          ],
          "name": "stdout"
        }
      ]
    },
    {
      "cell_type": "markdown",
      "metadata": {
        "id": "U5EQVGq9KVYP"
      },
      "source": [
        "## while 반복문 예(2) : 시간을 기반으로 조건 걸기"
      ]
    },
    {
      "cell_type": "code",
      "metadata": {
        "id": "M4tTCmjqKezv",
        "outputId": "7217a749-fb64-4980-b6e5-75cfdae0b976",
        "colab": {
          "base_uri": "https://localhost:8080/",
          "height": 35
        }
      },
      "source": [
        "import time\n",
        "\n",
        "print(time.time())"
      ],
      "execution_count": 10,
      "outputs": [
        {
          "output_type": "stream",
          "text": [
            "1601656461.7285454\n"
          ],
          "name": "stdout"
        }
      ]
    },
    {
      "cell_type": "code",
      "metadata": {
        "id": "V0Ll2sLwKjDp",
        "outputId": "46bed9c0-8656-498a-f60d-ca1fe4de3c76",
        "colab": {
          "base_uri": "https://localhost:8080/",
          "height": 54
        }
      },
      "source": [
        " import time\n",
        "\n",
        "처음 = time.time()\n",
        "print(time.time())\n",
        "\n",
        "while 처음 + 5 > time.time() :\n",
        "  pass\n",
        "\n",
        "print(time.time())"
      ],
      "execution_count": 11,
      "outputs": [
        {
          "output_type": "stream",
          "text": [
            "1601656528.7851708\n",
            "1601656533.7853117\n"
          ],
          "name": "stdout"
        }
      ]
    },
    {
      "cell_type": "code",
      "metadata": {
        "id": "A56zDkaMKzbi"
      },
      "source": [
        ""
      ],
      "execution_count": null,
      "outputs": []
    }
  ]
}