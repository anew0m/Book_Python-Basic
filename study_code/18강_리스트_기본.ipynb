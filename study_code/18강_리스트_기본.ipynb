{
  "nbformat": 4,
  "nbformat_minor": 0,
  "metadata": {
    "colab": {
      "name": "18강 - 리스트 기본.ipynb",
      "provenance": [],
      "authorship_tag": "ABX9TyPL+4r0HfMhP0DJLNtrqXz7",
      "include_colab_link": true
    },
    "kernelspec": {
      "name": "python3",
      "display_name": "Python 3"
    }
  },
  "cells": [
    {
      "cell_type": "markdown",
      "metadata": {
        "id": "view-in-github",
        "colab_type": "text"
      },
      "source": [
        "<a href=\"https://colab.research.google.com/github/anew0m/Book_Python-Basic/blob/main/study_code/18%EA%B0%95_%EB%A6%AC%EC%8A%A4%ED%8A%B8_%EA%B8%B0%EB%B3%B8.ipynb\" target=\"_parent\"><img src=\"https://colab.research.google.com/assets/colab-badge.svg\" alt=\"Open In Colab\"/></a>"
      ]
    },
    {
      "cell_type": "markdown",
      "metadata": {
        "id": "UQp-QPv2aTtk"
      },
      "source": [
        "# 18강 - 리스트 기본"
      ]
    },
    {
      "cell_type": "markdown",
      "metadata": {
        "id": "pH-fAQa7aedW"
      },
      "source": [
        "1. 리스트 개요\n",
        "2. 리스트 만들기\n",
        "3. 리스트에 적용하는 연산자"
      ]
    },
    {
      "cell_type": "markdown",
      "metadata": {
        "id": "JrPamM61azp5"
      },
      "source": [
        "## 리스트 개요\n",
        "* 리스트(list) = 목록"
      ]
    },
    {
      "cell_type": "markdown",
      "metadata": {
        "id": "tXdj4ge9a7CA"
      },
      "source": [
        "순서 있는 목록\n",
        "0. 포도\n",
        "1. 수박\n",
        "2. 바나나\n",
        "3. 키위"
      ]
    },
    {
      "cell_type": "markdown",
      "metadata": {
        "id": "CD_wDHLYa_Td"
      },
      "source": [
        "## 리스트 만들기"
      ]
    },
    {
      "cell_type": "code",
      "metadata": {
        "id": "B27fZCTGbBg1",
        "outputId": "da5895b9-e778-45d4-b796-0dcd4ad771c3",
        "colab": {
          "base_uri": "https://localhost:8080/",
          "height": 35
        }
      },
      "source": [
        "['포도', '수박', '바나나']"
      ],
      "execution_count": 1,
      "outputs": [
        {
          "output_type": "execute_result",
          "data": {
            "text/plain": [
              "['포도', '수박', '바나나']"
            ]
          },
          "metadata": {
            "tags": []
          },
          "execution_count": 1
        }
      ]
    },
    {
      "cell_type": "markdown",
      "metadata": {
        "id": "RwjHqhhLbHnQ"
      },
      "source": [
        "리스트의 하나의 값은 요소(element) 라고 함"
      ]
    },
    {
      "cell_type": "code",
      "metadata": {
        "id": "iD6Aequ9bM-g",
        "outputId": "c4714e3d-b699-446e-fa5f-e55aca6f99aa",
        "colab": {
          "base_uri": "https://localhost:8080/",
          "height": 35
        }
      },
      "source": [
        "['포도', '수박', '바나나', 1, 2, True]"
      ],
      "execution_count": 2,
      "outputs": [
        {
          "output_type": "execute_result",
          "data": {
            "text/plain": [
              "['포도', '수박', '바나나', 1, 2, True]"
            ]
          },
          "metadata": {
            "tags": []
          },
          "execution_count": 2
        }
      ]
    },
    {
      "cell_type": "markdown",
      "metadata": {
        "id": "hZRBo0tfbPaV"
      },
      "source": [
        "## 리스트 요소 선택 연산자 : []"
      ]
    },
    {
      "cell_type": "code",
      "metadata": {
        "id": "mvXOhrWQbRhF"
      },
      "source": [
        "a = ['포도', '수박', '바나나', 1, 2, True]"
      ],
      "execution_count": 3,
      "outputs": []
    },
    {
      "cell_type": "code",
      "metadata": {
        "id": "QvReJ3QjbVD2",
        "outputId": "a67dd9bc-30f5-47b6-9826-b3220cced9c4",
        "colab": {
          "base_uri": "https://localhost:8080/",
          "height": 35
        }
      },
      "source": [
        "a[0]"
      ],
      "execution_count": 4,
      "outputs": [
        {
          "output_type": "execute_result",
          "data": {
            "application/vnd.google.colaboratory.intrinsic+json": {
              "type": "string"
            },
            "text/plain": [
              "'포도'"
            ]
          },
          "metadata": {
            "tags": []
          },
          "execution_count": 4
        }
      ]
    },
    {
      "cell_type": "code",
      "metadata": {
        "id": "B7q42fTwbWO2",
        "outputId": "1a6b5a29-2dd6-43ba-8c78-f4d4575779a7",
        "colab": {
          "base_uri": "https://localhost:8080/",
          "height": 35
        }
      },
      "source": [
        "a[3]"
      ],
      "execution_count": 5,
      "outputs": [
        {
          "output_type": "execute_result",
          "data": {
            "text/plain": [
              "1"
            ]
          },
          "metadata": {
            "tags": []
          },
          "execution_count": 5
        }
      ]
    },
    {
      "cell_type": "code",
      "metadata": {
        "id": "qmrHSXoAbWy_",
        "outputId": "35fb6b2c-2e58-4c1c-a28f-5100ad70d8a3",
        "colab": {
          "base_uri": "https://localhost:8080/",
          "height": 35
        }
      },
      "source": [
        "a[4:]"
      ],
      "execution_count": 6,
      "outputs": [
        {
          "output_type": "execute_result",
          "data": {
            "text/plain": [
              "[2, True]"
            ]
          },
          "metadata": {
            "tags": []
          },
          "execution_count": 6
        }
      ]
    },
    {
      "cell_type": "code",
      "metadata": {
        "id": "xWdRoyx2bYTd",
        "outputId": "47ffeb38-7bac-4548-ab9e-deb3d2c6726b",
        "colab": {
          "base_uri": "https://localhost:8080/",
          "height": 35
        }
      },
      "source": [
        "a[:3]"
      ],
      "execution_count": 7,
      "outputs": [
        {
          "output_type": "execute_result",
          "data": {
            "text/plain": [
              "['포도', '수박', '바나나']"
            ]
          },
          "metadata": {
            "tags": []
          },
          "execution_count": 7
        }
      ]
    },
    {
      "cell_type": "code",
      "metadata": {
        "id": "KCw-KBfBbZme",
        "outputId": "6701db18-5d8e-4306-d7dc-3bc6a4f83231",
        "colab": {
          "base_uri": "https://localhost:8080/",
          "height": 35
        }
      },
      "source": [
        "[[1, 2, 3], [4, 5, 6], [7, 8, 9]]"
      ],
      "execution_count": 8,
      "outputs": [
        {
          "output_type": "execute_result",
          "data": {
            "text/plain": [
              "[[1, 2, 3], [4, 5, 6], [7, 8, 9]]"
            ]
          },
          "metadata": {
            "tags": []
          },
          "execution_count": 8
        }
      ]
    },
    {
      "cell_type": "code",
      "metadata": {
        "id": "Jgi50XhWbefx"
      },
      "source": [
        "a = [[1, 2, 3], [4, 5, 6], [7, 8, 9]]"
      ],
      "execution_count": 9,
      "outputs": []
    },
    {
      "cell_type": "code",
      "metadata": {
        "id": "63gDaxqMbf79",
        "outputId": "a56dfa8c-9dca-4b95-dccb-5678f3d351a0",
        "colab": {
          "base_uri": "https://localhost:8080/",
          "height": 35
        }
      },
      "source": [
        "a[0]"
      ],
      "execution_count": 10,
      "outputs": [
        {
          "output_type": "execute_result",
          "data": {
            "text/plain": [
              "[1, 2, 3]"
            ]
          },
          "metadata": {
            "tags": []
          },
          "execution_count": 10
        }
      ]
    },
    {
      "cell_type": "code",
      "metadata": {
        "id": "2lh-qRh_bg_v",
        "outputId": "daf249da-c57c-4188-93bb-cb5bbc7b090d",
        "colab": {
          "base_uri": "https://localhost:8080/",
          "height": 35
        }
      },
      "source": [
        "a[0][1]"
      ],
      "execution_count": 11,
      "outputs": [
        {
          "output_type": "execute_result",
          "data": {
            "text/plain": [
              "2"
            ]
          },
          "metadata": {
            "tags": []
          },
          "execution_count": 11
        }
      ]
    },
    {
      "cell_type": "code",
      "metadata": {
        "id": "UYfozo6DbiyA"
      },
      "source": [
        "a = [\"문자열\"]"
      ],
      "execution_count": 12,
      "outputs": []
    },
    {
      "cell_type": "code",
      "metadata": {
        "id": "97yS4uU3bl69",
        "outputId": "32bce103-e0bc-4575-c0b8-202791adb452",
        "colab": {
          "base_uri": "https://localhost:8080/",
          "height": 35
        }
      },
      "source": [
        "a[0]"
      ],
      "execution_count": 13,
      "outputs": [
        {
          "output_type": "execute_result",
          "data": {
            "application/vnd.google.colaboratory.intrinsic+json": {
              "type": "string"
            },
            "text/plain": [
              "'문자열'"
            ]
          },
          "metadata": {
            "tags": []
          },
          "execution_count": 13
        }
      ]
    },
    {
      "cell_type": "code",
      "metadata": {
        "id": "mK3hYXfobmlj",
        "outputId": "d813e3c3-bc31-42b6-f407-fe26d0b0be69",
        "colab": {
          "base_uri": "https://localhost:8080/",
          "height": 35
        }
      },
      "source": [
        "a[0][1]"
      ],
      "execution_count": 14,
      "outputs": [
        {
          "output_type": "execute_result",
          "data": {
            "application/vnd.google.colaboratory.intrinsic+json": {
              "type": "string"
            },
            "text/plain": [
              "'자'"
            ]
          },
          "metadata": {
            "tags": []
          },
          "execution_count": 14
        }
      ]
    },
    {
      "cell_type": "markdown",
      "metadata": {
        "id": "ZKsiHlAYboU4"
      },
      "source": [
        "## 리스트를 사용할 때 발생하는 오류 : IndexError"
      ]
    },
    {
      "cell_type": "code",
      "metadata": {
        "id": "HGgOIl9JbxwQ",
        "outputId": "72877d92-3a85-4ed1-b942-44f00af47b79",
        "colab": {
          "base_uri": "https://localhost:8080/",
          "height": 173
        }
      },
      "source": [
        "a[100]"
      ],
      "execution_count": 15,
      "outputs": [
        {
          "output_type": "error",
          "ename": "IndexError",
          "evalue": "ignored",
          "traceback": [
            "\u001b[0;31m---------------------------------------------------------------------------\u001b[0m",
            "\u001b[0;31mIndexError\u001b[0m                                Traceback (most recent call last)",
            "\u001b[0;32m<ipython-input-15-cd7724b6c85f>\u001b[0m in \u001b[0;36m<module>\u001b[0;34m()\u001b[0m\n\u001b[0;32m----> 1\u001b[0;31m \u001b[0ma\u001b[0m\u001b[0;34m[\u001b[0m\u001b[0;36m100\u001b[0m\u001b[0;34m]\u001b[0m\u001b[0;34m\u001b[0m\u001b[0;34m\u001b[0m\u001b[0m\n\u001b[0m",
            "\u001b[0;31mIndexError\u001b[0m: list index out of range"
          ]
        }
      ]
    },
    {
      "cell_type": "code",
      "metadata": {
        "id": "TuxKCWQgb1u6",
        "outputId": "185b1f20-6308-419e-86b0-9930d6af3cff",
        "colab": {
          "base_uri": "https://localhost:8080/",
          "height": 35
        }
      },
      "source": [
        "a[0:100]"
      ],
      "execution_count": 16,
      "outputs": [
        {
          "output_type": "execute_result",
          "data": {
            "text/plain": [
              "['문자열']"
            ]
          },
          "metadata": {
            "tags": []
          },
          "execution_count": 16
        }
      ]
    },
    {
      "cell_type": "markdown",
      "metadata": {
        "id": "DoBMnAFKb3JV"
      },
      "source": [
        "## 리스트에 사용할 수 있는 연산자 : +, *"
      ]
    },
    {
      "cell_type": "code",
      "metadata": {
        "id": "Xsuq02qDb7Dw"
      },
      "source": [
        "a = [1, 2, 3] + [4, 5, 6]"
      ],
      "execution_count": 18,
      "outputs": []
    },
    {
      "cell_type": "code",
      "metadata": {
        "id": "iHgfgb3kb_ew",
        "outputId": "b133b56d-19b9-4398-fc44-a40b6d35729b",
        "colab": {
          "base_uri": "https://localhost:8080/",
          "height": 35
        }
      },
      "source": [
        "a"
      ],
      "execution_count": 19,
      "outputs": [
        {
          "output_type": "execute_result",
          "data": {
            "text/plain": [
              "[1, 2, 3, 4, 5, 6]"
            ]
          },
          "metadata": {
            "tags": []
          },
          "execution_count": 19
        }
      ]
    },
    {
      "cell_type": "code",
      "metadata": {
        "id": "42INsae_b_-A",
        "outputId": "0fc79440-f772-4334-9275-1d5656b59d4e",
        "colab": {
          "base_uri": "https://localhost:8080/",
          "height": 35
        }
      },
      "source": [
        "a = [1, 2, 3] * 3\n",
        "a"
      ],
      "execution_count": 20,
      "outputs": [
        {
          "output_type": "execute_result",
          "data": {
            "text/plain": [
              "[1, 2, 3, 1, 2, 3, 1, 2, 3]"
            ]
          },
          "metadata": {
            "tags": []
          },
          "execution_count": 20
        }
      ]
    },
    {
      "cell_type": "markdown",
      "metadata": {
        "id": "GlYP4amQcC6F"
      },
      "source": [
        "## 리스트에 사용할 수 있는 연산자 : in, not in"
      ]
    },
    {
      "cell_type": "code",
      "metadata": {
        "id": "QL0HzuA-cGK4",
        "outputId": "8658326c-cba2-4d92-cd91-0c0c45d9b241",
        "colab": {
          "base_uri": "https://localhost:8080/",
          "height": 35
        }
      },
      "source": [
        "1 in [1, 2, 3]"
      ],
      "execution_count": 21,
      "outputs": [
        {
          "output_type": "execute_result",
          "data": {
            "text/plain": [
              "True"
            ]
          },
          "metadata": {
            "tags": []
          },
          "execution_count": 21
        }
      ]
    },
    {
      "cell_type": "code",
      "metadata": {
        "id": "lI8j_WwucIcl",
        "outputId": "619c3bb4-a924-4314-ec4c-08e5cf78cbfb",
        "colab": {
          "base_uri": "https://localhost:8080/",
          "height": 35
        }
      },
      "source": [
        "1 not in [1, 2, 3]"
      ],
      "execution_count": 22,
      "outputs": [
        {
          "output_type": "execute_result",
          "data": {
            "text/plain": [
              "False"
            ]
          },
          "metadata": {
            "tags": []
          },
          "execution_count": 22
        }
      ]
    },
    {
      "cell_type": "code",
      "metadata": {
        "id": "pTnG8vbkcKjW",
        "outputId": "503ea943-e212-4dc9-cb81-19c703167017",
        "colab": {
          "base_uri": "https://localhost:8080/",
          "height": 35
        }
      },
      "source": [
        "100 not in [1, 2, 3]"
      ],
      "execution_count": 23,
      "outputs": [
        {
          "output_type": "execute_result",
          "data": {
            "text/plain": [
              "True"
            ]
          },
          "metadata": {
            "tags": []
          },
          "execution_count": 23
        }
      ]
    },
    {
      "cell_type": "code",
      "metadata": {
        "id": "sgefXyy1cNUI"
      },
      "source": [
        ""
      ],
      "execution_count": null,
      "outputs": []
    }
  ]
}